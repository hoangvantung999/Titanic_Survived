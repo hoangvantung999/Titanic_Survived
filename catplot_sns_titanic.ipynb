{
 "cells": [
  {
   "cell_type": "code",
   "execution_count": 1,
   "metadata": {},
   "outputs": [],
   "source": [
    "%matplotlib inline\n",
    "import numpy as np\n",
    "import matplotlib.pyplot as plt\n",
    "import seaborn as sns\n",
    "import pandas as pd\n",
    "sns.set()\n",
    "\n"
   ]
  },
  {
   "cell_type": "code",
   "execution_count": 2,
   "metadata": {},
   "outputs": [],
   "source": [
    "df_train = pd.read_csv(\"train.csv\")\n",
    "df_test = pd.read_csv(\"test.csv\")"
   ]
  },
  {
   "cell_type": "markdown",
   "metadata": {},
   "source": [
    "# PART 1: Exploratory Data Analysis"
   ]
  },
  {
   "cell_type": "code",
   "execution_count": 3,
   "metadata": {},
   "outputs": [
    {
     "data": {
      "text/html": [
       "<div>\n",
       "<style scoped>\n",
       "    .dataframe tbody tr th:only-of-type {\n",
       "        vertical-align: middle;\n",
       "    }\n",
       "\n",
       "    .dataframe tbody tr th {\n",
       "        vertical-align: top;\n",
       "    }\n",
       "\n",
       "    .dataframe thead th {\n",
       "        text-align: right;\n",
       "    }\n",
       "</style>\n",
       "<table border=\"1\" class=\"dataframe\">\n",
       "  <thead>\n",
       "    <tr style=\"text-align: right;\">\n",
       "      <th></th>\n",
       "      <th>PassengerId</th>\n",
       "      <th>Survived</th>\n",
       "      <th>Pclass</th>\n",
       "      <th>Name</th>\n",
       "      <th>Sex</th>\n",
       "      <th>Age</th>\n",
       "      <th>SibSp</th>\n",
       "      <th>Parch</th>\n",
       "      <th>Ticket</th>\n",
       "      <th>Fare</th>\n",
       "      <th>Cabin</th>\n",
       "      <th>Embarked</th>\n",
       "    </tr>\n",
       "  </thead>\n",
       "  <tbody>\n",
       "    <tr>\n",
       "      <th>0</th>\n",
       "      <td>1</td>\n",
       "      <td>0</td>\n",
       "      <td>3</td>\n",
       "      <td>Braund, Mr. Owen Harris</td>\n",
       "      <td>male</td>\n",
       "      <td>22.0</td>\n",
       "      <td>1</td>\n",
       "      <td>0</td>\n",
       "      <td>A/5 21171</td>\n",
       "      <td>7.2500</td>\n",
       "      <td>NaN</td>\n",
       "      <td>S</td>\n",
       "    </tr>\n",
       "    <tr>\n",
       "      <th>1</th>\n",
       "      <td>2</td>\n",
       "      <td>1</td>\n",
       "      <td>1</td>\n",
       "      <td>Cumings, Mrs. John Bradley (Florence Briggs Th...</td>\n",
       "      <td>female</td>\n",
       "      <td>38.0</td>\n",
       "      <td>1</td>\n",
       "      <td>0</td>\n",
       "      <td>PC 17599</td>\n",
       "      <td>71.2833</td>\n",
       "      <td>C85</td>\n",
       "      <td>C</td>\n",
       "    </tr>\n",
       "    <tr>\n",
       "      <th>2</th>\n",
       "      <td>3</td>\n",
       "      <td>1</td>\n",
       "      <td>3</td>\n",
       "      <td>Heikkinen, Miss. Laina</td>\n",
       "      <td>female</td>\n",
       "      <td>26.0</td>\n",
       "      <td>0</td>\n",
       "      <td>0</td>\n",
       "      <td>STON/O2. 3101282</td>\n",
       "      <td>7.9250</td>\n",
       "      <td>NaN</td>\n",
       "      <td>S</td>\n",
       "    </tr>\n",
       "    <tr>\n",
       "      <th>3</th>\n",
       "      <td>4</td>\n",
       "      <td>1</td>\n",
       "      <td>1</td>\n",
       "      <td>Futrelle, Mrs. Jacques Heath (Lily May Peel)</td>\n",
       "      <td>female</td>\n",
       "      <td>35.0</td>\n",
       "      <td>1</td>\n",
       "      <td>0</td>\n",
       "      <td>113803</td>\n",
       "      <td>53.1000</td>\n",
       "      <td>C123</td>\n",
       "      <td>S</td>\n",
       "    </tr>\n",
       "    <tr>\n",
       "      <th>4</th>\n",
       "      <td>5</td>\n",
       "      <td>0</td>\n",
       "      <td>3</td>\n",
       "      <td>Allen, Mr. William Henry</td>\n",
       "      <td>male</td>\n",
       "      <td>35.0</td>\n",
       "      <td>0</td>\n",
       "      <td>0</td>\n",
       "      <td>373450</td>\n",
       "      <td>8.0500</td>\n",
       "      <td>NaN</td>\n",
       "      <td>S</td>\n",
       "    </tr>\n",
       "  </tbody>\n",
       "</table>\n",
       "</div>"
      ],
      "text/plain": [
       "   PassengerId  Survived  Pclass  \\\n",
       "0            1         0       3   \n",
       "1            2         1       1   \n",
       "2            3         1       3   \n",
       "3            4         1       1   \n",
       "4            5         0       3   \n",
       "\n",
       "                                                Name     Sex   Age  SibSp  \\\n",
       "0                            Braund, Mr. Owen Harris    male  22.0      1   \n",
       "1  Cumings, Mrs. John Bradley (Florence Briggs Th...  female  38.0      1   \n",
       "2                             Heikkinen, Miss. Laina  female  26.0      0   \n",
       "3       Futrelle, Mrs. Jacques Heath (Lily May Peel)  female  35.0      1   \n",
       "4                           Allen, Mr. William Henry    male  35.0      0   \n",
       "\n",
       "   Parch            Ticket     Fare Cabin Embarked  \n",
       "0      0         A/5 21171   7.2500   NaN        S  \n",
       "1      0          PC 17599  71.2833   C85        C  \n",
       "2      0  STON/O2. 3101282   7.9250   NaN        S  \n",
       "3      0            113803  53.1000  C123        S  \n",
       "4      0            373450   8.0500   NaN        S  "
      ]
     },
     "execution_count": 3,
     "metadata": {},
     "output_type": "execute_result"
    }
   ],
   "source": [
    "df_train.head()"
   ]
  },
  {
   "cell_type": "code",
   "execution_count": 4,
   "metadata": {},
   "outputs": [
    {
     "data": {
      "text/plain": [
       "Index(['PassengerId', 'Survived', 'Pclass', 'Name', 'Sex', 'Age', 'SibSp',\n",
       "       'Parch', 'Ticket', 'Fare', 'Cabin', 'Embarked'],\n",
       "      dtype='object')"
      ]
     },
     "execution_count": 4,
     "metadata": {},
     "output_type": "execute_result"
    }
   ],
   "source": [
    "df_train.columns"
   ]
  },
  {
   "cell_type": "code",
   "execution_count": 5,
   "metadata": {},
   "outputs": [
    {
     "name": "stdout",
     "output_type": "stream",
     "text": [
      "<class 'pandas.core.frame.DataFrame'>\n",
      "RangeIndex: 891 entries, 0 to 890\n",
      "Data columns (total 12 columns):\n",
      "PassengerId    891 non-null int64\n",
      "Survived       891 non-null int64\n",
      "Pclass         891 non-null int64\n",
      "Name           891 non-null object\n",
      "Sex            891 non-null object\n",
      "Age            714 non-null float64\n",
      "SibSp          891 non-null int64\n",
      "Parch          891 non-null int64\n",
      "Ticket         891 non-null object\n",
      "Fare           891 non-null float64\n",
      "Cabin          204 non-null object\n",
      "Embarked       889 non-null object\n",
      "dtypes: float64(2), int64(5), object(5)\n",
      "memory usage: 83.6+ KB\n"
     ]
    }
   ],
   "source": [
    "df_train.info()"
   ]
  },
  {
   "cell_type": "code",
   "execution_count": 6,
   "metadata": {},
   "outputs": [
    {
     "data": {
      "text/html": [
       "<div>\n",
       "<style scoped>\n",
       "    .dataframe tbody tr th:only-of-type {\n",
       "        vertical-align: middle;\n",
       "    }\n",
       "\n",
       "    .dataframe tbody tr th {\n",
       "        vertical-align: top;\n",
       "    }\n",
       "\n",
       "    .dataframe thead th {\n",
       "        text-align: right;\n",
       "    }\n",
       "</style>\n",
       "<table border=\"1\" class=\"dataframe\">\n",
       "  <thead>\n",
       "    <tr style=\"text-align: right;\">\n",
       "      <th></th>\n",
       "      <th>PassengerId</th>\n",
       "      <th>Pclass</th>\n",
       "      <th>Name</th>\n",
       "      <th>Sex</th>\n",
       "      <th>Age</th>\n",
       "      <th>SibSp</th>\n",
       "      <th>Parch</th>\n",
       "      <th>Ticket</th>\n",
       "      <th>Fare</th>\n",
       "      <th>Cabin</th>\n",
       "      <th>Embarked</th>\n",
       "    </tr>\n",
       "  </thead>\n",
       "  <tbody>\n",
       "    <tr>\n",
       "      <th>0</th>\n",
       "      <td>892</td>\n",
       "      <td>3</td>\n",
       "      <td>Kelly, Mr. James</td>\n",
       "      <td>male</td>\n",
       "      <td>34.5</td>\n",
       "      <td>0</td>\n",
       "      <td>0</td>\n",
       "      <td>330911</td>\n",
       "      <td>7.8292</td>\n",
       "      <td>NaN</td>\n",
       "      <td>Q</td>\n",
       "    </tr>\n",
       "    <tr>\n",
       "      <th>1</th>\n",
       "      <td>893</td>\n",
       "      <td>3</td>\n",
       "      <td>Wilkes, Mrs. James (Ellen Needs)</td>\n",
       "      <td>female</td>\n",
       "      <td>47.0</td>\n",
       "      <td>1</td>\n",
       "      <td>0</td>\n",
       "      <td>363272</td>\n",
       "      <td>7.0000</td>\n",
       "      <td>NaN</td>\n",
       "      <td>S</td>\n",
       "    </tr>\n",
       "    <tr>\n",
       "      <th>2</th>\n",
       "      <td>894</td>\n",
       "      <td>2</td>\n",
       "      <td>Myles, Mr. Thomas Francis</td>\n",
       "      <td>male</td>\n",
       "      <td>62.0</td>\n",
       "      <td>0</td>\n",
       "      <td>0</td>\n",
       "      <td>240276</td>\n",
       "      <td>9.6875</td>\n",
       "      <td>NaN</td>\n",
       "      <td>Q</td>\n",
       "    </tr>\n",
       "    <tr>\n",
       "      <th>3</th>\n",
       "      <td>895</td>\n",
       "      <td>3</td>\n",
       "      <td>Wirz, Mr. Albert</td>\n",
       "      <td>male</td>\n",
       "      <td>27.0</td>\n",
       "      <td>0</td>\n",
       "      <td>0</td>\n",
       "      <td>315154</td>\n",
       "      <td>8.6625</td>\n",
       "      <td>NaN</td>\n",
       "      <td>S</td>\n",
       "    </tr>\n",
       "    <tr>\n",
       "      <th>4</th>\n",
       "      <td>896</td>\n",
       "      <td>3</td>\n",
       "      <td>Hirvonen, Mrs. Alexander (Helga E Lindqvist)</td>\n",
       "      <td>female</td>\n",
       "      <td>22.0</td>\n",
       "      <td>1</td>\n",
       "      <td>1</td>\n",
       "      <td>3101298</td>\n",
       "      <td>12.2875</td>\n",
       "      <td>NaN</td>\n",
       "      <td>S</td>\n",
       "    </tr>\n",
       "  </tbody>\n",
       "</table>\n",
       "</div>"
      ],
      "text/plain": [
       "   PassengerId  Pclass                                          Name     Sex  \\\n",
       "0          892       3                              Kelly, Mr. James    male   \n",
       "1          893       3              Wilkes, Mrs. James (Ellen Needs)  female   \n",
       "2          894       2                     Myles, Mr. Thomas Francis    male   \n",
       "3          895       3                              Wirz, Mr. Albert    male   \n",
       "4          896       3  Hirvonen, Mrs. Alexander (Helga E Lindqvist)  female   \n",
       "\n",
       "    Age  SibSp  Parch   Ticket     Fare Cabin Embarked  \n",
       "0  34.5      0      0   330911   7.8292   NaN        Q  \n",
       "1  47.0      1      0   363272   7.0000   NaN        S  \n",
       "2  62.0      0      0   240276   9.6875   NaN        Q  \n",
       "3  27.0      0      0   315154   8.6625   NaN        S  \n",
       "4  22.0      1      1  3101298  12.2875   NaN        S  "
      ]
     },
     "execution_count": 6,
     "metadata": {},
     "output_type": "execute_result"
    }
   ],
   "source": [
    "df_test.head()"
   ]
  },
  {
   "cell_type": "code",
   "execution_count": 7,
   "metadata": {},
   "outputs": [
    {
     "name": "stdout",
     "output_type": "stream",
     "text": [
      "<class 'pandas.core.frame.DataFrame'>\n",
      "RangeIndex: 418 entries, 0 to 417\n",
      "Data columns (total 11 columns):\n",
      "PassengerId    418 non-null int64\n",
      "Pclass         418 non-null int64\n",
      "Name           418 non-null object\n",
      "Sex            418 non-null object\n",
      "Age            332 non-null float64\n",
      "SibSp          418 non-null int64\n",
      "Parch          418 non-null int64\n",
      "Ticket         418 non-null object\n",
      "Fare           417 non-null float64\n",
      "Cabin          91 non-null object\n",
      "Embarked       418 non-null object\n",
      "dtypes: float64(2), int64(4), object(5)\n",
      "memory usage: 36.0+ KB\n"
     ]
    }
   ],
   "source": [
    "df_test.info()"
   ]
  },
  {
   "cell_type": "code",
   "execution_count": 8,
   "metadata": {},
   "outputs": [
    {
     "data": {
      "text/html": [
       "<div>\n",
       "<style scoped>\n",
       "    .dataframe tbody tr th:only-of-type {\n",
       "        vertical-align: middle;\n",
       "    }\n",
       "\n",
       "    .dataframe tbody tr th {\n",
       "        vertical-align: top;\n",
       "    }\n",
       "\n",
       "    .dataframe thead th {\n",
       "        text-align: right;\n",
       "    }\n",
       "</style>\n",
       "<table border=\"1\" class=\"dataframe\">\n",
       "  <thead>\n",
       "    <tr style=\"text-align: right;\">\n",
       "      <th></th>\n",
       "      <th>PassengerId</th>\n",
       "      <th>Survived</th>\n",
       "      <th>Pclass</th>\n",
       "      <th>Age</th>\n",
       "      <th>SibSp</th>\n",
       "      <th>Parch</th>\n",
       "      <th>Fare</th>\n",
       "    </tr>\n",
       "  </thead>\n",
       "  <tbody>\n",
       "    <tr>\n",
       "      <th>count</th>\n",
       "      <td>891.000000</td>\n",
       "      <td>891.000000</td>\n",
       "      <td>891.000000</td>\n",
       "      <td>714.000000</td>\n",
       "      <td>891.000000</td>\n",
       "      <td>891.000000</td>\n",
       "      <td>891.000000</td>\n",
       "    </tr>\n",
       "    <tr>\n",
       "      <th>mean</th>\n",
       "      <td>446.000000</td>\n",
       "      <td>0.383838</td>\n",
       "      <td>2.308642</td>\n",
       "      <td>29.699118</td>\n",
       "      <td>0.523008</td>\n",
       "      <td>0.381594</td>\n",
       "      <td>32.204208</td>\n",
       "    </tr>\n",
       "    <tr>\n",
       "      <th>std</th>\n",
       "      <td>257.353842</td>\n",
       "      <td>0.486592</td>\n",
       "      <td>0.836071</td>\n",
       "      <td>14.526497</td>\n",
       "      <td>1.102743</td>\n",
       "      <td>0.806057</td>\n",
       "      <td>49.693429</td>\n",
       "    </tr>\n",
       "    <tr>\n",
       "      <th>min</th>\n",
       "      <td>1.000000</td>\n",
       "      <td>0.000000</td>\n",
       "      <td>1.000000</td>\n",
       "      <td>0.420000</td>\n",
       "      <td>0.000000</td>\n",
       "      <td>0.000000</td>\n",
       "      <td>0.000000</td>\n",
       "    </tr>\n",
       "    <tr>\n",
       "      <th>25%</th>\n",
       "      <td>223.500000</td>\n",
       "      <td>0.000000</td>\n",
       "      <td>2.000000</td>\n",
       "      <td>20.125000</td>\n",
       "      <td>0.000000</td>\n",
       "      <td>0.000000</td>\n",
       "      <td>7.910400</td>\n",
       "    </tr>\n",
       "    <tr>\n",
       "      <th>50%</th>\n",
       "      <td>446.000000</td>\n",
       "      <td>0.000000</td>\n",
       "      <td>3.000000</td>\n",
       "      <td>28.000000</td>\n",
       "      <td>0.000000</td>\n",
       "      <td>0.000000</td>\n",
       "      <td>14.454200</td>\n",
       "    </tr>\n",
       "    <tr>\n",
       "      <th>75%</th>\n",
       "      <td>668.500000</td>\n",
       "      <td>1.000000</td>\n",
       "      <td>3.000000</td>\n",
       "      <td>38.000000</td>\n",
       "      <td>1.000000</td>\n",
       "      <td>0.000000</td>\n",
       "      <td>31.000000</td>\n",
       "    </tr>\n",
       "    <tr>\n",
       "      <th>max</th>\n",
       "      <td>891.000000</td>\n",
       "      <td>1.000000</td>\n",
       "      <td>3.000000</td>\n",
       "      <td>80.000000</td>\n",
       "      <td>8.000000</td>\n",
       "      <td>6.000000</td>\n",
       "      <td>512.329200</td>\n",
       "    </tr>\n",
       "  </tbody>\n",
       "</table>\n",
       "</div>"
      ],
      "text/plain": [
       "       PassengerId    Survived      Pclass         Age       SibSp  \\\n",
       "count   891.000000  891.000000  891.000000  714.000000  891.000000   \n",
       "mean    446.000000    0.383838    2.308642   29.699118    0.523008   \n",
       "std     257.353842    0.486592    0.836071   14.526497    1.102743   \n",
       "min       1.000000    0.000000    1.000000    0.420000    0.000000   \n",
       "25%     223.500000    0.000000    2.000000   20.125000    0.000000   \n",
       "50%     446.000000    0.000000    3.000000   28.000000    0.000000   \n",
       "75%     668.500000    1.000000    3.000000   38.000000    1.000000   \n",
       "max     891.000000    1.000000    3.000000   80.000000    8.000000   \n",
       "\n",
       "            Parch        Fare  \n",
       "count  891.000000  891.000000  \n",
       "mean     0.381594   32.204208  \n",
       "std      0.806057   49.693429  \n",
       "min      0.000000    0.000000  \n",
       "25%      0.000000    7.910400  \n",
       "50%      0.000000   14.454200  \n",
       "75%      0.000000   31.000000  \n",
       "max      6.000000  512.329200  "
      ]
     },
     "execution_count": 8,
     "metadata": {},
     "output_type": "execute_result"
    }
   ],
   "source": [
    "df_train.describe()"
   ]
  },
  {
   "cell_type": "code",
   "execution_count": 9,
   "metadata": {},
   "outputs": [
    {
     "data": {
      "text/html": [
       "<div>\n",
       "<style scoped>\n",
       "    .dataframe tbody tr th:only-of-type {\n",
       "        vertical-align: middle;\n",
       "    }\n",
       "\n",
       "    .dataframe tbody tr th {\n",
       "        vertical-align: top;\n",
       "    }\n",
       "\n",
       "    .dataframe thead th {\n",
       "        text-align: right;\n",
       "    }\n",
       "</style>\n",
       "<table border=\"1\" class=\"dataframe\">\n",
       "  <thead>\n",
       "    <tr style=\"text-align: right;\">\n",
       "      <th></th>\n",
       "      <th>PassengerId</th>\n",
       "      <th>Pclass</th>\n",
       "      <th>Age</th>\n",
       "      <th>SibSp</th>\n",
       "      <th>Parch</th>\n",
       "      <th>Fare</th>\n",
       "    </tr>\n",
       "  </thead>\n",
       "  <tbody>\n",
       "    <tr>\n",
       "      <th>count</th>\n",
       "      <td>418.000000</td>\n",
       "      <td>418.000000</td>\n",
       "      <td>332.000000</td>\n",
       "      <td>418.000000</td>\n",
       "      <td>418.000000</td>\n",
       "      <td>417.000000</td>\n",
       "    </tr>\n",
       "    <tr>\n",
       "      <th>mean</th>\n",
       "      <td>1100.500000</td>\n",
       "      <td>2.265550</td>\n",
       "      <td>30.272590</td>\n",
       "      <td>0.447368</td>\n",
       "      <td>0.392344</td>\n",
       "      <td>35.627188</td>\n",
       "    </tr>\n",
       "    <tr>\n",
       "      <th>std</th>\n",
       "      <td>120.810458</td>\n",
       "      <td>0.841838</td>\n",
       "      <td>14.181209</td>\n",
       "      <td>0.896760</td>\n",
       "      <td>0.981429</td>\n",
       "      <td>55.907576</td>\n",
       "    </tr>\n",
       "    <tr>\n",
       "      <th>min</th>\n",
       "      <td>892.000000</td>\n",
       "      <td>1.000000</td>\n",
       "      <td>0.170000</td>\n",
       "      <td>0.000000</td>\n",
       "      <td>0.000000</td>\n",
       "      <td>0.000000</td>\n",
       "    </tr>\n",
       "    <tr>\n",
       "      <th>25%</th>\n",
       "      <td>996.250000</td>\n",
       "      <td>1.000000</td>\n",
       "      <td>21.000000</td>\n",
       "      <td>0.000000</td>\n",
       "      <td>0.000000</td>\n",
       "      <td>7.895800</td>\n",
       "    </tr>\n",
       "    <tr>\n",
       "      <th>50%</th>\n",
       "      <td>1100.500000</td>\n",
       "      <td>3.000000</td>\n",
       "      <td>27.000000</td>\n",
       "      <td>0.000000</td>\n",
       "      <td>0.000000</td>\n",
       "      <td>14.454200</td>\n",
       "    </tr>\n",
       "    <tr>\n",
       "      <th>75%</th>\n",
       "      <td>1204.750000</td>\n",
       "      <td>3.000000</td>\n",
       "      <td>39.000000</td>\n",
       "      <td>1.000000</td>\n",
       "      <td>0.000000</td>\n",
       "      <td>31.500000</td>\n",
       "    </tr>\n",
       "    <tr>\n",
       "      <th>max</th>\n",
       "      <td>1309.000000</td>\n",
       "      <td>3.000000</td>\n",
       "      <td>76.000000</td>\n",
       "      <td>8.000000</td>\n",
       "      <td>9.000000</td>\n",
       "      <td>512.329200</td>\n",
       "    </tr>\n",
       "  </tbody>\n",
       "</table>\n",
       "</div>"
      ],
      "text/plain": [
       "       PassengerId      Pclass         Age       SibSp       Parch        Fare\n",
       "count   418.000000  418.000000  332.000000  418.000000  418.000000  417.000000\n",
       "mean   1100.500000    2.265550   30.272590    0.447368    0.392344   35.627188\n",
       "std     120.810458    0.841838   14.181209    0.896760    0.981429   55.907576\n",
       "min     892.000000    1.000000    0.170000    0.000000    0.000000    0.000000\n",
       "25%     996.250000    1.000000   21.000000    0.000000    0.000000    7.895800\n",
       "50%    1100.500000    3.000000   27.000000    0.000000    0.000000   14.454200\n",
       "75%    1204.750000    3.000000   39.000000    1.000000    0.000000   31.500000\n",
       "max    1309.000000    3.000000   76.000000    8.000000    9.000000  512.329200"
      ]
     },
     "execution_count": 9,
     "metadata": {},
     "output_type": "execute_result"
    }
   ],
   "source": [
    "df_test.describe()"
   ]
  },
  {
   "cell_type": "markdown",
   "metadata": {},
   "source": [
    "# of all passenges in df_train, How many survived, how many died?"
   ]
  },
  {
   "cell_type": "code",
   "execution_count": 10,
   "metadata": {},
   "outputs": [
    {
     "data": {
      "text/plain": [
       "<matplotlib.axes._subplots.AxesSubplot at 0x1f28188df28>"
      ]
     },
     "execution_count": 10,
     "metadata": {},
     "output_type": "execute_result"
    },
    {
     "data": {
      "image/png": "[encoded data removed]",
      "text/plain": [
       "<matplotlib.figure.Figure at 0x1f2fe1b0c18>"
      ]
     },
     "metadata": {},
     "output_type": "display_data"
    }
   ],
   "source": [
    "sns.countplot(x=\"Survived\", data = df_train)"
   ]
  },
  {
   "cell_type": "code",
   "execution_count": 11,
   "metadata": {},
   "outputs": [
    {
     "name": "stdout",
     "output_type": "stream",
     "text": [
      "0.3838383838383838\n"
     ]
    }
   ],
   "source": [
    "print(df_train.Survived.sum()/df_train.Survived.count())"
   ]
  },
  {
   "cell_type": "code",
   "execution_count": 12,
   "metadata": {},
   "outputs": [],
   "source": [
    "#df_test['Survived'] = 0\n",
    "#df_test[['PassengerId', 'Survived']].to_csv('no_survivors.csv', index = False)"
   ]
  },
  {
   "cell_type": "markdown",
   "metadata": {},
   "source": [
    "# Sex: Female more likely to survive than male\n"
   ]
  },
  {
   "cell_type": "code",
   "execution_count": 13,
   "metadata": {},
   "outputs": [
    {
     "data": {
      "text/plain": [
       "Survived  Sex   \n",
       "0         female     81\n",
       "          male      468\n",
       "1         female    233\n",
       "          male      109\n",
       "Name: Survived, dtype: int64"
      ]
     },
     "execution_count": 13,
     "metadata": {},
     "output_type": "execute_result"
    }
   ],
   "source": [
    "df_train.groupby(['Survived','Sex'])['Survived'].count()"
   ]
  },
  {
   "cell_type": "code",
   "execution_count": 14,
   "metadata": {},
   "outputs": [
    {
     "data": {
      "text/plain": [
       "<seaborn.axisgrid.FacetGrid at 0x1f28188deb8>"
      ]
     },
     "execution_count": 14,
     "metadata": {},
     "output_type": "execute_result"
    },
    {
     "data": {
      "image/png": "[encoded data removed]",
      "text/plain": [
       "<matplotlib.figure.Figure at 0x1f2818f9278>"
      ]
     },
     "metadata": {},
     "output_type": "display_data"
    }
   ],
   "source": [
    "sns.factorplot(x = 'Sex', col='Survived', kind ='count', data=df_train)"
   ]
  },
  {
   "cell_type": "code",
   "execution_count": 15,
   "metadata": {},
   "outputs": [
    {
     "name": "stdout",
     "output_type": "stream",
     "text": [
      "% of women survived:  0.7420382165605095\n",
      "% of men survived:  0.18890814558058924\n"
     ]
    }
   ],
   "source": [
    "print('% of women survived: ', df_train[df_train.Sex=='female'].Survived.sum()/df_train[df_train.Sex=='female'].Survived.count())\n",
    "print('% of men survived: ', df_train[df_train.Sex=='male'].Survived.sum()/df_train[df_train.Sex=='male'].Survived.count())"
   ]
  },
  {
   "cell_type": "code",
   "execution_count": 16,
   "metadata": {},
   "outputs": [
    {
     "data": {
      "image/png": "[encoded data removed]",
      "text/plain": [
       "<matplotlib.figure.Figure at 0x1f2818a5e48>"
      ]
     },
     "metadata": {},
     "output_type": "display_data"
    }
   ],
   "source": [
    "f,ax = plt.subplots(1,2,figsize=(16,7))\n",
    "df_train['Survived'][df_train['Sex'] =='male'].value_counts().plot.pie(explode=[0,0.2],autopct='%1.1f%%', ax=ax[0],shadow=True)\n",
    "df_train['Survived'][df_train['Sex'] =='female'].value_counts().plot.pie(explode=[0,0.2],autopct='%1.f%%', ax=ax[1],shadow=True)\n",
    "ax[0].set_title('Survived (male)')\n",
    "ax[1].set_title('Survived (female)')\n",
    "plt.show()"
   ]
  },
  {
   "cell_type": "markdown",
   "metadata": {},
   "source": [
    "### Women wer more likely to survive than men\n",
    "### 74% of women survived but only 19% of men (in training set)\n",
    "### second model: all women survived and all men died\n",
    "### submission : 0.766 accuracy"
   ]
  },
  {
   "cell_type": "code",
   "execution_count": 17,
   "metadata": {},
   "outputs": [
    {
     "data": {
      "text/html": [
       "<style  type=\"text/css\" >\n",
       "    #T_37b523fa_e6f5_11e8_bd85_00242c20d943row0_col0 {\n",
       "            background-color:  #ffff00;\n",
       "        }    #T_37b523fa_e6f5_11e8_bd85_00242c20d943row0_col1 {\n",
       "            background-color:  #ffce00;\n",
       "        }    #T_37b523fa_e6f5_11e8_bd85_00242c20d943row0_col2 {\n",
       "            background-color:  #fff400;\n",
       "        }    #T_37b523fa_e6f5_11e8_bd85_00242c20d943row1_col0 {\n",
       "            background-color:  #fff600;\n",
       "        }    #T_37b523fa_e6f5_11e8_bd85_00242c20d943row1_col1 {\n",
       "            background-color:  #ffff00;\n",
       "        }    #T_37b523fa_e6f5_11e8_bd85_00242c20d943row1_col2 {\n",
       "            background-color:  #ffff00;\n",
       "        }    #T_37b523fa_e6f5_11e8_bd85_00242c20d943row2_col0 {\n",
       "            background-color:  #ff6000;\n",
       "        }    #T_37b523fa_e6f5_11e8_bd85_00242c20d943row2_col1 {\n",
       "            background-color:  #ffdf00;\n",
       "        }    #T_37b523fa_e6f5_11e8_bd85_00242c20d943row2_col2 {\n",
       "            background-color:  #ff9000;\n",
       "        }    #T_37b523fa_e6f5_11e8_bd85_00242c20d943row3_col0 {\n",
       "            background-color:  #ff0000;\n",
       "        }    #T_37b523fa_e6f5_11e8_bd85_00242c20d943row3_col1 {\n",
       "            background-color:  #ff0000;\n",
       "        }    #T_37b523fa_e6f5_11e8_bd85_00242c20d943row3_col2 {\n",
       "            background-color:  #ff0000;\n",
       "        }</style>  \n",
       "<table id=\"T_37b523fa_e6f5_11e8_bd85_00242c20d943\" > \n",
       "<thead>    <tr> \n",
       "        <th class=\"index_name level0\" >Survived</th> \n",
       "        <th class=\"col_heading level0 col0\" >0</th> \n",
       "        <th class=\"col_heading level0 col1\" >1</th> \n",
       "        <th class=\"col_heading level0 col2\" >All</th> \n",
       "    </tr>    <tr> \n",
       "        <th class=\"index_name level0\" >Pclass</th> \n",
       "        <th class=\"blank\" ></th> \n",
       "        <th class=\"blank\" ></th> \n",
       "        <th class=\"blank\" ></th> \n",
       "    </tr></thead> \n",
       "<tbody>    <tr> \n",
       "        <th id=\"T_37b523fa_e6f5_11e8_bd85_00242c20d943level0_row0\" class=\"row_heading level0 row0\" >1</th> \n",
       "        <td id=\"T_37b523fa_e6f5_11e8_bd85_00242c20d943row0_col0\" class=\"data row0 col0\" >80</td> \n",
       "        <td id=\"T_37b523fa_e6f5_11e8_bd85_00242c20d943row0_col1\" class=\"data row0 col1\" >136</td> \n",
       "        <td id=\"T_37b523fa_e6f5_11e8_bd85_00242c20d943row0_col2\" class=\"data row0 col2\" >216</td> \n",
       "    </tr>    <tr> \n",
       "        <th id=\"T_37b523fa_e6f5_11e8_bd85_00242c20d943level0_row1\" class=\"row_heading level0 row1\" >2</th> \n",
       "        <td id=\"T_37b523fa_e6f5_11e8_bd85_00242c20d943row1_col0\" class=\"data row1 col0\" >97</td> \n",
       "        <td id=\"T_37b523fa_e6f5_11e8_bd85_00242c20d943row1_col1\" class=\"data row1 col1\" >87</td> \n",
       "        <td id=\"T_37b523fa_e6f5_11e8_bd85_00242c20d943row1_col2\" class=\"data row1 col2\" >184</td> \n",
       "    </tr>    <tr> \n",
       "        <th id=\"T_37b523fa_e6f5_11e8_bd85_00242c20d943level0_row2\" class=\"row_heading level0 row2\" >3</th> \n",
       "        <td id=\"T_37b523fa_e6f5_11e8_bd85_00242c20d943row2_col0\" class=\"data row2 col0\" >372</td> \n",
       "        <td id=\"T_37b523fa_e6f5_11e8_bd85_00242c20d943row2_col1\" class=\"data row2 col1\" >119</td> \n",
       "        <td id=\"T_37b523fa_e6f5_11e8_bd85_00242c20d943row2_col2\" class=\"data row2 col2\" >491</td> \n",
       "    </tr>    <tr> \n",
       "        <th id=\"T_37b523fa_e6f5_11e8_bd85_00242c20d943level0_row3\" class=\"row_heading level0 row3\" >All</th> \n",
       "        <td id=\"T_37b523fa_e6f5_11e8_bd85_00242c20d943row3_col0\" class=\"data row3 col0\" >549</td> \n",
       "        <td id=\"T_37b523fa_e6f5_11e8_bd85_00242c20d943row3_col1\" class=\"data row3 col1\" >342</td> \n",
       "        <td id=\"T_37b523fa_e6f5_11e8_bd85_00242c20d943row3_col2\" class=\"data row3 col2\" >891</td> \n",
       "    </tr></tbody> \n",
       "</table> "
      ],
      "text/plain": [
       "<pandas.io.formats.style.Styler at 0x1f281900f28>"
      ]
     },
     "execution_count": 17,
     "metadata": {},
     "output_type": "execute_result"
    }
   ],
   "source": [
    "# passenger Class: Survival rate decreases with Pclass\n",
    "\n",
    "pd.crosstab(df_train.Pclass, df_train.Survived,margins=True).style.background_gradient(cmap='autumn_r')"
   ]
  },
  {
   "cell_type": "code",
   "execution_count": 18,
   "metadata": {},
   "outputs": [
    {
     "name": "stdout",
     "output_type": "stream",
     "text": [
      "% of survivals in\n",
      "Pclass=1 :  0.6296296296296297\n",
      "Pclass=2 :  0.47282608695652173\n",
      "Pclass=3 :  0.24236252545824846\n"
     ]
    }
   ],
   "source": [
    "print('% of survivals in')\n",
    "print('Pclass=1 : ', df_train.Survived[df_train.Pclass==1].sum()/df_train[df_train.Pclass==1].Survived.count())\n",
    "print('Pclass=2 : ', df_train.Survived[df_train.Pclass==2].sum()/df_train[df_train.Pclass==2].Survived.count())\n",
    "print('Pclass=3 : ', df_train.Survived[df_train.Pclass==3].sum()/df_train[df_train.Pclass==3].Survived.count())"
   ]
  },
  {
   "cell_type": "code",
   "execution_count": 19,
   "metadata": {},
   "outputs": [
    {
     "data": {
      "text/plain": [
       "<seaborn.axisgrid.FacetGrid at 0x1f281a910f0>"
      ]
     },
     "execution_count": 19,
     "metadata": {},
     "output_type": "execute_result"
    },
    {
     "data": {
      "image/png": "[encoded data removed]",
      "text/plain": [
       "<matplotlib.figure.Figure at 0x1f2819bcb38>"
      ]
     },
     "metadata": {},
     "output_type": "display_data"
    }
   ],
   "source": [
    "sns.factorplot('Pclass', 'Survived', kind='point', data=df_train)"
   ]
  },
  {
   "cell_type": "markdown",
   "metadata": {},
   "source": [
    "#### passenger Class and Sex:\n",
    "#### Almost all women in Pclass 1 and 2 survived and nearly all men in Pclass 2 and 3 died"
   ]
  },
  {
   "cell_type": "code",
   "execution_count": 20,
   "metadata": {},
   "outputs": [
    {
     "data": {
      "text/html": [
       "<style  type=\"text/css\" >\n",
       "    #T_37fb0086_e6f5_11e8_b147_00242c20d943row0_col0 {\n",
       "            background-color:  #ffff00;\n",
       "        }    #T_37fb0086_e6f5_11e8_b147_00242c20d943row0_col1 {\n",
       "            background-color:  #ffff00;\n",
       "        }    #T_37fb0086_e6f5_11e8_b147_00242c20d943row0_col2 {\n",
       "            background-color:  #fff100;\n",
       "        }    #T_37fb0086_e6f5_11e8_b147_00242c20d943row0_col3 {\n",
       "            background-color:  #ffff00;\n",
       "        }    #T_37fb0086_e6f5_11e8_b147_00242c20d943row1_col0 {\n",
       "            background-color:  #ff9600;\n",
       "        }    #T_37fb0086_e6f5_11e8_b147_00242c20d943row1_col1 {\n",
       "            background-color:  #ffa300;\n",
       "        }    #T_37fb0086_e6f5_11e8_b147_00242c20d943row1_col2 {\n",
       "            background-color:  #fff100;\n",
       "        }    #T_37fb0086_e6f5_11e8_b147_00242c20d943row1_col3 {\n",
       "            background-color:  #ffcf00;\n",
       "        }    #T_37fb0086_e6f5_11e8_b147_00242c20d943row2_col0 {\n",
       "            background-color:  #ffa700;\n",
       "        }    #T_37fb0086_e6f5_11e8_b147_00242c20d943row2_col1 {\n",
       "            background-color:  #ff8500;\n",
       "        }    #T_37fb0086_e6f5_11e8_b147_00242c20d943row2_col2 {\n",
       "            background-color:  #ff6e00;\n",
       "        }    #T_37fb0086_e6f5_11e8_b147_00242c20d943row2_col3 {\n",
       "            background-color:  #ff8500;\n",
       "        }    #T_37fb0086_e6f5_11e8_b147_00242c20d943row3_col0 {\n",
       "            background-color:  #ffcd00;\n",
       "        }    #T_37fb0086_e6f5_11e8_b147_00242c20d943row3_col1 {\n",
       "            background-color:  #fff000;\n",
       "        }    #T_37fb0086_e6f5_11e8_b147_00242c20d943row3_col2 {\n",
       "            background-color:  #ffff00;\n",
       "        }    #T_37fb0086_e6f5_11e8_b147_00242c20d943row3_col3 {\n",
       "            background-color:  #fff700;\n",
       "        }    #T_37fb0086_e6f5_11e8_b147_00242c20d943row4_col0 {\n",
       "            background-color:  #ff0000;\n",
       "        }    #T_37fb0086_e6f5_11e8_b147_00242c20d943row4_col1 {\n",
       "            background-color:  #ff0000;\n",
       "        }    #T_37fb0086_e6f5_11e8_b147_00242c20d943row4_col2 {\n",
       "            background-color:  #ff0000;\n",
       "        }    #T_37fb0086_e6f5_11e8_b147_00242c20d943row4_col3 {\n",
       "            background-color:  #ff0000;\n",
       "        }</style>  \n",
       "<table id=\"T_37fb0086_e6f5_11e8_b147_00242c20d943\" > \n",
       "<thead>    <tr> \n",
       "        <th class=\"blank\" ></th> \n",
       "        <th class=\"index_name level0\" >Pclass</th> \n",
       "        <th class=\"col_heading level0 col0\" >1</th> \n",
       "        <th class=\"col_heading level0 col1\" >2</th> \n",
       "        <th class=\"col_heading level0 col2\" >3</th> \n",
       "        <th class=\"col_heading level0 col3\" >All</th> \n",
       "    </tr>    <tr> \n",
       "        <th class=\"index_name level0\" >Sex</th> \n",
       "        <th class=\"index_name level1\" >Survived</th> \n",
       "        <th class=\"blank\" ></th> \n",
       "        <th class=\"blank\" ></th> \n",
       "        <th class=\"blank\" ></th> \n",
       "        <th class=\"blank\" ></th> \n",
       "    </tr></thead> \n",
       "<tbody>    <tr> \n",
       "        <th id=\"T_37fb0086_e6f5_11e8_b147_00242c20d943level0_row0\" class=\"row_heading level0 row0\" rowspan=2>female</th> \n",
       "        <th id=\"T_37fb0086_e6f5_11e8_b147_00242c20d943level1_row0\" class=\"row_heading level1 row0\" >0</th> \n",
       "        <td id=\"T_37fb0086_e6f5_11e8_b147_00242c20d943row0_col0\" class=\"data row0 col0\" >3</td> \n",
       "        <td id=\"T_37fb0086_e6f5_11e8_b147_00242c20d943row0_col1\" class=\"data row0 col1\" >6</td> \n",
       "        <td id=\"T_37fb0086_e6f5_11e8_b147_00242c20d943row0_col2\" class=\"data row0 col2\" >72</td> \n",
       "        <td id=\"T_37fb0086_e6f5_11e8_b147_00242c20d943row0_col3\" class=\"data row0 col3\" >81</td> \n",
       "    </tr>    <tr> \n",
       "        <th id=\"T_37fb0086_e6f5_11e8_b147_00242c20d943level1_row1\" class=\"row_heading level1 row1\" >1</th> \n",
       "        <td id=\"T_37fb0086_e6f5_11e8_b147_00242c20d943row1_col0\" class=\"data row1 col0\" >91</td> \n",
       "        <td id=\"T_37fb0086_e6f5_11e8_b147_00242c20d943row1_col1\" class=\"data row1 col1\" >70</td> \n",
       "        <td id=\"T_37fb0086_e6f5_11e8_b147_00242c20d943row1_col2\" class=\"data row1 col2\" >72</td> \n",
       "        <td id=\"T_37fb0086_e6f5_11e8_b147_00242c20d943row1_col3\" class=\"data row1 col3\" >233</td> \n",
       "    </tr>    <tr> \n",
       "        <th id=\"T_37fb0086_e6f5_11e8_b147_00242c20d943level0_row2\" class=\"row_heading level0 row2\" rowspan=2>male</th> \n",
       "        <th id=\"T_37fb0086_e6f5_11e8_b147_00242c20d943level1_row2\" class=\"row_heading level1 row2\" >0</th> \n",
       "        <td id=\"T_37fb0086_e6f5_11e8_b147_00242c20d943row2_col0\" class=\"data row2 col0\" >77</td> \n",
       "        <td id=\"T_37fb0086_e6f5_11e8_b147_00242c20d943row2_col1\" class=\"data row2 col1\" >91</td> \n",
       "        <td id=\"T_37fb0086_e6f5_11e8_b147_00242c20d943row2_col2\" class=\"data row2 col2\" >300</td> \n",
       "        <td id=\"T_37fb0086_e6f5_11e8_b147_00242c20d943row2_col3\" class=\"data row2 col3\" >468</td> \n",
       "    </tr>    <tr> \n",
       "        <th id=\"T_37fb0086_e6f5_11e8_b147_00242c20d943level1_row3\" class=\"row_heading level1 row3\" >1</th> \n",
       "        <td id=\"T_37fb0086_e6f5_11e8_b147_00242c20d943row3_col0\" class=\"data row3 col0\" >45</td> \n",
       "        <td id=\"T_37fb0086_e6f5_11e8_b147_00242c20d943row3_col1\" class=\"data row3 col1\" >17</td> \n",
       "        <td id=\"T_37fb0086_e6f5_11e8_b147_00242c20d943row3_col2\" class=\"data row3 col2\" >47</td> \n",
       "        <td id=\"T_37fb0086_e6f5_11e8_b147_00242c20d943row3_col3\" class=\"data row3 col3\" >109</td> \n",
       "    </tr>    <tr> \n",
       "        <th id=\"T_37fb0086_e6f5_11e8_b147_00242c20d943level0_row4\" class=\"row_heading level0 row4\" >All</th> \n",
       "        <th id=\"T_37fb0086_e6f5_11e8_b147_00242c20d943level1_row4\" class=\"row_heading level1 row4\" ></th> \n",
       "        <td id=\"T_37fb0086_e6f5_11e8_b147_00242c20d943row4_col0\" class=\"data row4 col0\" >216</td> \n",
       "        <td id=\"T_37fb0086_e6f5_11e8_b147_00242c20d943row4_col1\" class=\"data row4 col1\" >184</td> \n",
       "        <td id=\"T_37fb0086_e6f5_11e8_b147_00242c20d943row4_col2\" class=\"data row4 col2\" >491</td> \n",
       "        <td id=\"T_37fb0086_e6f5_11e8_b147_00242c20d943row4_col3\" class=\"data row4 col3\" >891</td> \n",
       "    </tr></tbody> \n",
       "</table> "
      ],
      "text/plain": [
       "<pandas.io.formats.style.Styler at 0x1f281884e10>"
      ]
     },
     "execution_count": 20,
     "metadata": {},
     "output_type": "execute_result"
    }
   ],
   "source": [
    "pd.crosstab([df_train.Sex, df_train.Survived], df_train.Pclass, margins=True).style.background_gradient(cmap='autumn_r')"
   ]
  },
  {
   "cell_type": "code",
   "execution_count": 21,
   "metadata": {},
   "outputs": [
    {
     "data": {
      "text/plain": [
       "<seaborn.axisgrid.FacetGrid at 0x1f281a4abe0>"
      ]
     },
     "execution_count": 21,
     "metadata": {},
     "output_type": "execute_result"
    },
    {
     "data": {
      "image/png": "[encoded data removed]",
      "text/plain": [
       "<matplotlib.figure.Figure at 0x1f281990588>"
      ]
     },
     "metadata": {},
     "output_type": "display_data"
    }
   ],
   "source": [
    "sns.factorplot('Pclass', 'Survived', hue = 'Sex', kind = 'point', data = df_train)"
   ]
  },
  {
   "cell_type": "markdown",
   "metadata": {},
   "source": [
    "##### Embarked: Survival rate lowest fo S and highest for C\n"
   ]
  },
  {
   "cell_type": "code",
   "execution_count": 22,
   "metadata": {},
   "outputs": [
    {
     "data": {
      "text/plain": [
       "<seaborn.axisgrid.FacetGrid at 0x1f281baa518>"
      ]
     },
     "execution_count": 22,
     "metadata": {},
     "output_type": "execute_result"
    },
    {
     "data": {
      "image/png": "[encoded data removed]",
      "text/plain": [
       "<matplotlib.figure.Figure at 0x1f281b86278>"
      ]
     },
     "metadata": {},
     "output_type": "display_data"
    }
   ],
   "source": [
    "sns.factorplot(x='Survived', col='Embarked', kind='count',data=df_train)"
   ]
  },
  {
   "cell_type": "code",
   "execution_count": 23,
   "metadata": {},
   "outputs": [
    {
     "data": {
      "text/plain": [
       "<seaborn.axisgrid.FacetGrid at 0x1f281cc1668>"
      ]
     },
     "execution_count": 23,
     "metadata": {},
     "output_type": "execute_result"
    },
    {
     "data": {
      "image/png": "[encoded data removed]",
      "text/plain": [
       "<matplotlib.figure.Figure at 0x1f281cf8780>"
      ]
     },
     "metadata": {},
     "output_type": "display_data"
    }
   ],
   "source": [
    "sns.factorplot('Survived','Embarked',kind='point',data=df_train)"
   ]
  },
  {
   "cell_type": "markdown",
   "metadata": {},
   "source": [
    "##### Embarked an Sex"
   ]
  },
  {
   "cell_type": "code",
   "execution_count": 24,
   "metadata": {},
   "outputs": [
    {
     "data": {
      "image/png": "[encoded data removed]",
      "text/plain": [
       "<matplotlib.figure.Figure at 0x1f281d1b668>"
      ]
     },
     "metadata": {},
     "output_type": "display_data"
    }
   ],
   "source": [
    "sns.factorplot('Embarked','Survived', hue = 'Sex', kind = 'point', data=df_train)\n",
    "plt.show()"
   ]
  },
  {
   "cell_type": "markdown",
   "metadata": {},
   "source": [
    "##### Embarked, Pclass, and Sex:\n",
    "##### Practically all women of Pclass 2 tha tembarked in C and Q survived, also nearly all women of Pclass 1 survived.\n",
    "##### All men of Pclass 1 and 2 embarked in Q died, survival rate for men in Pclass 2 and 3 is always below 0.2\n",
    "##### For the remaining men in Pclass 1 that embarked in S and Q, survival rate is approx 0.4\n",
    "  "
   ]
  },
  {
   "cell_type": "code",
   "execution_count": 25,
   "metadata": {},
   "outputs": [
    {
     "data": {
      "text/plain": [
       "<seaborn.axisgrid.FacetGrid at 0x1f281f22630>"
      ]
     },
     "execution_count": 25,
     "metadata": {},
     "output_type": "execute_result"
    },
    {
     "data": {
      "image/png": "[encoded data removed]",
      "text/plain": [
       "<matplotlib.figure.Figure at 0x1f281f06e10>"
      ]
     },
     "metadata": {},
     "output_type": "display_data"
    }
   ],
   "source": [
    "sns.factorplot('Embarked',\"Survived\",col = \"Pclass\",hue = 'Sex', kind = 'point' , data = df_train)"
   ]
  },
  {
   "cell_type": "code",
   "execution_count": 26,
   "metadata": {},
   "outputs": [
    {
     "data": {
      "text/html": [
       "<div>\n",
       "<style scoped>\n",
       "    .dataframe tbody tr th:only-of-type {\n",
       "        vertical-align: middle;\n",
       "    }\n",
       "\n",
       "    .dataframe tbody tr th {\n",
       "        vertical-align: top;\n",
       "    }\n",
       "\n",
       "    .dataframe thead tr th {\n",
       "        text-align: left;\n",
       "    }\n",
       "\n",
       "    .dataframe thead tr:last-of-type th {\n",
       "        text-align: right;\n",
       "    }\n",
       "</style>\n",
       "<table border=\"1\" class=\"dataframe\">\n",
       "  <thead>\n",
       "    <tr>\n",
       "      <th>Sex</th>\n",
       "      <th colspan=\"9\" halign=\"left\">female</th>\n",
       "      <th colspan=\"9\" halign=\"left\">male</th>\n",
       "      <th>All</th>\n",
       "    </tr>\n",
       "    <tr>\n",
       "      <th>Pclass</th>\n",
       "      <th colspan=\"3\" halign=\"left\">1</th>\n",
       "      <th colspan=\"3\" halign=\"left\">2</th>\n",
       "      <th colspan=\"3\" halign=\"left\">3</th>\n",
       "      <th colspan=\"3\" halign=\"left\">1</th>\n",
       "      <th colspan=\"3\" halign=\"left\">2</th>\n",
       "      <th colspan=\"3\" halign=\"left\">3</th>\n",
       "      <th></th>\n",
       "    </tr>\n",
       "    <tr>\n",
       "      <th>Embarked</th>\n",
       "      <th>C</th>\n",
       "      <th>Q</th>\n",
       "      <th>S</th>\n",
       "      <th>C</th>\n",
       "      <th>Q</th>\n",
       "      <th>S</th>\n",
       "      <th>C</th>\n",
       "      <th>Q</th>\n",
       "      <th>S</th>\n",
       "      <th>C</th>\n",
       "      <th>Q</th>\n",
       "      <th>S</th>\n",
       "      <th>C</th>\n",
       "      <th>Q</th>\n",
       "      <th>S</th>\n",
       "      <th>C</th>\n",
       "      <th>Q</th>\n",
       "      <th>S</th>\n",
       "      <th></th>\n",
       "    </tr>\n",
       "    <tr>\n",
       "      <th>Survived</th>\n",
       "      <th></th>\n",
       "      <th></th>\n",
       "      <th></th>\n",
       "      <th></th>\n",
       "      <th></th>\n",
       "      <th></th>\n",
       "      <th></th>\n",
       "      <th></th>\n",
       "      <th></th>\n",
       "      <th></th>\n",
       "      <th></th>\n",
       "      <th></th>\n",
       "      <th></th>\n",
       "      <th></th>\n",
       "      <th></th>\n",
       "      <th></th>\n",
       "      <th></th>\n",
       "      <th></th>\n",
       "      <th></th>\n",
       "    </tr>\n",
       "  </thead>\n",
       "  <tbody>\n",
       "    <tr>\n",
       "      <th>0</th>\n",
       "      <td>1</td>\n",
       "      <td>0</td>\n",
       "      <td>2</td>\n",
       "      <td>0</td>\n",
       "      <td>0</td>\n",
       "      <td>6</td>\n",
       "      <td>8</td>\n",
       "      <td>9</td>\n",
       "      <td>55</td>\n",
       "      <td>25</td>\n",
       "      <td>1</td>\n",
       "      <td>51</td>\n",
       "      <td>8</td>\n",
       "      <td>1</td>\n",
       "      <td>82</td>\n",
       "      <td>33</td>\n",
       "      <td>36</td>\n",
       "      <td>231</td>\n",
       "      <td>549</td>\n",
       "    </tr>\n",
       "    <tr>\n",
       "      <th>1</th>\n",
       "      <td>42</td>\n",
       "      <td>1</td>\n",
       "      <td>46</td>\n",
       "      <td>7</td>\n",
       "      <td>2</td>\n",
       "      <td>61</td>\n",
       "      <td>15</td>\n",
       "      <td>24</td>\n",
       "      <td>33</td>\n",
       "      <td>17</td>\n",
       "      <td>0</td>\n",
       "      <td>28</td>\n",
       "      <td>2</td>\n",
       "      <td>0</td>\n",
       "      <td>15</td>\n",
       "      <td>10</td>\n",
       "      <td>3</td>\n",
       "      <td>34</td>\n",
       "      <td>340</td>\n",
       "    </tr>\n",
       "    <tr>\n",
       "      <th>All</th>\n",
       "      <td>43</td>\n",
       "      <td>1</td>\n",
       "      <td>48</td>\n",
       "      <td>7</td>\n",
       "      <td>2</td>\n",
       "      <td>67</td>\n",
       "      <td>23</td>\n",
       "      <td>33</td>\n",
       "      <td>88</td>\n",
       "      <td>42</td>\n",
       "      <td>1</td>\n",
       "      <td>79</td>\n",
       "      <td>10</td>\n",
       "      <td>1</td>\n",
       "      <td>97</td>\n",
       "      <td>43</td>\n",
       "      <td>39</td>\n",
       "      <td>265</td>\n",
       "      <td>889</td>\n",
       "    </tr>\n",
       "  </tbody>\n",
       "</table>\n",
       "</div>"
      ],
      "text/plain": [
       "Sex      female                              male                            \\\n",
       "Pclass        1         2          3            1          2          3       \n",
       "Embarked      C  Q   S  C  Q   S   C   Q   S    C  Q   S   C  Q   S   C   Q   \n",
       "Survived                                                                      \n",
       "0             1  0   2  0  0   6   8   9  55   25  1  51   8  1  82  33  36   \n",
       "1            42  1  46  7  2  61  15  24  33   17  0  28   2  0  15  10   3   \n",
       "All          43  1  48  7  2  67  23  33  88   42  1  79  10  1  97  43  39   \n",
       "\n",
       "Sex            All  \n",
       "Pclass              \n",
       "Embarked    S       \n",
       "Survived            \n",
       "0         231  549  \n",
       "1          34  340  \n",
       "All       265  889  "
      ]
     },
     "execution_count": 26,
     "metadata": {},
     "output_type": "execute_result"
    }
   ],
   "source": [
    "pd.crosstab([df_train.Survived],[df_train.Sex, df_train.Pclass, df_train.Embarked], margins=True)"
   ]
  },
  {
   "cell_type": "code",
   "execution_count": 27,
   "metadata": {},
   "outputs": [],
   "source": [
    "# model 3\n",
    "df_test['Survived'] = 0\n",
    "# all women survived\n",
    "df_test.loc[ (df_test.Sex == 'female'), 'Survived'] = 1\n",
    "# except for those in Pclass 3 and embarked in S\n",
    "df_test.loc[ (df_test.Sex == 'female') & (df_test.Pclass == 3) & (df_test.Embarked == 'S') , 'Survived'] = 0\n",
    "#df_test[['PassengerId', 'Survived']].to_csv('embarked_pclass_sex.csv', index=False)"
   ]
  },
  {
   "cell_type": "code",
   "execution_count": 28,
   "metadata": {},
   "outputs": [],
   "source": [
    "df = pd.read_csv('embarked_pclass_sex.csv')"
   ]
  },
  {
   "cell_type": "code",
   "execution_count": 29,
   "metadata": {},
   "outputs": [
    {
     "data": {
      "text/plain": [
       "0.26555023923444976"
      ]
     },
     "execution_count": 29,
     "metadata": {},
     "output_type": "execute_result"
    }
   ],
   "source": [
    "df.Survived.sum()/df.Survived.count()"
   ]
  },
  {
   "cell_type": "markdown",
   "metadata": {},
   "source": [
    "#### Age: continunous numerical to 8 bins\n"
   ]
  },
  {
   "cell_type": "code",
   "execution_count": 30,
   "metadata": {},
   "outputs": [],
   "source": [
    "for df in [df_train,df_test]:\n",
    "    df['Age_bin'] = np.nan\n",
    "    for i in range(8,0,-1):\n",
    "        df.loc[df['Age'] <= i*10, 'Age_bin'] = i"
   ]
  },
  {
   "cell_type": "code",
   "execution_count": 31,
   "metadata": {},
   "outputs": [
    {
     "name": "stdout",
     "output_type": "stream",
     "text": [
      "    Age  Age_bin\n",
      "0  22.0      3.0\n",
      "1  38.0      4.0\n",
      "2  26.0      3.0\n",
      "3  35.0      4.0\n",
      "4  35.0      4.0\n"
     ]
    }
   ],
   "source": [
    "print(df_train[['Age', 'Age_bin']].head())"
   ]
  },
  {
   "cell_type": "code",
   "execution_count": 32,
   "metadata": {},
   "outputs": [
    {
     "data": {
      "image/png": "[encoded data removed]",
      "text/plain": [
       "<matplotlib.figure.Figure at 0x1f2820ac518>"
      ]
     },
     "metadata": {},
     "output_type": "display_data"
    }
   ],
   "source": [
    "sns.factorplot('Age_bin','Survived', hue='Sex', kind='point', data=df_train)\n",
    "plt.show()"
   ]
  },
  {
   "cell_type": "code",
   "execution_count": 33,
   "metadata": {},
   "outputs": [
    {
     "data": {
      "text/plain": [
       "<seaborn.axisgrid.FacetGrid at 0x1f281bcb4a8>"
      ]
     },
     "execution_count": 33,
     "metadata": {},
     "output_type": "execute_result"
    },
    {
     "data": {
      "image/png": "[encoded data removed]",
      "text/plain": [
       "<matplotlib.figure.Figure at 0x1f282121630>"
      ]
     },
     "metadata": {},
     "output_type": "display_data"
    }
   ],
   "source": [
    "sns.factorplot('Age_bin','Survived',col='Pclass', row = 'Sex', kind = 'point', data = df_train)"
   ]
  },
  {
   "cell_type": "code",
   "execution_count": 34,
   "metadata": {},
   "outputs": [
    {
     "data": {
      "text/html": [
       "<style  type=\"text/css\" >\n",
       "    #T_3be82f18_e6f5_11e8_a1a7_00242c20d943row0_col0 {\n",
       "            background-color:  #ffaa00;\n",
       "        }    #T_3be82f18_e6f5_11e8_a1a7_00242c20d943row0_col1 {\n",
       "            background-color:  #ffff00;\n",
       "        }    #T_3be82f18_e6f5_11e8_a1a7_00242c20d943row0_col2 {\n",
       "            background-color:  #ffea00;\n",
       "        }    #T_3be82f18_e6f5_11e8_a1a7_00242c20d943row0_col3 {\n",
       "            background-color:  #ffff00;\n",
       "        }    #T_3be82f18_e6f5_11e8_a1a7_00242c20d943row0_col4 {\n",
       "            background-color:  #ffff00;\n",
       "        }    #T_3be82f18_e6f5_11e8_a1a7_00242c20d943row0_col5 {\n",
       "            background-color:  #ffee00;\n",
       "        }    #T_3be82f18_e6f5_11e8_a1a7_00242c20d943row0_col6 {\n",
       "            background-color:  #ffff00;\n",
       "        }    #T_3be82f18_e6f5_11e8_a1a7_00242c20d943row0_col7 {\n",
       "            background-color:  #fff300;\n",
       "        }    #T_3be82f18_e6f5_11e8_a1a7_00242c20d943row0_col8 {\n",
       "            background-color:  #fffb00;\n",
       "        }    #T_3be82f18_e6f5_11e8_a1a7_00242c20d943row0_col9 {\n",
       "            background-color:  #ffff00;\n",
       "        }    #T_3be82f18_e6f5_11e8_a1a7_00242c20d943row0_col10 {\n",
       "            background-color:  #ffff00;\n",
       "        }    #T_3be82f18_e6f5_11e8_a1a7_00242c20d943row0_col11 {\n",
       "            background-color:  #fff700;\n",
       "        }    #T_3be82f18_e6f5_11e8_a1a7_00242c20d943row0_col12 {\n",
       "            background-color:  #ffff00;\n",
       "        }    #T_3be82f18_e6f5_11e8_a1a7_00242c20d943row0_col13 {\n",
       "            background-color:  #ffff00;\n",
       "        }    #T_3be82f18_e6f5_11e8_a1a7_00242c20d943row0_col14 {\n",
       "            background-color:  #ffbb00;\n",
       "        }    #T_3be82f18_e6f5_11e8_a1a7_00242c20d943row0_col15 {\n",
       "            background-color:  #ffff00;\n",
       "        }    #T_3be82f18_e6f5_11e8_a1a7_00242c20d943row0_col16 {\n",
       "            background-color:  #ffea00;\n",
       "        }    #T_3be82f18_e6f5_11e8_a1a7_00242c20d943row0_col17 {\n",
       "            background-color:  #ffff00;\n",
       "        }    #T_3be82f18_e6f5_11e8_a1a7_00242c20d943row0_col18 {\n",
       "            background-color:  #ffff00;\n",
       "        }    #T_3be82f18_e6f5_11e8_a1a7_00242c20d943row0_col19 {\n",
       "            background-color:  #ffff00;\n",
       "        }    #T_3be82f18_e6f5_11e8_a1a7_00242c20d943row0_col20 {\n",
       "            background-color:  #ffff00;\n",
       "        }    #T_3be82f18_e6f5_11e8_a1a7_00242c20d943row0_col21 {\n",
       "            background-color:  #ffff00;\n",
       "        }    #T_3be82f18_e6f5_11e8_a1a7_00242c20d943row0_col22 {\n",
       "            background-color:  #ffff00;\n",
       "        }    #T_3be82f18_e6f5_11e8_a1a7_00242c20d943row0_col23 {\n",
       "            background-color:  #ffff00;\n",
       "        }    #T_3be82f18_e6f5_11e8_a1a7_00242c20d943row1_col0 {\n",
       "            background-color:  #ffff00;\n",
       "        }    #T_3be82f18_e6f5_11e8_a1a7_00242c20d943row1_col1 {\n",
       "            background-color:  #ff8700;\n",
       "        }    #T_3be82f18_e6f5_11e8_a1a7_00242c20d943row1_col2 {\n",
       "            background-color:  #ffea00;\n",
       "        }    #T_3be82f18_e6f5_11e8_a1a7_00242c20d943row1_col3 {\n",
       "            background-color:  #ff4700;\n",
       "        }    #T_3be82f18_e6f5_11e8_a1a7_00242c20d943row1_col4 {\n",
       "            background-color:  #ff8e00;\n",
       "        }    #T_3be82f18_e6f5_11e8_a1a7_00242c20d943row1_col5 {\n",
       "            background-color:  #ffea00;\n",
       "        }    #T_3be82f18_e6f5_11e8_a1a7_00242c20d943row1_col6 {\n",
       "            background-color:  #ff8300;\n",
       "        }    #T_3be82f18_e6f5_11e8_a1a7_00242c20d943row1_col7 {\n",
       "            background-color:  #ff9700;\n",
       "        }    #T_3be82f18_e6f5_11e8_a1a7_00242c20d943row1_col8 {\n",
       "            background-color:  #fffb00;\n",
       "        }    #T_3be82f18_e6f5_11e8_a1a7_00242c20d943row1_col9 {\n",
       "            background-color:  #ff8200;\n",
       "        }    #T_3be82f18_e6f5_11e8_a1a7_00242c20d943row1_col10 {\n",
       "            background-color:  #ffa400;\n",
       "        }    #T_3be82f18_e6f5_11e8_a1a7_00242c20d943row1_col11 {\n",
       "            background-color:  #ffff00;\n",
       "        }    #T_3be82f18_e6f5_11e8_a1a7_00242c20d943row1_col12 {\n",
       "            background-color:  #ffb100;\n",
       "        }    #T_3be82f18_e6f5_11e8_a1a7_00242c20d943row1_col13 {\n",
       "            background-color:  #ff8e00;\n",
       "        }    #T_3be82f18_e6f5_11e8_a1a7_00242c20d943row1_col14 {\n",
       "            background-color:  #ffff00;\n",
       "        }    #T_3be82f18_e6f5_11e8_a1a7_00242c20d943row1_col15 {\n",
       "            background-color:  #ff8f00;\n",
       "        }    #T_3be82f18_e6f5_11e8_a1a7_00242c20d943row1_col16 {\n",
       "            background-color:  #ffd500;\n",
       "        }    #T_3be82f18_e6f5_11e8_a1a7_00242c20d943row1_col17 {\n",
       "            background-color:  #ffff00;\n",
       "        }    #T_3be82f18_e6f5_11e8_a1a7_00242c20d943row1_col18 {\n",
       "            background-color:  #ffd100;\n",
       "        }    #T_3be82f18_e6f5_11e8_a1a7_00242c20d943row1_col19 {\n",
       "            background-color:  #ffff00;\n",
       "        }    #T_3be82f18_e6f5_11e8_a1a7_00242c20d943row1_col20 {\n",
       "            background-color:  #ffaa00;\n",
       "        }    #T_3be82f18_e6f5_11e8_a1a7_00242c20d943row1_col21 {\n",
       "            background-color:  #ffff00;\n",
       "        }    #T_3be82f18_e6f5_11e8_a1a7_00242c20d943row1_col22 {\n",
       "            background-color:  #ffff00;\n",
       "        }    #T_3be82f18_e6f5_11e8_a1a7_00242c20d943row1_col23 {\n",
       "            background-color:  #ffcb00;\n",
       "        }    #T_3be82f18_e6f5_11e8_a1a7_00242c20d943row2_col0 {\n",
       "            background-color:  #ffff00;\n",
       "        }    #T_3be82f18_e6f5_11e8_a1a7_00242c20d943row2_col1 {\n",
       "            background-color:  #ffff00;\n",
       "        }    #T_3be82f18_e6f5_11e8_a1a7_00242c20d943row2_col2 {\n",
       "            background-color:  #ffd500;\n",
       "        }    #T_3be82f18_e6f5_11e8_a1a7_00242c20d943row2_col3 {\n",
       "            background-color:  #ffd500;\n",
       "        }    #T_3be82f18_e6f5_11e8_a1a7_00242c20d943row2_col4 {\n",
       "            background-color:  #ff7f00;\n",
       "        }    #T_3be82f18_e6f5_11e8_a1a7_00242c20d943row2_col5 {\n",
       "            background-color:  #ff7100;\n",
       "        }    #T_3be82f18_e6f5_11e8_a1a7_00242c20d943row2_col6 {\n",
       "            background-color:  #ffc400;\n",
       "        }    #T_3be82f18_e6f5_11e8_a1a7_00242c20d943row2_col7 {\n",
       "            background-color:  #ff7500;\n",
       "        }    #T_3be82f18_e6f5_11e8_a1a7_00242c20d943row2_col8 {\n",
       "            background-color:  #ff6600;\n",
       "        }    #T_3be82f18_e6f5_11e8_a1a7_00242c20d943row2_col9 {\n",
       "            background-color:  #ffc100;\n",
       "        }    #T_3be82f18_e6f5_11e8_a1a7_00242c20d943row2_col10 {\n",
       "            background-color:  #ff7900;\n",
       "        }    #T_3be82f18_e6f5_11e8_a1a7_00242c20d943row2_col11 {\n",
       "            background-color:  #ff5e00;\n",
       "        }    #T_3be82f18_e6f5_11e8_a1a7_00242c20d943row2_col12 {\n",
       "            background-color:  #ff9c00;\n",
       "        }    #T_3be82f18_e6f5_11e8_a1a7_00242c20d943row2_col13 {\n",
       "            background-color:  #ff9c00;\n",
       "        }    #T_3be82f18_e6f5_11e8_a1a7_00242c20d943row2_col14 {\n",
       "            background-color:  #ff5500;\n",
       "        }    #T_3be82f18_e6f5_11e8_a1a7_00242c20d943row2_col15 {\n",
       "            background-color:  #ff9900;\n",
       "        }    #T_3be82f18_e6f5_11e8_a1a7_00242c20d943row2_col16 {\n",
       "            background-color:  #ff3f00;\n",
       "        }    #T_3be82f18_e6f5_11e8_a1a7_00242c20d943row2_col17 {\n",
       "            background-color:  #ff0000;\n",
       "        }    #T_3be82f18_e6f5_11e8_a1a7_00242c20d943row2_col18 {\n",
       "            background-color:  #ff2e00;\n",
       "        }    #T_3be82f18_e6f5_11e8_a1a7_00242c20d943row2_col19 {\n",
       "            background-color:  #ff5500;\n",
       "        }    #T_3be82f18_e6f5_11e8_a1a7_00242c20d943row2_col20 {\n",
       "            background-color:  #ff5500;\n",
       "        }    #T_3be82f18_e6f5_11e8_a1a7_00242c20d943row2_col21 {\n",
       "            background-color:  #ff5500;\n",
       "        }    #T_3be82f18_e6f5_11e8_a1a7_00242c20d943row2_col22 {\n",
       "            background-color:  #ff0000;\n",
       "        }    #T_3be82f18_e6f5_11e8_a1a7_00242c20d943row2_col23 {\n",
       "            background-color:  #ff8b00;\n",
       "        }    #T_3be82f18_e6f5_11e8_a1a7_00242c20d943row3_col0 {\n",
       "            background-color:  #ff5500;\n",
       "        }    #T_3be82f18_e6f5_11e8_a1a7_00242c20d943row3_col1 {\n",
       "            background-color:  #ff7800;\n",
       "        }    #T_3be82f18_e6f5_11e8_a1a7_00242c20d943row3_col2 {\n",
       "            background-color:  #ffff00;\n",
       "        }    #T_3be82f18_e6f5_11e8_a1a7_00242c20d943row3_col3 {\n",
       "            background-color:  #ffe300;\n",
       "        }    #T_3be82f18_e6f5_11e8_a1a7_00242c20d943row3_col4 {\n",
       "            background-color:  #fff100;\n",
       "        }    #T_3be82f18_e6f5_11e8_a1a7_00242c20d943row3_col5 {\n",
       "            background-color:  #ffff00;\n",
       "        }    #T_3be82f18_e6f5_11e8_a1a7_00242c20d943row3_col6 {\n",
       "            background-color:  #ffcb00;\n",
       "        }    #T_3be82f18_e6f5_11e8_a1a7_00242c20d943row3_col7 {\n",
       "            background-color:  #ffff00;\n",
       "        }    #T_3be82f18_e6f5_11e8_a1a7_00242c20d943row3_col8 {\n",
       "            background-color:  #ffff00;\n",
       "        }    #T_3be82f18_e6f5_11e8_a1a7_00242c20d943row3_col9 {\n",
       "            background-color:  #ffbc00;\n",
       "        }    #T_3be82f18_e6f5_11e8_a1a7_00242c20d943row3_col10 {\n",
       "            background-color:  #fff300;\n",
       "        }    #T_3be82f18_e6f5_11e8_a1a7_00242c20d943row3_col11 {\n",
       "            background-color:  #fffb00;\n",
       "        }    #T_3be82f18_e6f5_11e8_a1a7_00242c20d943row3_col12 {\n",
       "            background-color:  #ffc700;\n",
       "        }    #T_3be82f18_e6f5_11e8_a1a7_00242c20d943row3_col13 {\n",
       "            background-color:  #ffff00;\n",
       "        }    #T_3be82f18_e6f5_11e8_a1a7_00242c20d943row3_col14 {\n",
       "            background-color:  #ffee00;\n",
       "        }    #T_3be82f18_e6f5_11e8_a1a7_00242c20d943row3_col15 {\n",
       "            background-color:  #ffd700;\n",
       "        }    #T_3be82f18_e6f5_11e8_a1a7_00242c20d943row3_col16 {\n",
       "            background-color:  #ffff00;\n",
       "        }    #T_3be82f18_e6f5_11e8_a1a7_00242c20d943row3_col17 {\n",
       "            background-color:  #ffff00;\n",
       "        }    #T_3be82f18_e6f5_11e8_a1a7_00242c20d943row3_col18 {\n",
       "            background-color:  #ffff00;\n",
       "        }    #T_3be82f18_e6f5_11e8_a1a7_00242c20d943row3_col19 {\n",
       "            background-color:  #ffaa00;\n",
       "        }    #T_3be82f18_e6f5_11e8_a1a7_00242c20d943row3_col20 {\n",
       "            background-color:  #ffff00;\n",
       "        }    #T_3be82f18_e6f5_11e8_a1a7_00242c20d943row3_col21 {\n",
       "            background-color:  #ffaa00;\n",
       "        }    #T_3be82f18_e6f5_11e8_a1a7_00242c20d943row3_col22 {\n",
       "            background-color:  #ffff00;\n",
       "        }    #T_3be82f18_e6f5_11e8_a1a7_00242c20d943row3_col23 {\n",
       "            background-color:  #fff400;\n",
       "        }    #T_3be82f18_e6f5_11e8_a1a7_00242c20d943row4_col0 {\n",
       "            background-color:  #ff0000;\n",
       "        }    #T_3be82f18_e6f5_11e8_a1a7_00242c20d943row4_col1 {\n",
       "            background-color:  #ff0000;\n",
       "        }    #T_3be82f18_e6f5_11e8_a1a7_00242c20d943row4_col2 {\n",
       "            background-color:  #ff0000;\n",
       "        }    #T_3be82f18_e6f5_11e8_a1a7_00242c20d943row4_col3 {\n",
       "            background-color:  #ff0000;\n",
       "        }    #T_3be82f18_e6f5_11e8_a1a7_00242c20d943row4_col4 {\n",
       "            background-color:  #ff0000;\n",
       "        }    #T_3be82f18_e6f5_11e8_a1a7_00242c20d943row4_col5 {\n",
       "            background-color:  #ff0000;\n",
       "        }    #T_3be82f18_e6f5_11e8_a1a7_00242c20d943row4_col6 {\n",
       "            background-color:  #ff0000;\n",
       "        }    #T_3be82f18_e6f5_11e8_a1a7_00242c20d943row4_col7 {\n",
       "            background-color:  #ff0000;\n",
       "        }    #T_3be82f18_e6f5_11e8_a1a7_00242c20d943row4_col8 {\n",
       "            background-color:  #ff0000;\n",
       "        }    #T_3be82f18_e6f5_11e8_a1a7_00242c20d943row4_col9 {\n",
       "            background-color:  #ff0000;\n",
       "        }    #T_3be82f18_e6f5_11e8_a1a7_00242c20d943row4_col10 {\n",
       "            background-color:  #ff0000;\n",
       "        }    #T_3be82f18_e6f5_11e8_a1a7_00242c20d943row4_col11 {\n",
       "            background-color:  #ff0000;\n",
       "        }    #T_3be82f18_e6f5_11e8_a1a7_00242c20d943row4_col12 {\n",
       "            background-color:  #ff0000;\n",
       "        }    #T_3be82f18_e6f5_11e8_a1a7_00242c20d943row4_col13 {\n",
       "            background-color:  #ff0000;\n",
       "        }    #T_3be82f18_e6f5_11e8_a1a7_00242c20d943row4_col14 {\n",
       "            background-color:  #ff0000;\n",
       "        }    #T_3be82f18_e6f5_11e8_a1a7_00242c20d943row4_col15 {\n",
       "            background-color:  #ff0000;\n",
       "        }    #T_3be82f18_e6f5_11e8_a1a7_00242c20d943row4_col16 {\n",
       "            background-color:  #ff0000;\n",
       "        }    #T_3be82f18_e6f5_11e8_a1a7_00242c20d943row4_col17 {\n",
       "            background-color:  #ff0000;\n",
       "        }    #T_3be82f18_e6f5_11e8_a1a7_00242c20d943row4_col18 {\n",
       "            background-color:  #ff0000;\n",
       "        }    #T_3be82f18_e6f5_11e8_a1a7_00242c20d943row4_col19 {\n",
       "            background-color:  #ff0000;\n",
       "        }    #T_3be82f18_e6f5_11e8_a1a7_00242c20d943row4_col20 {\n",
       "            background-color:  #ff0000;\n",
       "        }    #T_3be82f18_e6f5_11e8_a1a7_00242c20d943row4_col21 {\n",
       "            background-color:  #ff0000;\n",
       "        }    #T_3be82f18_e6f5_11e8_a1a7_00242c20d943row4_col22 {\n",
       "            background-color:  #ff0000;\n",
       "        }    #T_3be82f18_e6f5_11e8_a1a7_00242c20d943row4_col23 {\n",
       "            background-color:  #ff0000;\n",
       "        }</style>  \n",
       "<table id=\"T_3be82f18_e6f5_11e8_a1a7_00242c20d943\" > \n",
       "<thead>    <tr> \n",
       "        <th class=\"blank\" ></th> \n",
       "        <th class=\"index_name level0\" >Age_bin</th> \n",
       "        <th class=\"col_heading level0 col0\" colspan=3>1.0</th> \n",
       "        <th class=\"col_heading level0 col3\" colspan=3>2.0</th> \n",
       "        <th class=\"col_heading level0 col6\" colspan=3>3.0</th> \n",
       "        <th class=\"col_heading level0 col9\" colspan=3>4.0</th> \n",
       "        <th class=\"col_heading level0 col12\" colspan=3>5.0</th> \n",
       "        <th class=\"col_heading level0 col15\" colspan=3>6.0</th> \n",
       "        <th class=\"col_heading level0 col18\" colspan=3>7.0</th> \n",
       "        <th class=\"col_heading level0 col21\" colspan=2>8.0</th> \n",
       "        <th class=\"col_heading level0 col23\" >All</th> \n",
       "    </tr>    <tr> \n",
       "        <th class=\"blank\" ></th> \n",
       "        <th class=\"index_name level1\" >Pclass</th> \n",
       "        <th class=\"col_heading level1 col0\" >1</th> \n",
       "        <th class=\"col_heading level1 col1\" >2</th> \n",
       "        <th class=\"col_heading level1 col2\" >3</th> \n",
       "        <th class=\"col_heading level1 col3\" >1</th> \n",
       "        <th class=\"col_heading level1 col4\" >2</th> \n",
       "        <th class=\"col_heading level1 col5\" >3</th> \n",
       "        <th class=\"col_heading level1 col6\" >1</th> \n",
       "        <th class=\"col_heading level1 col7\" >2</th> \n",
       "        <th class=\"col_heading level1 col8\" >3</th> \n",
       "        <th class=\"col_heading level1 col9\" >1</th> \n",
       "        <th class=\"col_heading level1 col10\" >2</th> \n",
       "        <th class=\"col_heading level1 col11\" >3</th> \n",
       "        <th class=\"col_heading level1 col12\" >1</th> \n",
       "        <th class=\"col_heading level1 col13\" >2</th> \n",
       "        <th class=\"col_heading level1 col14\" >3</th> \n",
       "        <th class=\"col_heading level1 col15\" >1</th> \n",
       "        <th class=\"col_heading level1 col16\" >2</th> \n",
       "        <th class=\"col_heading level1 col17\" >3</th> \n",
       "        <th class=\"col_heading level1 col18\" >1</th> \n",
       "        <th class=\"col_heading level1 col19\" >2</th> \n",
       "        <th class=\"col_heading level1 col20\" >3</th> \n",
       "        <th class=\"col_heading level1 col21\" >1</th> \n",
       "        <th class=\"col_heading level1 col22\" >3</th> \n",
       "        <th class=\"col_heading level1 col23\" ></th> \n",
       "    </tr>    <tr> \n",
       "        <th class=\"index_name level0\" >Sex</th> \n",
       "        <th class=\"index_name level1\" >Survived</th> \n",
       "        <th class=\"blank\" ></th> \n",
       "        <th class=\"blank\" ></th> \n",
       "        <th class=\"blank\" ></th> \n",
       "        <th class=\"blank\" ></th> \n",
       "        <th class=\"blank\" ></th> \n",
       "        <th class=\"blank\" ></th> \n",
       "        <th class=\"blank\" ></th> \n",
       "        <th class=\"blank\" ></th> \n",
       "        <th class=\"blank\" ></th> \n",
       "        <th class=\"blank\" ></th> \n",
       "        <th class=\"blank\" ></th> \n",
       "        <th class=\"blank\" ></th> \n",
       "        <th class=\"blank\" ></th> \n",
       "        <th class=\"blank\" ></th> \n",
       "        <th class=\"blank\" ></th> \n",
       "        <th class=\"blank\" ></th> \n",
       "        <th class=\"blank\" ></th> \n",
       "        <th class=\"blank\" ></th> \n",
       "        <th class=\"blank\" ></th> \n",
       "        <th class=\"blank\" ></th> \n",
       "        <th class=\"blank\" ></th> \n",
       "        <th class=\"blank\" ></th> \n",
       "        <th class=\"blank\" ></th> \n",
       "        <th class=\"blank\" ></th> \n",
       "    </tr></thead> \n",
       "<tbody>    <tr> \n",
       "        <th id=\"T_3be82f18_e6f5_11e8_a1a7_00242c20d943level0_row0\" class=\"row_heading level0 row0\" rowspan=2>female</th> \n",
       "        <th id=\"T_3be82f18_e6f5_11e8_a1a7_00242c20d943level1_row0\" class=\"row_heading level1 row0\" >0</th> \n",
       "        <td id=\"T_3be82f18_e6f5_11e8_a1a7_00242c20d943row0_col0\" class=\"data row0 col0\" >1</td> \n",
       "        <td id=\"T_3be82f18_e6f5_11e8_a1a7_00242c20d943row0_col1\" class=\"data row0 col1\" >0</td> \n",
       "        <td id=\"T_3be82f18_e6f5_11e8_a1a7_00242c20d943row0_col2\" class=\"data row0 col2\" >11</td> \n",
       "        <td id=\"T_3be82f18_e6f5_11e8_a1a7_00242c20d943row0_col3\" class=\"data row0 col3\" >0</td> \n",
       "        <td id=\"T_3be82f18_e6f5_11e8_a1a7_00242c20d943row0_col4\" class=\"data row0 col4\" >0</td> \n",
       "        <td id=\"T_3be82f18_e6f5_11e8_a1a7_00242c20d943row0_col5\" class=\"data row0 col5\" >12</td> \n",
       "        <td id=\"T_3be82f18_e6f5_11e8_a1a7_00242c20d943row0_col6\" class=\"data row0 col6\" >1</td> \n",
       "        <td id=\"T_3be82f18_e6f5_11e8_a1a7_00242c20d943row0_col7\" class=\"data row0 col7\" >3</td> \n",
       "        <td id=\"T_3be82f18_e6f5_11e8_a1a7_00242c20d943row0_col8\" class=\"data row0 col8\" >16</td> \n",
       "        <td id=\"T_3be82f18_e6f5_11e8_a1a7_00242c20d943row0_col9\" class=\"data row0 col9\" >0</td> \n",
       "        <td id=\"T_3be82f18_e6f5_11e8_a1a7_00242c20d943row0_col10\" class=\"data row0 col10\" >1</td> \n",
       "        <td id=\"T_3be82f18_e6f5_11e8_a1a7_00242c20d943row0_col11\" class=\"data row0 col11\" >8</td> \n",
       "        <td id=\"T_3be82f18_e6f5_11e8_a1a7_00242c20d943row0_col12\" class=\"data row0 col12\" >1</td> \n",
       "        <td id=\"T_3be82f18_e6f5_11e8_a1a7_00242c20d943row0_col13\" class=\"data row0 col13\" >1</td> \n",
       "        <td id=\"T_3be82f18_e6f5_11e8_a1a7_00242c20d943row0_col14\" class=\"data row0 col14\" >8</td> \n",
       "        <td id=\"T_3be82f18_e6f5_11e8_a1a7_00242c20d943row0_col15\" class=\"data row0 col15\" >0</td> \n",
       "        <td id=\"T_3be82f18_e6f5_11e8_a1a7_00242c20d943row0_col16\" class=\"data row0 col16\" >1</td> \n",
       "        <td id=\"T_3be82f18_e6f5_11e8_a1a7_00242c20d943row0_col17\" class=\"data row0 col17\" >0</td> \n",
       "        <td id=\"T_3be82f18_e6f5_11e8_a1a7_00242c20d943row0_col18\" class=\"data row0 col18\" >0</td> \n",
       "        <td id=\"T_3be82f18_e6f5_11e8_a1a7_00242c20d943row0_col19\" class=\"data row0 col19\" >0</td> \n",
       "        <td id=\"T_3be82f18_e6f5_11e8_a1a7_00242c20d943row0_col20\" class=\"data row0 col20\" >0</td> \n",
       "        <td id=\"T_3be82f18_e6f5_11e8_a1a7_00242c20d943row0_col21\" class=\"data row0 col21\" >0</td> \n",
       "        <td id=\"T_3be82f18_e6f5_11e8_a1a7_00242c20d943row0_col22\" class=\"data row0 col22\" >0</td> \n",
       "        <td id=\"T_3be82f18_e6f5_11e8_a1a7_00242c20d943row0_col23\" class=\"data row0 col23\" >64</td> \n",
       "    </tr>    <tr> \n",
       "        <th id=\"T_3be82f18_e6f5_11e8_a1a7_00242c20d943level1_row1\" class=\"row_heading level1 row1\" >1</th> \n",
       "        <td id=\"T_3be82f18_e6f5_11e8_a1a7_00242c20d943row1_col0\" class=\"data row1 col0\" >0</td> \n",
       "        <td id=\"T_3be82f18_e6f5_11e8_a1a7_00242c20d943row1_col1\" class=\"data row1 col1\" >8</td> \n",
       "        <td id=\"T_3be82f18_e6f5_11e8_a1a7_00242c20d943row1_col2\" class=\"data row1 col2\" >11</td> \n",
       "        <td id=\"T_3be82f18_e6f5_11e8_a1a7_00242c20d943row1_col3\" class=\"data row1 col3\" >13</td> \n",
       "        <td id=\"T_3be82f18_e6f5_11e8_a1a7_00242c20d943row1_col4\" class=\"data row1 col4\" >8</td> \n",
       "        <td id=\"T_3be82f18_e6f5_11e8_a1a7_00242c20d943row1_col5\" class=\"data row1 col5\" >13</td> \n",
       "        <td id=\"T_3be82f18_e6f5_11e8_a1a7_00242c20d943row1_col6\" class=\"data row1 col6\" >20</td> \n",
       "        <td id=\"T_3be82f18_e6f5_11e8_a1a7_00242c20d943row1_col7\" class=\"data row1 col7\" >25</td> \n",
       "        <td id=\"T_3be82f18_e6f5_11e8_a1a7_00242c20d943row1_col8\" class=\"data row1 col8\" >16</td> \n",
       "        <td id=\"T_3be82f18_e6f5_11e8_a1a7_00242c20d943row1_col9\" class=\"data row1 col9\" >24</td> \n",
       "        <td id=\"T_3be82f18_e6f5_11e8_a1a7_00242c20d943row1_col10\" class=\"data row1 col10\" >16</td> \n",
       "        <td id=\"T_3be82f18_e6f5_11e8_a1a7_00242c20d943row1_col11\" class=\"data row1 col11\" >6</td> \n",
       "        <td id=\"T_3be82f18_e6f5_11e8_a1a7_00242c20d943row1_col12\" class=\"data row1 col12\" >12</td> \n",
       "        <td id=\"T_3be82f18_e6f5_11e8_a1a7_00242c20d943row1_col13\" class=\"data row1 col13\" >9</td> \n",
       "        <td id=\"T_3be82f18_e6f5_11e8_a1a7_00242c20d943row1_col14\" class=\"data row1 col14\" >0</td> \n",
       "        <td id=\"T_3be82f18_e6f5_11e8_a1a7_00242c20d943row1_col15\" class=\"data row1 col15\" >11</td> \n",
       "        <td id=\"T_3be82f18_e6f5_11e8_a1a7_00242c20d943row1_col16\" class=\"data row1 col16\" >2</td> \n",
       "        <td id=\"T_3be82f18_e6f5_11e8_a1a7_00242c20d943row1_col17\" class=\"data row1 col17\" >0</td> \n",
       "        <td id=\"T_3be82f18_e6f5_11e8_a1a7_00242c20d943row1_col18\" class=\"data row1 col18\" >2</td> \n",
       "        <td id=\"T_3be82f18_e6f5_11e8_a1a7_00242c20d943row1_col19\" class=\"data row1 col19\" >0</td> \n",
       "        <td id=\"T_3be82f18_e6f5_11e8_a1a7_00242c20d943row1_col20\" class=\"data row1 col20\" >1</td> \n",
       "        <td id=\"T_3be82f18_e6f5_11e8_a1a7_00242c20d943row1_col21\" class=\"data row1 col21\" >0</td> \n",
       "        <td id=\"T_3be82f18_e6f5_11e8_a1a7_00242c20d943row1_col22\" class=\"data row1 col22\" >0</td> \n",
       "        <td id=\"T_3be82f18_e6f5_11e8_a1a7_00242c20d943row1_col23\" class=\"data row1 col23\" >197</td> \n",
       "    </tr>    <tr> \n",
       "        <th id=\"T_3be82f18_e6f5_11e8_a1a7_00242c20d943level0_row2\" class=\"row_heading level0 row2\" rowspan=2>male</th> \n",
       "        <th id=\"T_3be82f18_e6f5_11e8_a1a7_00242c20d943level1_row2\" class=\"row_heading level1 row2\" >0</th> \n",
       "        <td id=\"T_3be82f18_e6f5_11e8_a1a7_00242c20d943row2_col0\" class=\"data row2 col0\" >0</td> \n",
       "        <td id=\"T_3be82f18_e6f5_11e8_a1a7_00242c20d943row2_col1\" class=\"data row2 col1\" >0</td> \n",
       "        <td id=\"T_3be82f18_e6f5_11e8_a1a7_00242c20d943row2_col2\" class=\"data row2 col2\" >14</td> \n",
       "        <td id=\"T_3be82f18_e6f5_11e8_a1a7_00242c20d943row2_col3\" class=\"data row2 col3\" >3</td> \n",
       "        <td id=\"T_3be82f18_e6f5_11e8_a1a7_00242c20d943row2_col4\" class=\"data row2 col4\" >9</td> \n",
       "        <td id=\"T_3be82f18_e6f5_11e8_a1a7_00242c20d943row2_col5\" class=\"data row2 col5\" >47</td> \n",
       "        <td id=\"T_3be82f18_e6f5_11e8_a1a7_00242c20d943row2_col6\" class=\"data row2 col6\" >10</td> \n",
       "        <td id=\"T_3be82f18_e6f5_11e8_a1a7_00242c20d943row2_col7\" class=\"data row2 col7\" >33</td> \n",
       "        <td id=\"T_3be82f18_e6f5_11e8_a1a7_00242c20d943row2_col8\" class=\"data row2 col8\" >83</td> \n",
       "        <td id=\"T_3be82f18_e6f5_11e8_a1a7_00242c20d943row2_col9\" class=\"data row2 col9\" >12</td> \n",
       "        <td id=\"T_3be82f18_e6f5_11e8_a1a7_00242c20d943row2_col10\" class=\"data row2 col10\" >23</td> \n",
       "        <td id=\"T_3be82f18_e6f5_11e8_a1a7_00242c20d943row2_col11\" class=\"data row2 col11\" >42</td> \n",
       "        <td id=\"T_3be82f18_e6f5_11e8_a1a7_00242c20d943row2_col12\" class=\"data row2 col12\" >15</td> \n",
       "        <td id=\"T_3be82f18_e6f5_11e8_a1a7_00242c20d943row2_col13\" class=\"data row2 col13\" >8</td> \n",
       "        <td id=\"T_3be82f18_e6f5_11e8_a1a7_00242c20d943row2_col14\" class=\"data row2 col14\" >20</td> \n",
       "        <td id=\"T_3be82f18_e6f5_11e8_a1a7_00242c20d943row2_col15\" class=\"data row2 col15\" >10</td> \n",
       "        <td id=\"T_3be82f18_e6f5_11e8_a1a7_00242c20d943row2_col16\" class=\"data row2 col16\" >9</td> \n",
       "        <td id=\"T_3be82f18_e6f5_11e8_a1a7_00242c20d943row2_col17\" class=\"data row2 col17\" >5</td> \n",
       "        <td id=\"T_3be82f18_e6f5_11e8_a1a7_00242c20d943row2_col18\" class=\"data row2 col18\" >9</td> \n",
       "        <td id=\"T_3be82f18_e6f5_11e8_a1a7_00242c20d943row2_col19\" class=\"data row2 col19\" >2</td> \n",
       "        <td id=\"T_3be82f18_e6f5_11e8_a1a7_00242c20d943row2_col20\" class=\"data row2 col20\" >2</td> \n",
       "        <td id=\"T_3be82f18_e6f5_11e8_a1a7_00242c20d943row2_col21\" class=\"data row2 col21\" >2</td> \n",
       "        <td id=\"T_3be82f18_e6f5_11e8_a1a7_00242c20d943row2_col22\" class=\"data row2 col22\" >2</td> \n",
       "        <td id=\"T_3be82f18_e6f5_11e8_a1a7_00242c20d943row2_col23\" class=\"data row2 col23\" >360</td> \n",
       "    </tr>    <tr> \n",
       "        <th id=\"T_3be82f18_e6f5_11e8_a1a7_00242c20d943level1_row3\" class=\"row_heading level1 row3\" >1</th> \n",
       "        <td id=\"T_3be82f18_e6f5_11e8_a1a7_00242c20d943row3_col0\" class=\"data row3 col0\" >2</td> \n",
       "        <td id=\"T_3be82f18_e6f5_11e8_a1a7_00242c20d943row3_col1\" class=\"data row3 col1\" >9</td> \n",
       "        <td id=\"T_3be82f18_e6f5_11e8_a1a7_00242c20d943row3_col2\" class=\"data row3 col2\" >8</td> \n",
       "        <td id=\"T_3be82f18_e6f5_11e8_a1a7_00242c20d943row3_col3\" class=\"data row3 col3\" >2</td> \n",
       "        <td id=\"T_3be82f18_e6f5_11e8_a1a7_00242c20d943row3_col4\" class=\"data row3 col4\" >1</td> \n",
       "        <td id=\"T_3be82f18_e6f5_11e8_a1a7_00242c20d943row3_col5\" class=\"data row3 col5\" >7</td> \n",
       "        <td id=\"T_3be82f18_e6f5_11e8_a1a7_00242c20d943row3_col6\" class=\"data row3 col6\" >9</td> \n",
       "        <td id=\"T_3be82f18_e6f5_11e8_a1a7_00242c20d943row3_col7\" class=\"data row3 col7\" >0</td> \n",
       "        <td id=\"T_3be82f18_e6f5_11e8_a1a7_00242c20d943row3_col8\" class=\"data row3 col8\" >14</td> \n",
       "        <td id=\"T_3be82f18_e6f5_11e8_a1a7_00242c20d943row3_col9\" class=\"data row3 col9\" >13</td> \n",
       "        <td id=\"T_3be82f18_e6f5_11e8_a1a7_00242c20d943row3_col10\" class=\"data row3 col10\" >3</td> \n",
       "        <td id=\"T_3be82f18_e6f5_11e8_a1a7_00242c20d943row3_col11\" class=\"data row3 col11\" >7</td> \n",
       "        <td id=\"T_3be82f18_e6f5_11e8_a1a7_00242c20d943row3_col12\" class=\"data row3 col12\" >9</td> \n",
       "        <td id=\"T_3be82f18_e6f5_11e8_a1a7_00242c20d943row3_col13\" class=\"data row3 col13\" >1</td> \n",
       "        <td id=\"T_3be82f18_e6f5_11e8_a1a7_00242c20d943row3_col14\" class=\"data row3 col14\" >2</td> \n",
       "        <td id=\"T_3be82f18_e6f5_11e8_a1a7_00242c20d943row3_col15\" class=\"data row3 col15\" >4</td> \n",
       "        <td id=\"T_3be82f18_e6f5_11e8_a1a7_00242c20d943row3_col16\" class=\"data row3 col16\" >0</td> \n",
       "        <td id=\"T_3be82f18_e6f5_11e8_a1a7_00242c20d943row3_col17\" class=\"data row3 col17\" >0</td> \n",
       "        <td id=\"T_3be82f18_e6f5_11e8_a1a7_00242c20d943row3_col18\" class=\"data row3 col18\" >0</td> \n",
       "        <td id=\"T_3be82f18_e6f5_11e8_a1a7_00242c20d943row3_col19\" class=\"data row3 col19\" >1</td> \n",
       "        <td id=\"T_3be82f18_e6f5_11e8_a1a7_00242c20d943row3_col20\" class=\"data row3 col20\" >0</td> \n",
       "        <td id=\"T_3be82f18_e6f5_11e8_a1a7_00242c20d943row3_col21\" class=\"data row3 col21\" >1</td> \n",
       "        <td id=\"T_3be82f18_e6f5_11e8_a1a7_00242c20d943row3_col22\" class=\"data row3 col22\" >0</td> \n",
       "        <td id=\"T_3be82f18_e6f5_11e8_a1a7_00242c20d943row3_col23\" class=\"data row3 col23\" >93</td> \n",
       "    </tr>    <tr> \n",
       "        <th id=\"T_3be82f18_e6f5_11e8_a1a7_00242c20d943level0_row4\" class=\"row_heading level0 row4\" >All</th> \n",
       "        <th id=\"T_3be82f18_e6f5_11e8_a1a7_00242c20d943level1_row4\" class=\"row_heading level1 row4\" ></th> \n",
       "        <td id=\"T_3be82f18_e6f5_11e8_a1a7_00242c20d943row4_col0\" class=\"data row4 col0\" >3</td> \n",
       "        <td id=\"T_3be82f18_e6f5_11e8_a1a7_00242c20d943row4_col1\" class=\"data row4 col1\" >17</td> \n",
       "        <td id=\"T_3be82f18_e6f5_11e8_a1a7_00242c20d943row4_col2\" class=\"data row4 col2\" >44</td> \n",
       "        <td id=\"T_3be82f18_e6f5_11e8_a1a7_00242c20d943row4_col3\" class=\"data row4 col3\" >18</td> \n",
       "        <td id=\"T_3be82f18_e6f5_11e8_a1a7_00242c20d943row4_col4\" class=\"data row4 col4\" >18</td> \n",
       "        <td id=\"T_3be82f18_e6f5_11e8_a1a7_00242c20d943row4_col5\" class=\"data row4 col5\" >79</td> \n",
       "        <td id=\"T_3be82f18_e6f5_11e8_a1a7_00242c20d943row4_col6\" class=\"data row4 col6\" >40</td> \n",
       "        <td id=\"T_3be82f18_e6f5_11e8_a1a7_00242c20d943row4_col7\" class=\"data row4 col7\" >61</td> \n",
       "        <td id=\"T_3be82f18_e6f5_11e8_a1a7_00242c20d943row4_col8\" class=\"data row4 col8\" >129</td> \n",
       "        <td id=\"T_3be82f18_e6f5_11e8_a1a7_00242c20d943row4_col9\" class=\"data row4 col9\" >49</td> \n",
       "        <td id=\"T_3be82f18_e6f5_11e8_a1a7_00242c20d943row4_col10\" class=\"data row4 col10\" >43</td> \n",
       "        <td id=\"T_3be82f18_e6f5_11e8_a1a7_00242c20d943row4_col11\" class=\"data row4 col11\" >63</td> \n",
       "        <td id=\"T_3be82f18_e6f5_11e8_a1a7_00242c20d943row4_col12\" class=\"data row4 col12\" >37</td> \n",
       "        <td id=\"T_3be82f18_e6f5_11e8_a1a7_00242c20d943row4_col13\" class=\"data row4 col13\" >19</td> \n",
       "        <td id=\"T_3be82f18_e6f5_11e8_a1a7_00242c20d943row4_col14\" class=\"data row4 col14\" >30</td> \n",
       "        <td id=\"T_3be82f18_e6f5_11e8_a1a7_00242c20d943row4_col15\" class=\"data row4 col15\" >25</td> \n",
       "        <td id=\"T_3be82f18_e6f5_11e8_a1a7_00242c20d943row4_col16\" class=\"data row4 col16\" >12</td> \n",
       "        <td id=\"T_3be82f18_e6f5_11e8_a1a7_00242c20d943row4_col17\" class=\"data row4 col17\" >5</td> \n",
       "        <td id=\"T_3be82f18_e6f5_11e8_a1a7_00242c20d943row4_col18\" class=\"data row4 col18\" >11</td> \n",
       "        <td id=\"T_3be82f18_e6f5_11e8_a1a7_00242c20d943row4_col19\" class=\"data row4 col19\" >3</td> \n",
       "        <td id=\"T_3be82f18_e6f5_11e8_a1a7_00242c20d943row4_col20\" class=\"data row4 col20\" >3</td> \n",
       "        <td id=\"T_3be82f18_e6f5_11e8_a1a7_00242c20d943row4_col21\" class=\"data row4 col21\" >3</td> \n",
       "        <td id=\"T_3be82f18_e6f5_11e8_a1a7_00242c20d943row4_col22\" class=\"data row4 col22\" >2</td> \n",
       "        <td id=\"T_3be82f18_e6f5_11e8_a1a7_00242c20d943row4_col23\" class=\"data row4 col23\" >714</td> \n",
       "    </tr></tbody> \n",
       "</table> "
      ],
      "text/plain": [
       "<pandas.io.formats.style.Styler at 0x1f28327be10>"
      ]
     },
     "execution_count": 34,
     "metadata": {},
     "output_type": "execute_result"
    }
   ],
   "source": [
    "pd.crosstab([df_train.Sex,df_train.Survived], [df_train.Age_bin, df_train.Pclass], margins = True).style.background_gradient(cmap='autumn_r')"
   ]
  },
  {
   "cell_type": "code",
   "execution_count": 35,
   "metadata": {},
   "outputs": [],
   "source": [
    "# in Pclass 1 and 2 all men in Age_bin = 1 survived\n",
    "df_test.loc[ (df_test.Sex == 'male') & (df_test.Pclass == 1) & (df_test.Age_bin == 1), 'Survived'] = 1\n",
    "df_test.loc[ (df_test.Sex == 'male') & (df_test.Pclass == 2) & (df_test.Age_bin == 1), 'Survived'] = 1"
   ]
  },
  {
   "cell_type": "code",
   "execution_count": 36,
   "metadata": {},
   "outputs": [
    {
     "data": {
      "text/html": [
       "<style  type=\"text/css\" >\n",
       "    #T_3c21cc82_e6f5_11e8_b036_00242c20d943row0_col0 {\n",
       "            background-color:  #ffff00;\n",
       "        }    #T_3c21cc82_e6f5_11e8_b036_00242c20d943row0_col1 {\n",
       "            background-color:  #ffff00;\n",
       "        }    #T_3c21cc82_e6f5_11e8_b036_00242c20d943row0_col2 {\n",
       "            background-color:  #ffff00;\n",
       "        }    #T_3c21cc82_e6f5_11e8_b036_00242c20d943row0_col3 {\n",
       "            background-color:  #ffff00;\n",
       "        }    #T_3c21cc82_e6f5_11e8_b036_00242c20d943row0_col4 {\n",
       "            background-color:  #ffff00;\n",
       "        }    #T_3c21cc82_e6f5_11e8_b036_00242c20d943row0_col5 {\n",
       "            background-color:  #ffd900;\n",
       "        }    #T_3c21cc82_e6f5_11e8_b036_00242c20d943row0_col6 {\n",
       "            background-color:  #ffff00;\n",
       "        }    #T_3c21cc82_e6f5_11e8_b036_00242c20d943row0_col7 {\n",
       "            background-color:  #ffff00;\n",
       "        }    #T_3c21cc82_e6f5_11e8_b036_00242c20d943row0_col8 {\n",
       "            background-color:  #ffdb00;\n",
       "        }    #T_3c21cc82_e6f5_11e8_b036_00242c20d943row0_col9 {\n",
       "            background-color:  #ffff00;\n",
       "        }    #T_3c21cc82_e6f5_11e8_b036_00242c20d943row0_col10 {\n",
       "            background-color:  #ffff00;\n",
       "        }    #T_3c21cc82_e6f5_11e8_b036_00242c20d943row0_col11 {\n",
       "            background-color:  #ff6a00;\n",
       "        }    #T_3c21cc82_e6f5_11e8_b036_00242c20d943row0_col12 {\n",
       "            background-color:  #ffd200;\n",
       "        }    #T_3c21cc82_e6f5_11e8_b036_00242c20d943row0_col13 {\n",
       "            background-color:  #ffcc00;\n",
       "        }    #T_3c21cc82_e6f5_11e8_b036_00242c20d943row0_col14 {\n",
       "            background-color:  #ff9200;\n",
       "        }    #T_3c21cc82_e6f5_11e8_b036_00242c20d943row0_col15 {\n",
       "            background-color:  #ffff00;\n",
       "        }    #T_3c21cc82_e6f5_11e8_b036_00242c20d943row1_col0 {\n",
       "            background-color:  #ffa700;\n",
       "        }    #T_3c21cc82_e6f5_11e8_b036_00242c20d943row1_col1 {\n",
       "            background-color:  #ffac00;\n",
       "        }    #T_3c21cc82_e6f5_11e8_b036_00242c20d943row1_col2 {\n",
       "            background-color:  #fff300;\n",
       "        }    #T_3c21cc82_e6f5_11e8_b036_00242c20d943row1_col3 {\n",
       "            background-color:  #ff7a00;\n",
       "        }    #T_3c21cc82_e6f5_11e8_b036_00242c20d943row1_col4 {\n",
       "            background-color:  #ff9300;\n",
       "        }    #T_3c21cc82_e6f5_11e8_b036_00242c20d943row1_col5 {\n",
       "            background-color:  #ffe700;\n",
       "        }    #T_3c21cc82_e6f5_11e8_b036_00242c20d943row1_col6 {\n",
       "            background-color:  #ff6600;\n",
       "        }    #T_3c21cc82_e6f5_11e8_b036_00242c20d943row1_col7 {\n",
       "            background-color:  #ff9f00;\n",
       "        }    #T_3c21cc82_e6f5_11e8_b036_00242c20d943row1_col8 {\n",
       "            background-color:  #ffc900;\n",
       "        }    #T_3c21cc82_e6f5_11e8_b036_00242c20d943row1_col9 {\n",
       "            background-color:  #ff5500;\n",
       "        }    #T_3c21cc82_e6f5_11e8_b036_00242c20d943row1_col10 {\n",
       "            background-color:  #ff0000;\n",
       "        }    #T_3c21cc82_e6f5_11e8_b036_00242c20d943row1_col11 {\n",
       "            background-color:  #ffea00;\n",
       "        }    #T_3c21cc82_e6f5_11e8_b036_00242c20d943row1_col12 {\n",
       "            background-color:  #fff000;\n",
       "        }    #T_3c21cc82_e6f5_11e8_b036_00242c20d943row1_col13 {\n",
       "            background-color:  #ffff00;\n",
       "        }    #T_3c21cc82_e6f5_11e8_b036_00242c20d943row1_col14 {\n",
       "            background-color:  #ffff00;\n",
       "        }    #T_3c21cc82_e6f5_11e8_b036_00242c20d943row1_col15 {\n",
       "            background-color:  #ffcf00;\n",
       "        }    #T_3c21cc82_e6f5_11e8_b036_00242c20d943row2_col0 {\n",
       "            background-color:  #ff9200;\n",
       "        }    #T_3c21cc82_e6f5_11e8_b036_00242c20d943row2_col1 {\n",
       "            background-color:  #ff7300;\n",
       "        }    #T_3c21cc82_e6f5_11e8_b036_00242c20d943row2_col2 {\n",
       "            background-color:  #ff5d00;\n",
       "        }    #T_3c21cc82_e6f5_11e8_b036_00242c20d943row2_col3 {\n",
       "            background-color:  #ffcc00;\n",
       "        }    #T_3c21cc82_e6f5_11e8_b036_00242c20d943row2_col4 {\n",
       "            background-color:  #ffac00;\n",
       "        }    #T_3c21cc82_e6f5_11e8_b036_00242c20d943row2_col5 {\n",
       "            background-color:  #ffa800;\n",
       "        }    #T_3c21cc82_e6f5_11e8_b036_00242c20d943row2_col6 {\n",
       "            background-color:  #ffcc00;\n",
       "        }    #T_3c21cc82_e6f5_11e8_b036_00242c20d943row2_col7 {\n",
       "            background-color:  #ff7f00;\n",
       "        }    #T_3c21cc82_e6f5_11e8_b036_00242c20d943row2_col8 {\n",
       "            background-color:  #ff9200;\n",
       "        }    #T_3c21cc82_e6f5_11e8_b036_00242c20d943row2_col9 {\n",
       "            background-color:  #ffaa00;\n",
       "        }    #T_3c21cc82_e6f5_11e8_b036_00242c20d943row2_col10 {\n",
       "            background-color:  #ffff00;\n",
       "        }    #T_3c21cc82_e6f5_11e8_b036_00242c20d943row2_col11 {\n",
       "            background-color:  #ffaa00;\n",
       "        }    #T_3c21cc82_e6f5_11e8_b036_00242c20d943row2_col12 {\n",
       "            background-color:  #ff6900;\n",
       "        }    #T_3c21cc82_e6f5_11e8_b036_00242c20d943row2_col13 {\n",
       "            background-color:  #ff3300;\n",
       "        }    #T_3c21cc82_e6f5_11e8_b036_00242c20d943row2_col14 {\n",
       "            background-color:  #ff6d00;\n",
       "        }    #T_3c21cc82_e6f5_11e8_b036_00242c20d943row2_col15 {\n",
       "            background-color:  #ff8500;\n",
       "        }    #T_3c21cc82_e6f5_11e8_b036_00242c20d943row3_col0 {\n",
       "            background-color:  #ffcb00;\n",
       "        }    #T_3c21cc82_e6f5_11e8_b036_00242c20d943row3_col1 {\n",
       "            background-color:  #fff200;\n",
       "        }    #T_3c21cc82_e6f5_11e8_b036_00242c20d943row3_col2 {\n",
       "            background-color:  #fffe00;\n",
       "        }    #T_3c21cc82_e6f5_11e8_b036_00242c20d943row3_col3 {\n",
       "            background-color:  #ffcf00;\n",
       "        }    #T_3c21cc82_e6f5_11e8_b036_00242c20d943row3_col4 {\n",
       "            background-color:  #ffec00;\n",
       "        }    #T_3c21cc82_e6f5_11e8_b036_00242c20d943row3_col5 {\n",
       "            background-color:  #ffff00;\n",
       "        }    #T_3c21cc82_e6f5_11e8_b036_00242c20d943row3_col6 {\n",
       "            background-color:  #ffcc00;\n",
       "        }    #T_3c21cc82_e6f5_11e8_b036_00242c20d943row3_col7 {\n",
       "            background-color:  #ffdf00;\n",
       "        }    #T_3c21cc82_e6f5_11e8_b036_00242c20d943row3_col8 {\n",
       "            background-color:  #ffff00;\n",
       "        }    #T_3c21cc82_e6f5_11e8_b036_00242c20d943row3_col9 {\n",
       "            background-color:  #ffff00;\n",
       "        }    #T_3c21cc82_e6f5_11e8_b036_00242c20d943row3_col10 {\n",
       "            background-color:  #ffff00;\n",
       "        }    #T_3c21cc82_e6f5_11e8_b036_00242c20d943row3_col11 {\n",
       "            background-color:  #ffff00;\n",
       "        }    #T_3c21cc82_e6f5_11e8_b036_00242c20d943row3_col12 {\n",
       "            background-color:  #ffff00;\n",
       "        }    #T_3c21cc82_e6f5_11e8_b036_00242c20d943row3_col13 {\n",
       "            background-color:  #ffff00;\n",
       "        }    #T_3c21cc82_e6f5_11e8_b036_00242c20d943row3_col14 {\n",
       "            background-color:  #ffff00;\n",
       "        }    #T_3c21cc82_e6f5_11e8_b036_00242c20d943row3_col15 {\n",
       "            background-color:  #fff700;\n",
       "        }    #T_3c21cc82_e6f5_11e8_b036_00242c20d943row4_col0 {\n",
       "            background-color:  #ff0000;\n",
       "        }    #T_3c21cc82_e6f5_11e8_b036_00242c20d943row4_col1 {\n",
       "            background-color:  #ff0000;\n",
       "        }    #T_3c21cc82_e6f5_11e8_b036_00242c20d943row4_col2 {\n",
       "            background-color:  #ff0000;\n",
       "        }    #T_3c21cc82_e6f5_11e8_b036_00242c20d943row4_col3 {\n",
       "            background-color:  #ff0000;\n",
       "        }    #T_3c21cc82_e6f5_11e8_b036_00242c20d943row4_col4 {\n",
       "            background-color:  #ff0000;\n",
       "        }    #T_3c21cc82_e6f5_11e8_b036_00242c20d943row4_col5 {\n",
       "            background-color:  #ff0000;\n",
       "        }    #T_3c21cc82_e6f5_11e8_b036_00242c20d943row4_col6 {\n",
       "            background-color:  #ff0000;\n",
       "        }    #T_3c21cc82_e6f5_11e8_b036_00242c20d943row4_col7 {\n",
       "            background-color:  #ff0000;\n",
       "        }    #T_3c21cc82_e6f5_11e8_b036_00242c20d943row4_col8 {\n",
       "            background-color:  #ff0000;\n",
       "        }    #T_3c21cc82_e6f5_11e8_b036_00242c20d943row4_col9 {\n",
       "            background-color:  #ff0000;\n",
       "        }    #T_3c21cc82_e6f5_11e8_b036_00242c20d943row4_col10 {\n",
       "            background-color:  #ff0000;\n",
       "        }    #T_3c21cc82_e6f5_11e8_b036_00242c20d943row4_col11 {\n",
       "            background-color:  #ff0000;\n",
       "        }    #T_3c21cc82_e6f5_11e8_b036_00242c20d943row4_col12 {\n",
       "            background-color:  #ff0000;\n",
       "        }    #T_3c21cc82_e6f5_11e8_b036_00242c20d943row4_col13 {\n",
       "            background-color:  #ff0000;\n",
       "        }    #T_3c21cc82_e6f5_11e8_b036_00242c20d943row4_col14 {\n",
       "            background-color:  #ff0000;\n",
       "        }    #T_3c21cc82_e6f5_11e8_b036_00242c20d943row4_col15 {\n",
       "            background-color:  #ff0000;\n",
       "        }</style>  \n",
       "<table id=\"T_3c21cc82_e6f5_11e8_b036_00242c20d943\" > \n",
       "<thead>    <tr> \n",
       "        <th class=\"blank\" ></th> \n",
       "        <th class=\"index_name level0\" >SibSp</th> \n",
       "        <th class=\"col_heading level0 col0\" colspan=3>0</th> \n",
       "        <th class=\"col_heading level0 col3\" colspan=3>1</th> \n",
       "        <th class=\"col_heading level0 col6\" colspan=3>2</th> \n",
       "        <th class=\"col_heading level0 col9\" colspan=3>3</th> \n",
       "        <th class=\"col_heading level0 col12\" >4</th> \n",
       "        <th class=\"col_heading level0 col13\" >5</th> \n",
       "        <th class=\"col_heading level0 col14\" >8</th> \n",
       "        <th class=\"col_heading level0 col15\" >All</th> \n",
       "    </tr>    <tr> \n",
       "        <th class=\"blank\" ></th> \n",
       "        <th class=\"index_name level1\" >Pclass</th> \n",
       "        <th class=\"col_heading level1 col0\" >1</th> \n",
       "        <th class=\"col_heading level1 col1\" >2</th> \n",
       "        <th class=\"col_heading level1 col2\" >3</th> \n",
       "        <th class=\"col_heading level1 col3\" >1</th> \n",
       "        <th class=\"col_heading level1 col4\" >2</th> \n",
       "        <th class=\"col_heading level1 col5\" >3</th> \n",
       "        <th class=\"col_heading level1 col6\" >1</th> \n",
       "        <th class=\"col_heading level1 col7\" >2</th> \n",
       "        <th class=\"col_heading level1 col8\" >3</th> \n",
       "        <th class=\"col_heading level1 col9\" >1</th> \n",
       "        <th class=\"col_heading level1 col10\" >2</th> \n",
       "        <th class=\"col_heading level1 col11\" >3</th> \n",
       "        <th class=\"col_heading level1 col12\" >3</th> \n",
       "        <th class=\"col_heading level1 col13\" >3</th> \n",
       "        <th class=\"col_heading level1 col14\" >3</th> \n",
       "        <th class=\"col_heading level1 col15\" ></th> \n",
       "    </tr>    <tr> \n",
       "        <th class=\"index_name level0\" >Sex</th> \n",
       "        <th class=\"index_name level1\" >Survived</th> \n",
       "        <th class=\"blank\" ></th> \n",
       "        <th class=\"blank\" ></th> \n",
       "        <th class=\"blank\" ></th> \n",
       "        <th class=\"blank\" ></th> \n",
       "        <th class=\"blank\" ></th> \n",
       "        <th class=\"blank\" ></th> \n",
       "        <th class=\"blank\" ></th> \n",
       "        <th class=\"blank\" ></th> \n",
       "        <th class=\"blank\" ></th> \n",
       "        <th class=\"blank\" ></th> \n",
       "        <th class=\"blank\" ></th> \n",
       "        <th class=\"blank\" ></th> \n",
       "        <th class=\"blank\" ></th> \n",
       "        <th class=\"blank\" ></th> \n",
       "        <th class=\"blank\" ></th> \n",
       "        <th class=\"blank\" ></th> \n",
       "    </tr></thead> \n",
       "<tbody>    <tr> \n",
       "        <th id=\"T_3c21cc82_e6f5_11e8_b036_00242c20d943level0_row0\" class=\"row_heading level0 row0\" rowspan=2>female</th> \n",
       "        <th id=\"T_3c21cc82_e6f5_11e8_b036_00242c20d943level1_row0\" class=\"row_heading level1 row0\" >0</th> \n",
       "        <td id=\"T_3c21cc82_e6f5_11e8_b036_00242c20d943row0_col0\" class=\"data row0 col0\" >1</td> \n",
       "        <td id=\"T_3c21cc82_e6f5_11e8_b036_00242c20d943row0_col1\" class=\"data row0 col1\" >3</td> \n",
       "        <td id=\"T_3c21cc82_e6f5_11e8_b036_00242c20d943row0_col2\" class=\"data row0 col2\" >33</td> \n",
       "        <td id=\"T_3c21cc82_e6f5_11e8_b036_00242c20d943row0_col3\" class=\"data row0 col3\" >2</td> \n",
       "        <td id=\"T_3c21cc82_e6f5_11e8_b036_00242c20d943row0_col4\" class=\"data row0 col4\" >3</td> \n",
       "        <td id=\"T_3c21cc82_e6f5_11e8_b036_00242c20d943row0_col5\" class=\"data row0 col5\" >21</td> \n",
       "        <td id=\"T_3c21cc82_e6f5_11e8_b036_00242c20d943row0_col6\" class=\"data row0 col6\" >0</td> \n",
       "        <td id=\"T_3c21cc82_e6f5_11e8_b036_00242c20d943row0_col7\" class=\"data row0 col7\" >0</td> \n",
       "        <td id=\"T_3c21cc82_e6f5_11e8_b036_00242c20d943row0_col8\" class=\"data row0 col8\" >3</td> \n",
       "        <td id=\"T_3c21cc82_e6f5_11e8_b036_00242c20d943row0_col9\" class=\"data row0 col9\" >0</td> \n",
       "        <td id=\"T_3c21cc82_e6f5_11e8_b036_00242c20d943row0_col10\" class=\"data row0 col10\" >0</td> \n",
       "        <td id=\"T_3c21cc82_e6f5_11e8_b036_00242c20d943row0_col11\" class=\"data row0 col11\" >7</td> \n",
       "        <td id=\"T_3c21cc82_e6f5_11e8_b036_00242c20d943row0_col12\" class=\"data row0 col12\" >4</td> \n",
       "        <td id=\"T_3c21cc82_e6f5_11e8_b036_00242c20d943row0_col13\" class=\"data row0 col13\" >1</td> \n",
       "        <td id=\"T_3c21cc82_e6f5_11e8_b036_00242c20d943row0_col14\" class=\"data row0 col14\" >3</td> \n",
       "        <td id=\"T_3c21cc82_e6f5_11e8_b036_00242c20d943row0_col15\" class=\"data row0 col15\" >81</td> \n",
       "    </tr>    <tr> \n",
       "        <th id=\"T_3c21cc82_e6f5_11e8_b036_00242c20d943level1_row1\" class=\"row_heading level1 row1\" >1</th> \n",
       "        <td id=\"T_3c21cc82_e6f5_11e8_b036_00242c20d943row1_col0\" class=\"data row1 col0\" >48</td> \n",
       "        <td id=\"T_3c21cc82_e6f5_11e8_b036_00242c20d943row1_col1\" class=\"data row1 col1\" >41</td> \n",
       "        <td id=\"T_3c21cc82_e6f5_11e8_b036_00242c20d943row1_col2\" class=\"data row1 col2\" >48</td> \n",
       "        <td id=\"T_3c21cc82_e6f5_11e8_b036_00242c20d943row1_col3\" class=\"data row1 col3\" >38</td> \n",
       "        <td id=\"T_3c21cc82_e6f5_11e8_b036_00242c20d943row1_col4\" class=\"data row1 col4\" >25</td> \n",
       "        <td id=\"T_3c21cc82_e6f5_11e8_b036_00242c20d943row1_col5\" class=\"data row1 col5\" >17</td> \n",
       "        <td id=\"T_3c21cc82_e6f5_11e8_b036_00242c20d943row1_col6\" class=\"data row1 col6\" >3</td> \n",
       "        <td id=\"T_3c21cc82_e6f5_11e8_b036_00242c20d943row1_col7\" class=\"data row1 col7\" >3</td> \n",
       "        <td id=\"T_3c21cc82_e6f5_11e8_b036_00242c20d943row1_col8\" class=\"data row1 col8\" >4</td> \n",
       "        <td id=\"T_3c21cc82_e6f5_11e8_b036_00242c20d943row1_col9\" class=\"data row1 col9\" >2</td> \n",
       "        <td id=\"T_3c21cc82_e6f5_11e8_b036_00242c20d943row1_col10\" class=\"data row1 col10\" >1</td> \n",
       "        <td id=\"T_3c21cc82_e6f5_11e8_b036_00242c20d943row1_col11\" class=\"data row1 col11\" >1</td> \n",
       "        <td id=\"T_3c21cc82_e6f5_11e8_b036_00242c20d943row1_col12\" class=\"data row1 col12\" >2</td> \n",
       "        <td id=\"T_3c21cc82_e6f5_11e8_b036_00242c20d943row1_col13\" class=\"data row1 col13\" >0</td> \n",
       "        <td id=\"T_3c21cc82_e6f5_11e8_b036_00242c20d943row1_col14\" class=\"data row1 col14\" >0</td> \n",
       "        <td id=\"T_3c21cc82_e6f5_11e8_b036_00242c20d943row1_col15\" class=\"data row1 col15\" >233</td> \n",
       "    </tr>    <tr> \n",
       "        <th id=\"T_3c21cc82_e6f5_11e8_b036_00242c20d943level0_row2\" class=\"row_heading level0 row2\" rowspan=2>male</th> \n",
       "        <th id=\"T_3c21cc82_e6f5_11e8_b036_00242c20d943level1_row2\" class=\"row_heading level1 row2\" >0</th> \n",
       "        <td id=\"T_3c21cc82_e6f5_11e8_b036_00242c20d943row2_col0\" class=\"data row2 col0\" >59</td> \n",
       "        <td id=\"T_3c21cc82_e6f5_11e8_b036_00242c20d943row2_col1\" class=\"data row2 col1\" >67</td> \n",
       "        <td id=\"T_3c21cc82_e6f5_11e8_b036_00242c20d943row2_col2\" class=\"data row2 col2\" >235</td> \n",
       "        <td id=\"T_3c21cc82_e6f5_11e8_b036_00242c20d943row2_col3\" class=\"data row2 col3\" >16</td> \n",
       "        <td id=\"T_3c21cc82_e6f5_11e8_b036_00242c20d943row2_col4\" class=\"data row2 col4\" >20</td> \n",
       "        <td id=\"T_3c21cc82_e6f5_11e8_b036_00242c20d943row2_col5\" class=\"data row2 col5\" >35</td> \n",
       "        <td id=\"T_3c21cc82_e6f5_11e8_b036_00242c20d943row2_col6\" class=\"data row2 col6\" >1</td> \n",
       "        <td id=\"T_3c21cc82_e6f5_11e8_b036_00242c20d943row2_col7\" class=\"data row2 col7\" >4</td> \n",
       "        <td id=\"T_3c21cc82_e6f5_11e8_b036_00242c20d943row2_col8\" class=\"data row2 col8\" >7</td> \n",
       "        <td id=\"T_3c21cc82_e6f5_11e8_b036_00242c20d943row2_col9\" class=\"data row2 col9\" >1</td> \n",
       "        <td id=\"T_3c21cc82_e6f5_11e8_b036_00242c20d943row2_col10\" class=\"data row2 col10\" >0</td> \n",
       "        <td id=\"T_3c21cc82_e6f5_11e8_b036_00242c20d943row2_col11\" class=\"data row2 col11\" >4</td> \n",
       "        <td id=\"T_3c21cc82_e6f5_11e8_b036_00242c20d943row2_col12\" class=\"data row2 col12\" >11</td> \n",
       "        <td id=\"T_3c21cc82_e6f5_11e8_b036_00242c20d943row2_col13\" class=\"data row2 col13\" >4</td> \n",
       "        <td id=\"T_3c21cc82_e6f5_11e8_b036_00242c20d943row2_col14\" class=\"data row2 col14\" >4</td> \n",
       "        <td id=\"T_3c21cc82_e6f5_11e8_b036_00242c20d943row2_col15\" class=\"data row2 col15\" >468</td> \n",
       "    </tr>    <tr> \n",
       "        <th id=\"T_3c21cc82_e6f5_11e8_b036_00242c20d943level1_row3\" class=\"row_heading level1 row3\" >1</th> \n",
       "        <td id=\"T_3c21cc82_e6f5_11e8_b036_00242c20d943row3_col0\" class=\"data row3 col0\" >29</td> \n",
       "        <td id=\"T_3c21cc82_e6f5_11e8_b036_00242c20d943row3_col1\" class=\"data row3 col1\" >9</td> \n",
       "        <td id=\"T_3c21cc82_e6f5_11e8_b036_00242c20d943row3_col2\" class=\"data row3 col2\" >35</td> \n",
       "        <td id=\"T_3c21cc82_e6f5_11e8_b036_00242c20d943row3_col3\" class=\"data row3 col3\" >15</td> \n",
       "        <td id=\"T_3c21cc82_e6f5_11e8_b036_00242c20d943row3_col4\" class=\"data row3 col4\" >7</td> \n",
       "        <td id=\"T_3c21cc82_e6f5_11e8_b036_00242c20d943row3_col5\" class=\"data row3 col5\" >10</td> \n",
       "        <td id=\"T_3c21cc82_e6f5_11e8_b036_00242c20d943row3_col6\" class=\"data row3 col6\" >1</td> \n",
       "        <td id=\"T_3c21cc82_e6f5_11e8_b036_00242c20d943row3_col7\" class=\"data row3 col7\" >1</td> \n",
       "        <td id=\"T_3c21cc82_e6f5_11e8_b036_00242c20d943row3_col8\" class=\"data row3 col8\" >1</td> \n",
       "        <td id=\"T_3c21cc82_e6f5_11e8_b036_00242c20d943row3_col9\" class=\"data row3 col9\" >0</td> \n",
       "        <td id=\"T_3c21cc82_e6f5_11e8_b036_00242c20d943row3_col10\" class=\"data row3 col10\" >0</td> \n",
       "        <td id=\"T_3c21cc82_e6f5_11e8_b036_00242c20d943row3_col11\" class=\"data row3 col11\" >0</td> \n",
       "        <td id=\"T_3c21cc82_e6f5_11e8_b036_00242c20d943row3_col12\" class=\"data row3 col12\" >1</td> \n",
       "        <td id=\"T_3c21cc82_e6f5_11e8_b036_00242c20d943row3_col13\" class=\"data row3 col13\" >0</td> \n",
       "        <td id=\"T_3c21cc82_e6f5_11e8_b036_00242c20d943row3_col14\" class=\"data row3 col14\" >0</td> \n",
       "        <td id=\"T_3c21cc82_e6f5_11e8_b036_00242c20d943row3_col15\" class=\"data row3 col15\" >109</td> \n",
       "    </tr>    <tr> \n",
       "        <th id=\"T_3c21cc82_e6f5_11e8_b036_00242c20d943level0_row4\" class=\"row_heading level0 row4\" >All</th> \n",
       "        <th id=\"T_3c21cc82_e6f5_11e8_b036_00242c20d943level1_row4\" class=\"row_heading level1 row4\" ></th> \n",
       "        <td id=\"T_3c21cc82_e6f5_11e8_b036_00242c20d943row4_col0\" class=\"data row4 col0\" >137</td> \n",
       "        <td id=\"T_3c21cc82_e6f5_11e8_b036_00242c20d943row4_col1\" class=\"data row4 col1\" >120</td> \n",
       "        <td id=\"T_3c21cc82_e6f5_11e8_b036_00242c20d943row4_col2\" class=\"data row4 col2\" >351</td> \n",
       "        <td id=\"T_3c21cc82_e6f5_11e8_b036_00242c20d943row4_col3\" class=\"data row4 col3\" >71</td> \n",
       "        <td id=\"T_3c21cc82_e6f5_11e8_b036_00242c20d943row4_col4\" class=\"data row4 col4\" >55</td> \n",
       "        <td id=\"T_3c21cc82_e6f5_11e8_b036_00242c20d943row4_col5\" class=\"data row4 col5\" >83</td> \n",
       "        <td id=\"T_3c21cc82_e6f5_11e8_b036_00242c20d943row4_col6\" class=\"data row4 col6\" >5</td> \n",
       "        <td id=\"T_3c21cc82_e6f5_11e8_b036_00242c20d943row4_col7\" class=\"data row4 col7\" >8</td> \n",
       "        <td id=\"T_3c21cc82_e6f5_11e8_b036_00242c20d943row4_col8\" class=\"data row4 col8\" >15</td> \n",
       "        <td id=\"T_3c21cc82_e6f5_11e8_b036_00242c20d943row4_col9\" class=\"data row4 col9\" >3</td> \n",
       "        <td id=\"T_3c21cc82_e6f5_11e8_b036_00242c20d943row4_col10\" class=\"data row4 col10\" >1</td> \n",
       "        <td id=\"T_3c21cc82_e6f5_11e8_b036_00242c20d943row4_col11\" class=\"data row4 col11\" >12</td> \n",
       "        <td id=\"T_3c21cc82_e6f5_11e8_b036_00242c20d943row4_col12\" class=\"data row4 col12\" >18</td> \n",
       "        <td id=\"T_3c21cc82_e6f5_11e8_b036_00242c20d943row4_col13\" class=\"data row4 col13\" >5</td> \n",
       "        <td id=\"T_3c21cc82_e6f5_11e8_b036_00242c20d943row4_col14\" class=\"data row4 col14\" >7</td> \n",
       "        <td id=\"T_3c21cc82_e6f5_11e8_b036_00242c20d943row4_col15\" class=\"data row4 col15\" >891</td> \n",
       "    </tr></tbody> \n",
       "</table> "
      ],
      "text/plain": [
       "<pandas.io.formats.style.Styler at 0x1f2837f4e10>"
      ]
     },
     "execution_count": 36,
     "metadata": {},
     "output_type": "execute_result"
    }
   ],
   "source": [
    "pd.crosstab([df_train.Sex, df_train.Survived], [df_train.SibSp, df_train.Pclass], margins= True).style.background_gradient(cmap='autumn_r')"
   ]
  },
  {
   "cell_type": "code",
   "execution_count": 37,
   "metadata": {},
   "outputs": [],
   "source": [
    "# all females with SibSb>7 died\n",
    "df_test.loc[(df_test.Sex=='female')&(df_test.SibSp>7),'Survived']=0"
   ]
  },
  {
   "cell_type": "code",
   "execution_count": 38,
   "metadata": {},
   "outputs": [
    {
     "data": {
      "image/png": "[encoded data removed]",
      "text/plain": [
       "<matplotlib.figure.Figure at 0x1f28329b5f8>"
      ]
     },
     "metadata": {},
     "output_type": "display_data"
    }
   ],
   "source": [
    "sns.factorplot('Parch', 'Survived', col='Pclass', row='Sex', kind='point', data = df_train)\n",
    "plt.show()"
   ]
  },
  {
   "cell_type": "code",
   "execution_count": 39,
   "metadata": {},
   "outputs": [
    {
     "data": {
      "text/html": [
       "<style  type=\"text/css\" >\n",
       "    #T_3d48a6fa_e6f5_11e8_b8d3_00242c20d943row0_col0 {\n",
       "            background-color:  #ffff00;\n",
       "        }    #T_3d48a6fa_e6f5_11e8_b8d3_00242c20d943row0_col1 {\n",
       "            background-color:  #ffff00;\n",
       "        }    #T_3d48a6fa_e6f5_11e8_b8d3_00242c20d943row0_col2 {\n",
       "            background-color:  #ffff00;\n",
       "        }    #T_3d48a6fa_e6f5_11e8_b8d3_00242c20d943row0_col3 {\n",
       "            background-color:  #ffff00;\n",
       "        }    #T_3d48a6fa_e6f5_11e8_b8d3_00242c20d943row0_col4 {\n",
       "            background-color:  #ffff00;\n",
       "        }    #T_3d48a6fa_e6f5_11e8_b8d3_00242c20d943row0_col5 {\n",
       "            background-color:  #ffe400;\n",
       "        }    #T_3d48a6fa_e6f5_11e8_b8d3_00242c20d943row0_col6 {\n",
       "            background-color:  #ffff00;\n",
       "        }    #T_3d48a6fa_e6f5_11e8_b8d3_00242c20d943row0_col7 {\n",
       "            background-color:  #ffff00;\n",
       "        }    #T_3d48a6fa_e6f5_11e8_b8d3_00242c20d943row0_col8 {\n",
       "            background-color:  #ffa600;\n",
       "        }    #T_3d48a6fa_e6f5_11e8_b8d3_00242c20d943row0_col9 {\n",
       "            background-color:  #ffff00;\n",
       "        }    #T_3d48a6fa_e6f5_11e8_b8d3_00242c20d943row0_col10 {\n",
       "            background-color:  #ffaa00;\n",
       "        }    #T_3d48a6fa_e6f5_11e8_b8d3_00242c20d943row0_col11 {\n",
       "            background-color:  #ffff00;\n",
       "        }    #T_3d48a6fa_e6f5_11e8_b8d3_00242c20d943row0_col12 {\n",
       "            background-color:  #ff5500;\n",
       "        }    #T_3d48a6fa_e6f5_11e8_b8d3_00242c20d943row0_col13 {\n",
       "            background-color:  #ff6600;\n",
       "        }    #T_3d48a6fa_e6f5_11e8_b8d3_00242c20d943row0_col14 {\n",
       "            background-color:  #ff0000;\n",
       "        }    #T_3d48a6fa_e6f5_11e8_b8d3_00242c20d943row0_col15 {\n",
       "            background-color:  #ffff00;\n",
       "        }    #T_3d48a6fa_e6f5_11e8_b8d3_00242c20d943row1_col0 {\n",
       "            background-color:  #ff9e00;\n",
       "        }    #T_3d48a6fa_e6f5_11e8_b8d3_00242c20d943row1_col1 {\n",
       "            background-color:  #ffba00;\n",
       "        }    #T_3d48a6fa_e6f5_11e8_b8d3_00242c20d943row1_col2 {\n",
       "            background-color:  #fff400;\n",
       "        }    #T_3d48a6fa_e6f5_11e8_b8d3_00242c20d943row1_col3 {\n",
       "            background-color:  #ff7300;\n",
       "        }    #T_3d48a6fa_e6f5_11e8_b8d3_00242c20d943row1_col4 {\n",
       "            background-color:  #ff7b00;\n",
       "        }    #T_3d48a6fa_e6f5_11e8_b8d3_00242c20d943row1_col5 {\n",
       "            background-color:  #ffea00;\n",
       "        }    #T_3d48a6fa_e6f5_11e8_b8d3_00242c20d943row1_col6 {\n",
       "            background-color:  #ff8600;\n",
       "        }    #T_3d48a6fa_e6f5_11e8_b8d3_00242c20d943row1_col7 {\n",
       "            background-color:  #ff4f00;\n",
       "        }    #T_3d48a6fa_e6f5_11e8_b8d3_00242c20d943row1_col8 {\n",
       "            background-color:  #ffdf00;\n",
       "        }    #T_3d48a6fa_e6f5_11e8_b8d3_00242c20d943row1_col9 {\n",
       "            background-color:  #ff0000;\n",
       "        }    #T_3d48a6fa_e6f5_11e8_b8d3_00242c20d943row1_col10 {\n",
       "            background-color:  #ffaa00;\n",
       "        }    #T_3d48a6fa_e6f5_11e8_b8d3_00242c20d943row1_col11 {\n",
       "            background-color:  #ffff00;\n",
       "        }    #T_3d48a6fa_e6f5_11e8_b8d3_00242c20d943row1_col12 {\n",
       "            background-color:  #ffff00;\n",
       "        }    #T_3d48a6fa_e6f5_11e8_b8d3_00242c20d943row1_col13 {\n",
       "            background-color:  #ffcc00;\n",
       "        }    #T_3d48a6fa_e6f5_11e8_b8d3_00242c20d943row1_col14 {\n",
       "            background-color:  #ffff00;\n",
       "        }    #T_3d48a6fa_e6f5_11e8_b8d3_00242c20d943row1_col15 {\n",
       "            background-color:  #ffcf00;\n",
       "        }    #T_3d48a6fa_e6f5_11e8_b8d3_00242c20d943row2_col0 {\n",
       "            background-color:  #ff9e00;\n",
       "        }    #T_3d48a6fa_e6f5_11e8_b8d3_00242c20d943row2_col1 {\n",
       "            background-color:  #ff6900;\n",
       "        }    #T_3d48a6fa_e6f5_11e8_b8d3_00242c20d943row2_col2 {\n",
       "            background-color:  #ff5900;\n",
       "        }    #T_3d48a6fa_e6f5_11e8_b8d3_00242c20d943row2_col3 {\n",
       "            background-color:  #ffad00;\n",
       "        }    #T_3d48a6fa_e6f5_11e8_b8d3_00242c20d943row2_col4 {\n",
       "            background-color:  #ffce00;\n",
       "        }    #T_3d48a6fa_e6f5_11e8_b8d3_00242c20d943row2_col5 {\n",
       "            background-color:  #ffb300;\n",
       "        }    #T_3d48a6fa_e6f5_11e8_b8d3_00242c20d943row2_col6 {\n",
       "            background-color:  #fff200;\n",
       "        }    #T_3d48a6fa_e6f5_11e8_b8d3_00242c20d943row2_col7 {\n",
       "            background-color:  #ffcf00;\n",
       "        }    #T_3d48a6fa_e6f5_11e8_b8d3_00242c20d943row2_col8 {\n",
       "            background-color:  #ffb300;\n",
       "        }    #T_3d48a6fa_e6f5_11e8_b8d3_00242c20d943row2_col9 {\n",
       "            background-color:  #ffff00;\n",
       "        }    #T_3d48a6fa_e6f5_11e8_b8d3_00242c20d943row2_col10 {\n",
       "            background-color:  #ffaa00;\n",
       "        }    #T_3d48a6fa_e6f5_11e8_b8d3_00242c20d943row2_col11 {\n",
       "            background-color:  #ff0000;\n",
       "        }    #T_3d48a6fa_e6f5_11e8_b8d3_00242c20d943row2_col12 {\n",
       "            background-color:  #ffaa00;\n",
       "        }    #T_3d48a6fa_e6f5_11e8_b8d3_00242c20d943row2_col13 {\n",
       "            background-color:  #ffcc00;\n",
       "        }    #T_3d48a6fa_e6f5_11e8_b8d3_00242c20d943row2_col14 {\n",
       "            background-color:  #ffff00;\n",
       "        }    #T_3d48a6fa_e6f5_11e8_b8d3_00242c20d943row2_col15 {\n",
       "            background-color:  #ff8500;\n",
       "        }    #T_3d48a6fa_e6f5_11e8_b8d3_00242c20d943row3_col0 {\n",
       "            background-color:  #ffc800;\n",
       "        }    #T_3d48a6fa_e6f5_11e8_b8d3_00242c20d943row3_col1 {\n",
       "            background-color:  #fffa00;\n",
       "        }    #T_3d48a6fa_e6f5_11e8_b8d3_00242c20d943row3_col2 {\n",
       "            background-color:  #ffff00;\n",
       "        }    #T_3d48a6fa_e6f5_11e8_b8d3_00242c20d943row3_col3 {\n",
       "            background-color:  #ffde00;\n",
       "        }    #T_3d48a6fa_e6f5_11e8_b8d3_00242c20d943row3_col4 {\n",
       "            background-color:  #ffce00;\n",
       "        }    #T_3d48a6fa_e6f5_11e8_b8d3_00242c20d943row3_col5 {\n",
       "            background-color:  #ffff00;\n",
       "        }    #T_3d48a6fa_e6f5_11e8_b8d3_00242c20d943row3_col6 {\n",
       "            background-color:  #ffd700;\n",
       "        }    #T_3d48a6fa_e6f5_11e8_b8d3_00242c20d943row3_col7 {\n",
       "            background-color:  #ffdf00;\n",
       "        }    #T_3d48a6fa_e6f5_11e8_b8d3_00242c20d943row3_col8 {\n",
       "            background-color:  #ffff00;\n",
       "        }    #T_3d48a6fa_e6f5_11e8_b8d3_00242c20d943row3_col9 {\n",
       "            background-color:  #ffff00;\n",
       "        }    #T_3d48a6fa_e6f5_11e8_b8d3_00242c20d943row3_col10 {\n",
       "            background-color:  #ffff00;\n",
       "        }    #T_3d48a6fa_e6f5_11e8_b8d3_00242c20d943row3_col11 {\n",
       "            background-color:  #ffff00;\n",
       "        }    #T_3d48a6fa_e6f5_11e8_b8d3_00242c20d943row3_col12 {\n",
       "            background-color:  #ffff00;\n",
       "        }    #T_3d48a6fa_e6f5_11e8_b8d3_00242c20d943row3_col13 {\n",
       "            background-color:  #ffff00;\n",
       "        }    #T_3d48a6fa_e6f5_11e8_b8d3_00242c20d943row3_col14 {\n",
       "            background-color:  #ffff00;\n",
       "        }    #T_3d48a6fa_e6f5_11e8_b8d3_00242c20d943row3_col15 {\n",
       "            background-color:  #fff700;\n",
       "        }    #T_3d48a6fa_e6f5_11e8_b8d3_00242c20d943row4_col0 {\n",
       "            background-color:  #ff0000;\n",
       "        }    #T_3d48a6fa_e6f5_11e8_b8d3_00242c20d943row4_col1 {\n",
       "            background-color:  #ff0000;\n",
       "        }    #T_3d48a6fa_e6f5_11e8_b8d3_00242c20d943row4_col2 {\n",
       "            background-color:  #ff0000;\n",
       "        }    #T_3d48a6fa_e6f5_11e8_b8d3_00242c20d943row4_col3 {\n",
       "            background-color:  #ff0000;\n",
       "        }    #T_3d48a6fa_e6f5_11e8_b8d3_00242c20d943row4_col4 {\n",
       "            background-color:  #ff0000;\n",
       "        }    #T_3d48a6fa_e6f5_11e8_b8d3_00242c20d943row4_col5 {\n",
       "            background-color:  #ff0000;\n",
       "        }    #T_3d48a6fa_e6f5_11e8_b8d3_00242c20d943row4_col6 {\n",
       "            background-color:  #ff0000;\n",
       "        }    #T_3d48a6fa_e6f5_11e8_b8d3_00242c20d943row4_col7 {\n",
       "            background-color:  #ff0000;\n",
       "        }    #T_3d48a6fa_e6f5_11e8_b8d3_00242c20d943row4_col8 {\n",
       "            background-color:  #ff0000;\n",
       "        }    #T_3d48a6fa_e6f5_11e8_b8d3_00242c20d943row4_col9 {\n",
       "            background-color:  #ff0000;\n",
       "        }    #T_3d48a6fa_e6f5_11e8_b8d3_00242c20d943row4_col10 {\n",
       "            background-color:  #ff0000;\n",
       "        }    #T_3d48a6fa_e6f5_11e8_b8d3_00242c20d943row4_col11 {\n",
       "            background-color:  #ff0000;\n",
       "        }    #T_3d48a6fa_e6f5_11e8_b8d3_00242c20d943row4_col12 {\n",
       "            background-color:  #ff0000;\n",
       "        }    #T_3d48a6fa_e6f5_11e8_b8d3_00242c20d943row4_col13 {\n",
       "            background-color:  #ff0000;\n",
       "        }    #T_3d48a6fa_e6f5_11e8_b8d3_00242c20d943row4_col14 {\n",
       "            background-color:  #ff0000;\n",
       "        }    #T_3d48a6fa_e6f5_11e8_b8d3_00242c20d943row4_col15 {\n",
       "            background-color:  #ff0000;\n",
       "        }</style>  \n",
       "<table id=\"T_3d48a6fa_e6f5_11e8_b8d3_00242c20d943\" > \n",
       "<thead>    <tr> \n",
       "        <th class=\"blank\" ></th> \n",
       "        <th class=\"index_name level0\" >Parch</th> \n",
       "        <th class=\"col_heading level0 col0\" colspan=3>0</th> \n",
       "        <th class=\"col_heading level0 col3\" colspan=3>1</th> \n",
       "        <th class=\"col_heading level0 col6\" colspan=3>2</th> \n",
       "        <th class=\"col_heading level0 col9\" colspan=2>3</th> \n",
       "        <th class=\"col_heading level0 col11\" colspan=2>4</th> \n",
       "        <th class=\"col_heading level0 col13\" >5</th> \n",
       "        <th class=\"col_heading level0 col14\" >6</th> \n",
       "        <th class=\"col_heading level0 col15\" >All</th> \n",
       "    </tr>    <tr> \n",
       "        <th class=\"blank\" ></th> \n",
       "        <th class=\"index_name level1\" >Pclass</th> \n",
       "        <th class=\"col_heading level1 col0\" >1</th> \n",
       "        <th class=\"col_heading level1 col1\" >2</th> \n",
       "        <th class=\"col_heading level1 col2\" >3</th> \n",
       "        <th class=\"col_heading level1 col3\" >1</th> \n",
       "        <th class=\"col_heading level1 col4\" >2</th> \n",
       "        <th class=\"col_heading level1 col5\" >3</th> \n",
       "        <th class=\"col_heading level1 col6\" >1</th> \n",
       "        <th class=\"col_heading level1 col7\" >2</th> \n",
       "        <th class=\"col_heading level1 col8\" >3</th> \n",
       "        <th class=\"col_heading level1 col9\" >2</th> \n",
       "        <th class=\"col_heading level1 col10\" >3</th> \n",
       "        <th class=\"col_heading level1 col11\" >1</th> \n",
       "        <th class=\"col_heading level1 col12\" >3</th> \n",
       "        <th class=\"col_heading level1 col13\" >3</th> \n",
       "        <th class=\"col_heading level1 col14\" >3</th> \n",
       "        <th class=\"col_heading level1 col15\" ></th> \n",
       "    </tr>    <tr> \n",
       "        <th class=\"index_name level0\" >Sex</th> \n",
       "        <th class=\"index_name level1\" >Survived</th> \n",
       "        <th class=\"blank\" ></th> \n",
       "        <th class=\"blank\" ></th> \n",
       "        <th class=\"blank\" ></th> \n",
       "        <th class=\"blank\" ></th> \n",
       "        <th class=\"blank\" ></th> \n",
       "        <th class=\"blank\" ></th> \n",
       "        <th class=\"blank\" ></th> \n",
       "        <th class=\"blank\" ></th> \n",
       "        <th class=\"blank\" ></th> \n",
       "        <th class=\"blank\" ></th> \n",
       "        <th class=\"blank\" ></th> \n",
       "        <th class=\"blank\" ></th> \n",
       "        <th class=\"blank\" ></th> \n",
       "        <th class=\"blank\" ></th> \n",
       "        <th class=\"blank\" ></th> \n",
       "        <th class=\"blank\" ></th> \n",
       "    </tr></thead> \n",
       "<tbody>    <tr> \n",
       "        <th id=\"T_3d48a6fa_e6f5_11e8_b8d3_00242c20d943level0_row0\" class=\"row_heading level0 row0\" rowspan=2>female</th> \n",
       "        <th id=\"T_3d48a6fa_e6f5_11e8_b8d3_00242c20d943level1_row0\" class=\"row_heading level1 row0\" >0</th> \n",
       "        <td id=\"T_3d48a6fa_e6f5_11e8_b8d3_00242c20d943row0_col0\" class=\"data row0 col0\" >1</td> \n",
       "        <td id=\"T_3d48a6fa_e6f5_11e8_b8d3_00242c20d943row0_col1\" class=\"data row0 col1\" >5</td> \n",
       "        <td id=\"T_3d48a6fa_e6f5_11e8_b8d3_00242c20d943row0_col2\" class=\"data row0 col2\" >35</td> \n",
       "        <td id=\"T_3d48a6fa_e6f5_11e8_b8d3_00242c20d943row0_col3\" class=\"data row0 col3\" >0</td> \n",
       "        <td id=\"T_3d48a6fa_e6f5_11e8_b8d3_00242c20d943row0_col4\" class=\"data row0 col4\" >1</td> \n",
       "        <td id=\"T_3d48a6fa_e6f5_11e8_b8d3_00242c20d943row0_col5\" class=\"data row0 col5\" >13</td> \n",
       "        <td id=\"T_3d48a6fa_e6f5_11e8_b8d3_00242c20d943row0_col6\" class=\"data row0 col6\" >2</td> \n",
       "        <td id=\"T_3d48a6fa_e6f5_11e8_b8d3_00242c20d943row0_col7\" class=\"data row0 col7\" >0</td> \n",
       "        <td id=\"T_3d48a6fa_e6f5_11e8_b8d3_00242c20d943row0_col8\" class=\"data row0 col8\" >17</td> \n",
       "        <td id=\"T_3d48a6fa_e6f5_11e8_b8d3_00242c20d943row0_col9\" class=\"data row0 col9\" >0</td> \n",
       "        <td id=\"T_3d48a6fa_e6f5_11e8_b8d3_00242c20d943row0_col10\" class=\"data row0 col10\" >1</td> \n",
       "        <td id=\"T_3d48a6fa_e6f5_11e8_b8d3_00242c20d943row0_col11\" class=\"data row0 col11\" >0</td> \n",
       "        <td id=\"T_3d48a6fa_e6f5_11e8_b8d3_00242c20d943row0_col12\" class=\"data row0 col12\" >2</td> \n",
       "        <td id=\"T_3d48a6fa_e6f5_11e8_b8d3_00242c20d943row0_col13\" class=\"data row0 col13\" >3</td> \n",
       "        <td id=\"T_3d48a6fa_e6f5_11e8_b8d3_00242c20d943row0_col14\" class=\"data row0 col14\" >1</td> \n",
       "        <td id=\"T_3d48a6fa_e6f5_11e8_b8d3_00242c20d943row0_col15\" class=\"data row0 col15\" >81</td> \n",
       "    </tr>    <tr> \n",
       "        <th id=\"T_3d48a6fa_e6f5_11e8_b8d3_00242c20d943level1_row1\" class=\"row_heading level1 row1\" >1</th> \n",
       "        <td id=\"T_3d48a6fa_e6f5_11e8_b8d3_00242c20d943row1_col0\" class=\"data row1 col0\" >63</td> \n",
       "        <td id=\"T_3d48a6fa_e6f5_11e8_b8d3_00242c20d943row1_col1\" class=\"data row1 col1\" >40</td> \n",
       "        <td id=\"T_3d48a6fa_e6f5_11e8_b8d3_00242c20d943row1_col2\" class=\"data row1 col2\" >50</td> \n",
       "        <td id=\"T_3d48a6fa_e6f5_11e8_b8d3_00242c20d943row1_col3\" class=\"data row1 col3\" >17</td> \n",
       "        <td id=\"T_3d48a6fa_e6f5_11e8_b8d3_00242c20d943row1_col4\" class=\"data row1 col4\" >17</td> \n",
       "        <td id=\"T_3d48a6fa_e6f5_11e8_b8d3_00242c20d943row1_col5\" class=\"data row1 col5\" >12</td> \n",
       "        <td id=\"T_3d48a6fa_e6f5_11e8_b8d3_00242c20d943row1_col6\" class=\"data row1 col6\" >11</td> \n",
       "        <td id=\"T_3d48a6fa_e6f5_11e8_b8d3_00242c20d943row1_col7\" class=\"data row1 col7\" >11</td> \n",
       "        <td id=\"T_3d48a6fa_e6f5_11e8_b8d3_00242c20d943row1_col8\" class=\"data row1 col8\" >8</td> \n",
       "        <td id=\"T_3d48a6fa_e6f5_11e8_b8d3_00242c20d943row1_col9\" class=\"data row1 col9\" >2</td> \n",
       "        <td id=\"T_3d48a6fa_e6f5_11e8_b8d3_00242c20d943row1_col10\" class=\"data row1 col10\" >1</td> \n",
       "        <td id=\"T_3d48a6fa_e6f5_11e8_b8d3_00242c20d943row1_col11\" class=\"data row1 col11\" >0</td> \n",
       "        <td id=\"T_3d48a6fa_e6f5_11e8_b8d3_00242c20d943row1_col12\" class=\"data row1 col12\" >0</td> \n",
       "        <td id=\"T_3d48a6fa_e6f5_11e8_b8d3_00242c20d943row1_col13\" class=\"data row1 col13\" >1</td> \n",
       "        <td id=\"T_3d48a6fa_e6f5_11e8_b8d3_00242c20d943row1_col14\" class=\"data row1 col14\" >0</td> \n",
       "        <td id=\"T_3d48a6fa_e6f5_11e8_b8d3_00242c20d943row1_col15\" class=\"data row1 col15\" >233</td> \n",
       "    </tr>    <tr> \n",
       "        <th id=\"T_3d48a6fa_e6f5_11e8_b8d3_00242c20d943level0_row2\" class=\"row_heading level0 row2\" rowspan=2>male</th> \n",
       "        <th id=\"T_3d48a6fa_e6f5_11e8_b8d3_00242c20d943level1_row2\" class=\"row_heading level1 row2\" >0</th> \n",
       "        <td id=\"T_3d48a6fa_e6f5_11e8_b8d3_00242c20d943row2_col0\" class=\"data row2 col0\" >63</td> \n",
       "        <td id=\"T_3d48a6fa_e6f5_11e8_b8d3_00242c20d943row2_col1\" class=\"data row2 col1\" >81</td> \n",
       "        <td id=\"T_3d48a6fa_e6f5_11e8_b8d3_00242c20d943row2_col2\" class=\"data row2 col2\" >260</td> \n",
       "        <td id=\"T_3d48a6fa_e6f5_11e8_b8d3_00242c20d943row2_col3\" class=\"data row2 col3\" >10</td> \n",
       "        <td id=\"T_3d48a6fa_e6f5_11e8_b8d3_00242c20d943row2_col4\" class=\"data row2 col4\" >7</td> \n",
       "        <td id=\"T_3d48a6fa_e6f5_11e8_b8d3_00242c20d943row2_col5\" class=\"data row2 col5\" >22</td> \n",
       "        <td id=\"T_3d48a6fa_e6f5_11e8_b8d3_00242c20d943row2_col6\" class=\"data row2 col6\" >3</td> \n",
       "        <td id=\"T_3d48a6fa_e6f5_11e8_b8d3_00242c20d943row2_col7\" class=\"data row2 col7\" >3</td> \n",
       "        <td id=\"T_3d48a6fa_e6f5_11e8_b8d3_00242c20d943row2_col8\" class=\"data row2 col8\" >15</td> \n",
       "        <td id=\"T_3d48a6fa_e6f5_11e8_b8d3_00242c20d943row2_col9\" class=\"data row2 col9\" >0</td> \n",
       "        <td id=\"T_3d48a6fa_e6f5_11e8_b8d3_00242c20d943row2_col10\" class=\"data row2 col10\" >1</td> \n",
       "        <td id=\"T_3d48a6fa_e6f5_11e8_b8d3_00242c20d943row2_col11\" class=\"data row2 col11\" >1</td> \n",
       "        <td id=\"T_3d48a6fa_e6f5_11e8_b8d3_00242c20d943row2_col12\" class=\"data row2 col12\" >1</td> \n",
       "        <td id=\"T_3d48a6fa_e6f5_11e8_b8d3_00242c20d943row2_col13\" class=\"data row2 col13\" >1</td> \n",
       "        <td id=\"T_3d48a6fa_e6f5_11e8_b8d3_00242c20d943row2_col14\" class=\"data row2 col14\" >0</td> \n",
       "        <td id=\"T_3d48a6fa_e6f5_11e8_b8d3_00242c20d943row2_col15\" class=\"data row2 col15\" >468</td> \n",
       "    </tr>    <tr> \n",
       "        <th id=\"T_3d48a6fa_e6f5_11e8_b8d3_00242c20d943level1_row3\" class=\"row_heading level1 row3\" >1</th> \n",
       "        <td id=\"T_3d48a6fa_e6f5_11e8_b8d3_00242c20d943row3_col0\" class=\"data row3 col0\" >36</td> \n",
       "        <td id=\"T_3d48a6fa_e6f5_11e8_b8d3_00242c20d943row3_col1\" class=\"data row3 col1\" >8</td> \n",
       "        <td id=\"T_3d48a6fa_e6f5_11e8_b8d3_00242c20d943row3_col2\" class=\"data row3 col2\" >36</td> \n",
       "        <td id=\"T_3d48a6fa_e6f5_11e8_b8d3_00242c20d943row3_col3\" class=\"data row3 col3\" >4</td> \n",
       "        <td id=\"T_3d48a6fa_e6f5_11e8_b8d3_00242c20d943row3_col4\" class=\"data row3 col4\" >7</td> \n",
       "        <td id=\"T_3d48a6fa_e6f5_11e8_b8d3_00242c20d943row3_col5\" class=\"data row3 col5\" >8</td> \n",
       "        <td id=\"T_3d48a6fa_e6f5_11e8_b8d3_00242c20d943row3_col6\" class=\"data row3 col6\" >5</td> \n",
       "        <td id=\"T_3d48a6fa_e6f5_11e8_b8d3_00242c20d943row3_col7\" class=\"data row3 col7\" >2</td> \n",
       "        <td id=\"T_3d48a6fa_e6f5_11e8_b8d3_00242c20d943row3_col8\" class=\"data row3 col8\" >3</td> \n",
       "        <td id=\"T_3d48a6fa_e6f5_11e8_b8d3_00242c20d943row3_col9\" class=\"data row3 col9\" >0</td> \n",
       "        <td id=\"T_3d48a6fa_e6f5_11e8_b8d3_00242c20d943row3_col10\" class=\"data row3 col10\" >0</td> \n",
       "        <td id=\"T_3d48a6fa_e6f5_11e8_b8d3_00242c20d943row3_col11\" class=\"data row3 col11\" >0</td> \n",
       "        <td id=\"T_3d48a6fa_e6f5_11e8_b8d3_00242c20d943row3_col12\" class=\"data row3 col12\" >0</td> \n",
       "        <td id=\"T_3d48a6fa_e6f5_11e8_b8d3_00242c20d943row3_col13\" class=\"data row3 col13\" >0</td> \n",
       "        <td id=\"T_3d48a6fa_e6f5_11e8_b8d3_00242c20d943row3_col14\" class=\"data row3 col14\" >0</td> \n",
       "        <td id=\"T_3d48a6fa_e6f5_11e8_b8d3_00242c20d943row3_col15\" class=\"data row3 col15\" >109</td> \n",
       "    </tr>    <tr> \n",
       "        <th id=\"T_3d48a6fa_e6f5_11e8_b8d3_00242c20d943level0_row4\" class=\"row_heading level0 row4\" >All</th> \n",
       "        <th id=\"T_3d48a6fa_e6f5_11e8_b8d3_00242c20d943level1_row4\" class=\"row_heading level1 row4\" ></th> \n",
       "        <td id=\"T_3d48a6fa_e6f5_11e8_b8d3_00242c20d943row4_col0\" class=\"data row4 col0\" >163</td> \n",
       "        <td id=\"T_3d48a6fa_e6f5_11e8_b8d3_00242c20d943row4_col1\" class=\"data row4 col1\" >134</td> \n",
       "        <td id=\"T_3d48a6fa_e6f5_11e8_b8d3_00242c20d943row4_col2\" class=\"data row4 col2\" >381</td> \n",
       "        <td id=\"T_3d48a6fa_e6f5_11e8_b8d3_00242c20d943row4_col3\" class=\"data row4 col3\" >31</td> \n",
       "        <td id=\"T_3d48a6fa_e6f5_11e8_b8d3_00242c20d943row4_col4\" class=\"data row4 col4\" >32</td> \n",
       "        <td id=\"T_3d48a6fa_e6f5_11e8_b8d3_00242c20d943row4_col5\" class=\"data row4 col5\" >55</td> \n",
       "        <td id=\"T_3d48a6fa_e6f5_11e8_b8d3_00242c20d943row4_col6\" class=\"data row4 col6\" >21</td> \n",
       "        <td id=\"T_3d48a6fa_e6f5_11e8_b8d3_00242c20d943row4_col7\" class=\"data row4 col7\" >16</td> \n",
       "        <td id=\"T_3d48a6fa_e6f5_11e8_b8d3_00242c20d943row4_col8\" class=\"data row4 col8\" >43</td> \n",
       "        <td id=\"T_3d48a6fa_e6f5_11e8_b8d3_00242c20d943row4_col9\" class=\"data row4 col9\" >2</td> \n",
       "        <td id=\"T_3d48a6fa_e6f5_11e8_b8d3_00242c20d943row4_col10\" class=\"data row4 col10\" >3</td> \n",
       "        <td id=\"T_3d48a6fa_e6f5_11e8_b8d3_00242c20d943row4_col11\" class=\"data row4 col11\" >1</td> \n",
       "        <td id=\"T_3d48a6fa_e6f5_11e8_b8d3_00242c20d943row4_col12\" class=\"data row4 col12\" >3</td> \n",
       "        <td id=\"T_3d48a6fa_e6f5_11e8_b8d3_00242c20d943row4_col13\" class=\"data row4 col13\" >5</td> \n",
       "        <td id=\"T_3d48a6fa_e6f5_11e8_b8d3_00242c20d943row4_col14\" class=\"data row4 col14\" >1</td> \n",
       "        <td id=\"T_3d48a6fa_e6f5_11e8_b8d3_00242c20d943row4_col15\" class=\"data row4 col15\" >891</td> \n",
       "    </tr></tbody> \n",
       "</table> "
      ],
      "text/plain": [
       "<pandas.io.formats.style.Styler at 0x1f281ed6518>"
      ]
     },
     "execution_count": 39,
     "metadata": {},
     "output_type": "execute_result"
    }
   ],
   "source": [
    "pd.crosstab([df_train.Sex, df_train.Survived], [df_train.Parch, df_train.Pclass], margins= True).style.background_gradient(cmap='autumn_r')"
   ]
  },
  {
   "cell_type": "code",
   "execution_count": 40,
   "metadata": {},
   "outputs": [
    {
     "data": {
      "text/html": [
       "<div>\n",
       "<style scoped>\n",
       "    .dataframe tbody tr th:only-of-type {\n",
       "        vertical-align: middle;\n",
       "    }\n",
       "\n",
       "    .dataframe tbody tr th {\n",
       "        vertical-align: top;\n",
       "    }\n",
       "\n",
       "    .dataframe thead th {\n",
       "        text-align: right;\n",
       "    }\n",
       "</style>\n",
       "<table border=\"1\" class=\"dataframe\">\n",
       "  <thead>\n",
       "    <tr style=\"text-align: right;\">\n",
       "      <th></th>\n",
       "      <th>PassengerId</th>\n",
       "      <th>Pclass</th>\n",
       "      <th>Name</th>\n",
       "      <th>Sex</th>\n",
       "      <th>Age</th>\n",
       "      <th>SibSp</th>\n",
       "      <th>Parch</th>\n",
       "      <th>Ticket</th>\n",
       "      <th>Fare</th>\n",
       "      <th>Cabin</th>\n",
       "      <th>Embarked</th>\n",
       "      <th>Survived</th>\n",
       "      <th>Age_bin</th>\n",
       "    </tr>\n",
       "  </thead>\n",
       "  <tbody>\n",
       "    <tr>\n",
       "      <th>0</th>\n",
       "      <td>892</td>\n",
       "      <td>3</td>\n",
       "      <td>Kelly, Mr. James</td>\n",
       "      <td>male</td>\n",
       "      <td>34.5</td>\n",
       "      <td>0</td>\n",
       "      <td>0</td>\n",
       "      <td>330911</td>\n",
       "      <td>7.8292</td>\n",
       "      <td>NaN</td>\n",
       "      <td>Q</td>\n",
       "      <td>0</td>\n",
       "      <td>4.0</td>\n",
       "    </tr>\n",
       "    <tr>\n",
       "      <th>1</th>\n",
       "      <td>893</td>\n",
       "      <td>3</td>\n",
       "      <td>Wilkes, Mrs. James (Ellen Needs)</td>\n",
       "      <td>female</td>\n",
       "      <td>47.0</td>\n",
       "      <td>1</td>\n",
       "      <td>0</td>\n",
       "      <td>363272</td>\n",
       "      <td>7.0000</td>\n",
       "      <td>NaN</td>\n",
       "      <td>S</td>\n",
       "      <td>0</td>\n",
       "      <td>5.0</td>\n",
       "    </tr>\n",
       "    <tr>\n",
       "      <th>2</th>\n",
       "      <td>894</td>\n",
       "      <td>2</td>\n",
       "      <td>Myles, Mr. Thomas Francis</td>\n",
       "      <td>male</td>\n",
       "      <td>62.0</td>\n",
       "      <td>0</td>\n",
       "      <td>0</td>\n",
       "      <td>240276</td>\n",
       "      <td>9.6875</td>\n",
       "      <td>NaN</td>\n",
       "      <td>Q</td>\n",
       "      <td>0</td>\n",
       "      <td>7.0</td>\n",
       "    </tr>\n",
       "    <tr>\n",
       "      <th>3</th>\n",
       "      <td>895</td>\n",
       "      <td>3</td>\n",
       "      <td>Wirz, Mr. Albert</td>\n",
       "      <td>male</td>\n",
       "      <td>27.0</td>\n",
       "      <td>0</td>\n",
       "      <td>0</td>\n",
       "      <td>315154</td>\n",
       "      <td>8.6625</td>\n",
       "      <td>NaN</td>\n",
       "      <td>S</td>\n",
       "      <td>0</td>\n",
       "      <td>3.0</td>\n",
       "    </tr>\n",
       "    <tr>\n",
       "      <th>4</th>\n",
       "      <td>896</td>\n",
       "      <td>3</td>\n",
       "      <td>Hirvonen, Mrs. Alexander (Helga E Lindqvist)</td>\n",
       "      <td>female</td>\n",
       "      <td>22.0</td>\n",
       "      <td>1</td>\n",
       "      <td>1</td>\n",
       "      <td>3101298</td>\n",
       "      <td>12.2875</td>\n",
       "      <td>NaN</td>\n",
       "      <td>S</td>\n",
       "      <td>0</td>\n",
       "      <td>3.0</td>\n",
       "    </tr>\n",
       "    <tr>\n",
       "      <th>5</th>\n",
       "      <td>897</td>\n",
       "      <td>3</td>\n",
       "      <td>Svensson, Mr. Johan Cervin</td>\n",
       "      <td>male</td>\n",
       "      <td>14.0</td>\n",
       "      <td>0</td>\n",
       "      <td>0</td>\n",
       "      <td>7538</td>\n",
       "      <td>9.2250</td>\n",
       "      <td>NaN</td>\n",
       "      <td>S</td>\n",
       "      <td>0</td>\n",
       "      <td>2.0</td>\n",
       "    </tr>\n",
       "    <tr>\n",
       "      <th>6</th>\n",
       "      <td>898</td>\n",
       "      <td>3</td>\n",
       "      <td>Connolly, Miss. Kate</td>\n",
       "      <td>female</td>\n",
       "      <td>30.0</td>\n",
       "      <td>0</td>\n",
       "      <td>0</td>\n",
       "      <td>330972</td>\n",
       "      <td>7.6292</td>\n",
       "      <td>NaN</td>\n",
       "      <td>Q</td>\n",
       "      <td>1</td>\n",
       "      <td>3.0</td>\n",
       "    </tr>\n",
       "    <tr>\n",
       "      <th>7</th>\n",
       "      <td>899</td>\n",
       "      <td>2</td>\n",
       "      <td>Caldwell, Mr. Albert Francis</td>\n",
       "      <td>male</td>\n",
       "      <td>26.0</td>\n",
       "      <td>1</td>\n",
       "      <td>1</td>\n",
       "      <td>248738</td>\n",
       "      <td>29.0000</td>\n",
       "      <td>NaN</td>\n",
       "      <td>S</td>\n",
       "      <td>0</td>\n",
       "      <td>3.0</td>\n",
       "    </tr>\n",
       "    <tr>\n",
       "      <th>8</th>\n",
       "      <td>900</td>\n",
       "      <td>3</td>\n",
       "      <td>Abrahim, Mrs. Joseph (Sophie Halaut Easu)</td>\n",
       "      <td>female</td>\n",
       "      <td>18.0</td>\n",
       "      <td>0</td>\n",
       "      <td>0</td>\n",
       "      <td>2657</td>\n",
       "      <td>7.2292</td>\n",
       "      <td>NaN</td>\n",
       "      <td>C</td>\n",
       "      <td>1</td>\n",
       "      <td>2.0</td>\n",
       "    </tr>\n",
       "    <tr>\n",
       "      <th>9</th>\n",
       "      <td>901</td>\n",
       "      <td>3</td>\n",
       "      <td>Davies, Mr. John Samuel</td>\n",
       "      <td>male</td>\n",
       "      <td>21.0</td>\n",
       "      <td>2</td>\n",
       "      <td>0</td>\n",
       "      <td>A/4 48871</td>\n",
       "      <td>24.1500</td>\n",
       "      <td>NaN</td>\n",
       "      <td>S</td>\n",
       "      <td>0</td>\n",
       "      <td>3.0</td>\n",
       "    </tr>\n",
       "    <tr>\n",
       "      <th>10</th>\n",
       "      <td>902</td>\n",
       "      <td>3</td>\n",
       "      <td>Ilieff, Mr. Ylio</td>\n",
       "      <td>male</td>\n",
       "      <td>NaN</td>\n",
       "      <td>0</td>\n",
       "      <td>0</td>\n",
       "      <td>349220</td>\n",
       "      <td>7.8958</td>\n",
       "      <td>NaN</td>\n",
       "      <td>S</td>\n",
       "      <td>0</td>\n",
       "      <td>NaN</td>\n",
       "    </tr>\n",
       "    <tr>\n",
       "      <th>11</th>\n",
       "      <td>903</td>\n",
       "      <td>1</td>\n",
       "      <td>Jones, Mr. Charles Cresson</td>\n",
       "      <td>male</td>\n",
       "      <td>46.0</td>\n",
       "      <td>0</td>\n",
       "      <td>0</td>\n",
       "      <td>694</td>\n",
       "      <td>26.0000</td>\n",
       "      <td>NaN</td>\n",
       "      <td>S</td>\n",
       "      <td>0</td>\n",
       "      <td>5.0</td>\n",
       "    </tr>\n",
       "    <tr>\n",
       "      <th>12</th>\n",
       "      <td>904</td>\n",
       "      <td>1</td>\n",
       "      <td>Snyder, Mrs. John Pillsbury (Nelle Stevenson)</td>\n",
       "      <td>female</td>\n",
       "      <td>23.0</td>\n",
       "      <td>1</td>\n",
       "      <td>0</td>\n",
       "      <td>21228</td>\n",
       "      <td>82.2667</td>\n",
       "      <td>B45</td>\n",
       "      <td>S</td>\n",
       "      <td>1</td>\n",
       "      <td>3.0</td>\n",
       "    </tr>\n",
       "    <tr>\n",
       "      <th>13</th>\n",
       "      <td>905</td>\n",
       "      <td>2</td>\n",
       "      <td>Howard, Mr. Benjamin</td>\n",
       "      <td>male</td>\n",
       "      <td>63.0</td>\n",
       "      <td>1</td>\n",
       "      <td>0</td>\n",
       "      <td>24065</td>\n",
       "      <td>26.0000</td>\n",
       "      <td>NaN</td>\n",
       "      <td>S</td>\n",
       "      <td>0</td>\n",
       "      <td>7.0</td>\n",
       "    </tr>\n",
       "    <tr>\n",
       "      <th>14</th>\n",
       "      <td>906</td>\n",
       "      <td>1</td>\n",
       "      <td>Chaffee, Mrs. Herbert Fuller (Carrie Constance...</td>\n",
       "      <td>female</td>\n",
       "      <td>47.0</td>\n",
       "      <td>1</td>\n",
       "      <td>0</td>\n",
       "      <td>W.E.P. 5734</td>\n",
       "      <td>61.1750</td>\n",
       "      <td>E31</td>\n",
       "      <td>S</td>\n",
       "      <td>1</td>\n",
       "      <td>5.0</td>\n",
       "    </tr>\n",
       "    <tr>\n",
       "      <th>15</th>\n",
       "      <td>907</td>\n",
       "      <td>2</td>\n",
       "      <td>del Carlo, Mrs. Sebastiano (Argenia Genovesi)</td>\n",
       "      <td>female</td>\n",
       "      <td>24.0</td>\n",
       "      <td>1</td>\n",
       "      <td>0</td>\n",
       "      <td>SC/PARIS 2167</td>\n",
       "      <td>27.7208</td>\n",
       "      <td>NaN</td>\n",
       "      <td>C</td>\n",
       "      <td>1</td>\n",
       "      <td>3.0</td>\n",
       "    </tr>\n",
       "    <tr>\n",
       "      <th>16</th>\n",
       "      <td>908</td>\n",
       "      <td>2</td>\n",
       "      <td>Keane, Mr. Daniel</td>\n",
       "      <td>male</td>\n",
       "      <td>35.0</td>\n",
       "      <td>0</td>\n",
       "      <td>0</td>\n",
       "      <td>233734</td>\n",
       "      <td>12.3500</td>\n",
       "      <td>NaN</td>\n",
       "      <td>Q</td>\n",
       "      <td>0</td>\n",
       "      <td>4.0</td>\n",
       "    </tr>\n",
       "    <tr>\n",
       "      <th>17</th>\n",
       "      <td>909</td>\n",
       "      <td>3</td>\n",
       "      <td>Assaf, Mr. Gerios</td>\n",
       "      <td>male</td>\n",
       "      <td>21.0</td>\n",
       "      <td>0</td>\n",
       "      <td>0</td>\n",
       "      <td>2692</td>\n",
       "      <td>7.2250</td>\n",
       "      <td>NaN</td>\n",
       "      <td>C</td>\n",
       "      <td>0</td>\n",
       "      <td>3.0</td>\n",
       "    </tr>\n",
       "    <tr>\n",
       "      <th>18</th>\n",
       "      <td>910</td>\n",
       "      <td>3</td>\n",
       "      <td>Ilmakangas, Miss. Ida Livija</td>\n",
       "      <td>female</td>\n",
       "      <td>27.0</td>\n",
       "      <td>1</td>\n",
       "      <td>0</td>\n",
       "      <td>STON/O2. 3101270</td>\n",
       "      <td>7.9250</td>\n",
       "      <td>NaN</td>\n",
       "      <td>S</td>\n",
       "      <td>0</td>\n",
       "      <td>3.0</td>\n",
       "    </tr>\n",
       "    <tr>\n",
       "      <th>19</th>\n",
       "      <td>911</td>\n",
       "      <td>3</td>\n",
       "      <td>Assaf Khalil, Mrs. Mariana (Miriam\")\"</td>\n",
       "      <td>female</td>\n",
       "      <td>45.0</td>\n",
       "      <td>0</td>\n",
       "      <td>0</td>\n",
       "      <td>2696</td>\n",
       "      <td>7.2250</td>\n",
       "      <td>NaN</td>\n",
       "      <td>C</td>\n",
       "      <td>1</td>\n",
       "      <td>5.0</td>\n",
       "    </tr>\n",
       "  </tbody>\n",
       "</table>\n",
       "</div>"
      ],
      "text/plain": [
       "    PassengerId  Pclass                                               Name  \\\n",
       "0           892       3                                   Kelly, Mr. James   \n",
       "1           893       3                   Wilkes, Mrs. James (Ellen Needs)   \n",
       "2           894       2                          Myles, Mr. Thomas Francis   \n",
       "3           895       3                                   Wirz, Mr. Albert   \n",
       "4           896       3       Hirvonen, Mrs. Alexander (Helga E Lindqvist)   \n",
       "5           897       3                         Svensson, Mr. Johan Cervin   \n",
       "6           898       3                               Connolly, Miss. Kate   \n",
       "7           899       2                       Caldwell, Mr. Albert Francis   \n",
       "8           900       3          Abrahim, Mrs. Joseph (Sophie Halaut Easu)   \n",
       "9           901       3                            Davies, Mr. John Samuel   \n",
       "10          902       3                                   Ilieff, Mr. Ylio   \n",
       "11          903       1                         Jones, Mr. Charles Cresson   \n",
       "12          904       1      Snyder, Mrs. John Pillsbury (Nelle Stevenson)   \n",
       "13          905       2                               Howard, Mr. Benjamin   \n",
       "14          906       1  Chaffee, Mrs. Herbert Fuller (Carrie Constance...   \n",
       "15          907       2      del Carlo, Mrs. Sebastiano (Argenia Genovesi)   \n",
       "16          908       2                                  Keane, Mr. Daniel   \n",
       "17          909       3                                  Assaf, Mr. Gerios   \n",
       "18          910       3                       Ilmakangas, Miss. Ida Livija   \n",
       "19          911       3              Assaf Khalil, Mrs. Mariana (Miriam\")\"   \n",
       "\n",
       "       Sex   Age  SibSp  Parch            Ticket     Fare Cabin Embarked  \\\n",
       "0     male  34.5      0      0            330911   7.8292   NaN        Q   \n",
       "1   female  47.0      1      0            363272   7.0000   NaN        S   \n",
       "2     male  62.0      0      0            240276   9.6875   NaN        Q   \n",
       "3     male  27.0      0      0            315154   8.6625   NaN        S   \n",
       "4   female  22.0      1      1           3101298  12.2875   NaN        S   \n",
       "5     male  14.0      0      0              7538   9.2250   NaN        S   \n",
       "6   female  30.0      0      0            330972   7.6292   NaN        Q   \n",
       "7     male  26.0      1      1            248738  29.0000   NaN        S   \n",
       "8   female  18.0      0      0              2657   7.2292   NaN        C   \n",
       "9     male  21.0      2      0         A/4 48871  24.1500   NaN        S   \n",
       "10    male   NaN      0      0            349220   7.8958   NaN        S   \n",
       "11    male  46.0      0      0               694  26.0000   NaN        S   \n",
       "12  female  23.0      1      0             21228  82.2667   B45        S   \n",
       "13    male  63.0      1      0             24065  26.0000   NaN        S   \n",
       "14  female  47.0      1      0       W.E.P. 5734  61.1750   E31        S   \n",
       "15  female  24.0      1      0     SC/PARIS 2167  27.7208   NaN        C   \n",
       "16    male  35.0      0      0            233734  12.3500   NaN        Q   \n",
       "17    male  21.0      0      0              2692   7.2250   NaN        C   \n",
       "18  female  27.0      1      0  STON/O2. 3101270   7.9250   NaN        S   \n",
       "19  female  45.0      0      0              2696   7.2250   NaN        C   \n",
       "\n",
       "    Survived  Age_bin  \n",
       "0          0      4.0  \n",
       "1          0      5.0  \n",
       "2          0      7.0  \n",
       "3          0      3.0  \n",
       "4          0      3.0  \n",
       "5          0      2.0  \n",
       "6          1      3.0  \n",
       "7          0      3.0  \n",
       "8          1      2.0  \n",
       "9          0      3.0  \n",
       "10         0      NaN  \n",
       "11         0      5.0  \n",
       "12         1      3.0  \n",
       "13         0      7.0  \n",
       "14         1      5.0  \n",
       "15         1      3.0  \n",
       "16         0      4.0  \n",
       "17         0      3.0  \n",
       "18         0      3.0  \n",
       "19         1      5.0  "
      ]
     },
     "execution_count": 40,
     "metadata": {},
     "output_type": "execute_result"
    }
   ],
   "source": [
    "#survival rate is below 0.5 for females with Parch = 2 and Pclass = 3 \n",
    "df_test.loc[ (df_test.Sex == 'female') & (df_test.Pclass == 3) & (df_test.Parch == 2), 'Survived'] = 0\n",
    "\n",
    "# All females with Parch = 4 and Pclass = 3 died\n",
    "df_test.loc[ (df_test.Sex == 'female') & (df_test.Pclass == 3) & (df_test.Parch == 4), 'Survived'] = 0\n",
    "\n",
    "# all females with Parch > 4 died\n",
    "df_test.loc[ (df_test.Sex == 'female') & (df_test.Parch > 4) , 'Survived'] = 0\n",
    "\n",
    "# For males with Parch = 2 and Pclass = 1 survival rate is above 0.5\n",
    "df_test.loc[ (df_test.Sex == 'male') & (df_test.Pclass == 1) & (df_test.Parch == 1) , 'Survived'] = 1\n",
    "\n",
    "df_test.head(20)"
   ]
  },
  {
   "cell_type": "markdown",
   "metadata": {},
   "source": [
    "#### Fare: continuos numerical t 12 bins\n"
   ]
  },
  {
   "cell_type": "code",
   "execution_count": 41,
   "metadata": {},
   "outputs": [
    {
     "data": {
      "image/png": "[encoded data removed]",
      "text/plain": [
       "<matplotlib.figure.Figure at 0x1f281b270b8>"
      ]
     },
     "metadata": {},
     "output_type": "display_data"
    }
   ],
   "source": [
    "sns.distplot(df_train['Fare'])\n",
    "plt.show()"
   ]
  },
  {
   "cell_type": "code",
   "execution_count": 42,
   "metadata": {},
   "outputs": [],
   "source": [
    "for df in [df_train,df_test]:\n",
    "    df['Fare_bin'] = np.nan\n",
    "    for i in range(12,0,-1):\n",
    "        df.loc[df['Fare']<=i*50, 'Fare_bin'] = i"
   ]
  },
  {
   "cell_type": "code",
   "execution_count": 43,
   "metadata": {},
   "outputs": [
    {
     "data": {
      "image/png": "[encoded data removed]",
      "text/plain": [
       "<matplotlib.figure.Figure at 0x1f283e04160>"
      ]
     },
     "metadata": {},
     "output_type": "display_data"
    }
   ],
   "source": [
    "sns.factorplot('Fare_bin','Survived', col = 'Pclass', row ='Sex', kind = 'point', data= df_train)\n",
    "plt.show()"
   ]
  },
  {
   "cell_type": "code",
   "execution_count": 44,
   "metadata": {},
   "outputs": [
    {
     "data": {
      "text/html": [
       "<style  type=\"text/css\" >\n",
       "    #T_3ecc844c_e6f5_11e8_abdd_00242c20d943row0_col0 {\n",
       "            background-color:  #ffff00;\n",
       "        }    #T_3ecc844c_e6f5_11e8_abdd_00242c20d943row0_col1 {\n",
       "            background-color:  #ffff00;\n",
       "        }    #T_3ecc844c_e6f5_11e8_abdd_00242c20d943row0_col2 {\n",
       "            background-color:  #fff000;\n",
       "        }    #T_3ecc844c_e6f5_11e8_abdd_00242c20d943row0_col3 {\n",
       "            background-color:  #ffff00;\n",
       "        }    #T_3ecc844c_e6f5_11e8_abdd_00242c20d943row0_col4 {\n",
       "            background-color:  #ffff00;\n",
       "        }    #T_3ecc844c_e6f5_11e8_abdd_00242c20d943row0_col5 {\n",
       "            background-color:  #ffc900;\n",
       "        }    #T_3ecc844c_e6f5_11e8_abdd_00242c20d943row0_col6 {\n",
       "            background-color:  #ffff00;\n",
       "        }    #T_3ecc844c_e6f5_11e8_abdd_00242c20d943row0_col7 {\n",
       "            background-color:  #ffdf00;\n",
       "        }    #T_3ecc844c_e6f5_11e8_abdd_00242c20d943row0_col8 {\n",
       "            background-color:  #ffff00;\n",
       "        }    #T_3ecc844c_e6f5_11e8_abdd_00242c20d943row0_col9 {\n",
       "            background-color:  #ffff00;\n",
       "        }    #T_3ecc844c_e6f5_11e8_abdd_00242c20d943row0_col10 {\n",
       "            background-color:  #ffff00;\n",
       "        }    #T_3ecc844c_e6f5_11e8_abdd_00242c20d943row0_col11 {\n",
       "            background-color:  #ffff00;\n",
       "        }    #T_3ecc844c_e6f5_11e8_abdd_00242c20d943row1_col0 {\n",
       "            background-color:  #ffde00;\n",
       "        }    #T_3ecc844c_e6f5_11e8_abdd_00242c20d943row1_col1 {\n",
       "            background-color:  #ffa300;\n",
       "        }    #T_3ecc844c_e6f5_11e8_abdd_00242c20d943row1_col2 {\n",
       "            background-color:  #ffee00;\n",
       "        }    #T_3ecc844c_e6f5_11e8_abdd_00242c20d943row1_col3 {\n",
       "            background-color:  #ff7100;\n",
       "        }    #T_3ecc844c_e6f5_11e8_abdd_00242c20d943row1_col4 {\n",
       "            background-color:  #ffb600;\n",
       "        }    #T_3ecc844c_e6f5_11e8_abdd_00242c20d943row1_col5 {\n",
       "            background-color:  #ffff00;\n",
       "        }    #T_3ecc844c_e6f5_11e8_abdd_00242c20d943row1_col6 {\n",
       "            background-color:  #ff5f00;\n",
       "        }    #T_3ecc844c_e6f5_11e8_abdd_00242c20d943row1_col7 {\n",
       "            background-color:  #ff7f00;\n",
       "        }    #T_3ecc844c_e6f5_11e8_abdd_00242c20d943row1_col8 {\n",
       "            background-color:  #ff5d00;\n",
       "        }    #T_3ecc844c_e6f5_11e8_abdd_00242c20d943row1_col9 {\n",
       "            background-color:  #ff5500;\n",
       "        }    #T_3ecc844c_e6f5_11e8_abdd_00242c20d943row1_col10 {\n",
       "            background-color:  #ffaa00;\n",
       "        }    #T_3ecc844c_e6f5_11e8_abdd_00242c20d943row1_col11 {\n",
       "            background-color:  #ffcf00;\n",
       "        }    #T_3ecc844c_e6f5_11e8_abdd_00242c20d943row2_col0 {\n",
       "            background-color:  #ff7500;\n",
       "        }    #T_3ecc844c_e6f5_11e8_abdd_00242c20d943row2_col1 {\n",
       "            background-color:  #ff8800;\n",
       "        }    #T_3ecc844c_e6f5_11e8_abdd_00242c20d943row2_col2 {\n",
       "            background-color:  #ff6b00;\n",
       "        }    #T_3ecc844c_e6f5_11e8_abdd_00242c20d943row2_col3 {\n",
       "            background-color:  #ffbb00;\n",
       "        }    #T_3ecc844c_e6f5_11e8_abdd_00242c20d943row2_col4 {\n",
       "            background-color:  #ff4900;\n",
       "        }    #T_3ecc844c_e6f5_11e8_abdd_00242c20d943row2_col5 {\n",
       "            background-color:  #ff9200;\n",
       "        }    #T_3ecc844c_e6f5_11e8_abdd_00242c20d943row2_col6 {\n",
       "            background-color:  #ffca00;\n",
       "        }    #T_3ecc844c_e6f5_11e8_abdd_00242c20d943row2_col7 {\n",
       "            background-color:  #ffff00;\n",
       "        }    #T_3ecc844c_e6f5_11e8_abdd_00242c20d943row2_col8 {\n",
       "            background-color:  #ffa200;\n",
       "        }    #T_3ecc844c_e6f5_11e8_abdd_00242c20d943row2_col9 {\n",
       "            background-color:  #ffaa00;\n",
       "        }    #T_3ecc844c_e6f5_11e8_abdd_00242c20d943row2_col10 {\n",
       "            background-color:  #ffff00;\n",
       "        }    #T_3ecc844c_e6f5_11e8_abdd_00242c20d943row2_col11 {\n",
       "            background-color:  #ff8500;\n",
       "        }    #T_3ecc844c_e6f5_11e8_abdd_00242c20d943row3_col0 {\n",
       "            background-color:  #ffb500;\n",
       "        }    #T_3ecc844c_e6f5_11e8_abdd_00242c20d943row3_col1 {\n",
       "            background-color:  #ffef00;\n",
       "        }    #T_3ecc844c_e6f5_11e8_abdd_00242c20d943row3_col2 {\n",
       "            background-color:  #ffff00;\n",
       "        }    #T_3ecc844c_e6f5_11e8_abdd_00242c20d943row3_col3 {\n",
       "            background-color:  #ffd300;\n",
       "        }    #T_3ecc844c_e6f5_11e8_abdd_00242c20d943row3_col4 {\n",
       "            background-color:  #ffff00;\n",
       "        }    #T_3ecc844c_e6f5_11e8_abdd_00242c20d943row3_col5 {\n",
       "            background-color:  #ffa400;\n",
       "        }    #T_3ecc844c_e6f5_11e8_abdd_00242c20d943row3_col6 {\n",
       "            background-color:  #ffd500;\n",
       "        }    #T_3ecc844c_e6f5_11e8_abdd_00242c20d943row3_col7 {\n",
       "            background-color:  #ffff00;\n",
       "        }    #T_3ecc844c_e6f5_11e8_abdd_00242c20d943row3_col8 {\n",
       "            background-color:  #ffff00;\n",
       "        }    #T_3ecc844c_e6f5_11e8_abdd_00242c20d943row3_col9 {\n",
       "            background-color:  #ffff00;\n",
       "        }    #T_3ecc844c_e6f5_11e8_abdd_00242c20d943row3_col10 {\n",
       "            background-color:  #ff5500;\n",
       "        }    #T_3ecc844c_e6f5_11e8_abdd_00242c20d943row3_col11 {\n",
       "            background-color:  #fff700;\n",
       "        }    #T_3ecc844c_e6f5_11e8_abdd_00242c20d943row4_col0 {\n",
       "            background-color:  #ff0000;\n",
       "        }    #T_3ecc844c_e6f5_11e8_abdd_00242c20d943row4_col1 {\n",
       "            background-color:  #ff0000;\n",
       "        }    #T_3ecc844c_e6f5_11e8_abdd_00242c20d943row4_col2 {\n",
       "            background-color:  #ff0000;\n",
       "        }    #T_3ecc844c_e6f5_11e8_abdd_00242c20d943row4_col3 {\n",
       "            background-color:  #ff0000;\n",
       "        }    #T_3ecc844c_e6f5_11e8_abdd_00242c20d943row4_col4 {\n",
       "            background-color:  #ff0000;\n",
       "        }    #T_3ecc844c_e6f5_11e8_abdd_00242c20d943row4_col5 {\n",
       "            background-color:  #ff0000;\n",
       "        }    #T_3ecc844c_e6f5_11e8_abdd_00242c20d943row4_col6 {\n",
       "            background-color:  #ff0000;\n",
       "        }    #T_3ecc844c_e6f5_11e8_abdd_00242c20d943row4_col7 {\n",
       "            background-color:  #ff0000;\n",
       "        }    #T_3ecc844c_e6f5_11e8_abdd_00242c20d943row4_col8 {\n",
       "            background-color:  #ff0000;\n",
       "        }    #T_3ecc844c_e6f5_11e8_abdd_00242c20d943row4_col9 {\n",
       "            background-color:  #ff0000;\n",
       "        }    #T_3ecc844c_e6f5_11e8_abdd_00242c20d943row4_col10 {\n",
       "            background-color:  #ff0000;\n",
       "        }    #T_3ecc844c_e6f5_11e8_abdd_00242c20d943row4_col11 {\n",
       "            background-color:  #ff0000;\n",
       "        }</style>  \n",
       "<table id=\"T_3ecc844c_e6f5_11e8_abdd_00242c20d943\" > \n",
       "<thead>    <tr> \n",
       "        <th class=\"blank\" ></th> \n",
       "        <th class=\"index_name level0\" >Fare_bin</th> \n",
       "        <th class=\"col_heading level0 col0\" colspan=3>1.0</th> \n",
       "        <th class=\"col_heading level0 col3\" colspan=3>2.0</th> \n",
       "        <th class=\"col_heading level0 col6\" >3.0</th> \n",
       "        <th class=\"col_heading level0 col7\" >4.0</th> \n",
       "        <th class=\"col_heading level0 col8\" >5.0</th> \n",
       "        <th class=\"col_heading level0 col9\" >6.0</th> \n",
       "        <th class=\"col_heading level0 col10\" >11.0</th> \n",
       "        <th class=\"col_heading level0 col11\" >All</th> \n",
       "    </tr>    <tr> \n",
       "        <th class=\"blank\" ></th> \n",
       "        <th class=\"index_name level1\" >Pclass</th> \n",
       "        <th class=\"col_heading level1 col0\" >1</th> \n",
       "        <th class=\"col_heading level1 col1\" >2</th> \n",
       "        <th class=\"col_heading level1 col2\" >3</th> \n",
       "        <th class=\"col_heading level1 col3\" >1</th> \n",
       "        <th class=\"col_heading level1 col4\" >2</th> \n",
       "        <th class=\"col_heading level1 col5\" >3</th> \n",
       "        <th class=\"col_heading level1 col6\" >1</th> \n",
       "        <th class=\"col_heading level1 col7\" >1</th> \n",
       "        <th class=\"col_heading level1 col8\" >1</th> \n",
       "        <th class=\"col_heading level1 col9\" >1</th> \n",
       "        <th class=\"col_heading level1 col10\" >1</th> \n",
       "        <th class=\"col_heading level1 col11\" ></th> \n",
       "    </tr>    <tr> \n",
       "        <th class=\"index_name level0\" >Sex</th> \n",
       "        <th class=\"index_name level1\" >Survived</th> \n",
       "        <th class=\"blank\" ></th> \n",
       "        <th class=\"blank\" ></th> \n",
       "        <th class=\"blank\" ></th> \n",
       "        <th class=\"blank\" ></th> \n",
       "        <th class=\"blank\" ></th> \n",
       "        <th class=\"blank\" ></th> \n",
       "        <th class=\"blank\" ></th> \n",
       "        <th class=\"blank\" ></th> \n",
       "        <th class=\"blank\" ></th> \n",
       "        <th class=\"blank\" ></th> \n",
       "        <th class=\"blank\" ></th> \n",
       "        <th class=\"blank\" ></th> \n",
       "    </tr></thead> \n",
       "<tbody>    <tr> \n",
       "        <th id=\"T_3ecc844c_e6f5_11e8_abdd_00242c20d943level0_row0\" class=\"row_heading level0 row0\" rowspan=2>female</th> \n",
       "        <th id=\"T_3ecc844c_e6f5_11e8_abdd_00242c20d943level1_row0\" class=\"row_heading level1 row0\" >0</th> \n",
       "        <td id=\"T_3ecc844c_e6f5_11e8_abdd_00242c20d943row0_col0\" class=\"data row0 col0\" >1</td> \n",
       "        <td id=\"T_3ecc844c_e6f5_11e8_abdd_00242c20d943row0_col1\" class=\"data row0 col1\" >6</td> \n",
       "        <td id=\"T_3ecc844c_e6f5_11e8_abdd_00242c20d943row0_col2\" class=\"data row0 col2\" >69</td> \n",
       "        <td id=\"T_3ecc844c_e6f5_11e8_abdd_00242c20d943row0_col3\" class=\"data row0 col3\" >0</td> \n",
       "        <td id=\"T_3ecc844c_e6f5_11e8_abdd_00242c20d943row0_col4\" class=\"data row0 col4\" >0</td> \n",
       "        <td id=\"T_3ecc844c_e6f5_11e8_abdd_00242c20d943row0_col5\" class=\"data row0 col5\" >3</td> \n",
       "        <td id=\"T_3ecc844c_e6f5_11e8_abdd_00242c20d943row0_col6\" class=\"data row0 col6\" >0</td> \n",
       "        <td id=\"T_3ecc844c_e6f5_11e8_abdd_00242c20d943row0_col7\" class=\"data row0 col7\" >2</td> \n",
       "        <td id=\"T_3ecc844c_e6f5_11e8_abdd_00242c20d943row0_col8\" class=\"data row0 col8\" >0</td> \n",
       "        <td id=\"T_3ecc844c_e6f5_11e8_abdd_00242c20d943row0_col9\" class=\"data row0 col9\" >0</td> \n",
       "        <td id=\"T_3ecc844c_e6f5_11e8_abdd_00242c20d943row0_col10\" class=\"data row0 col10\" >0</td> \n",
       "        <td id=\"T_3ecc844c_e6f5_11e8_abdd_00242c20d943row0_col11\" class=\"data row0 col11\" >81</td> \n",
       "    </tr>    <tr> \n",
       "        <th id=\"T_3ecc844c_e6f5_11e8_abdd_00242c20d943level1_row1\" class=\"row_heading level1 row1\" >1</th> \n",
       "        <td id=\"T_3ecc844c_e6f5_11e8_abdd_00242c20d943row1_col0\" class=\"data row1 col0\" >11</td> \n",
       "        <td id=\"T_3ecc844c_e6f5_11e8_abdd_00242c20d943row1_col1\" class=\"data row1 col1\" >68</td> \n",
       "        <td id=\"T_3ecc844c_e6f5_11e8_abdd_00242c20d943row1_col2\" class=\"data row1 col2\" >72</td> \n",
       "        <td id=\"T_3ecc844c_e6f5_11e8_abdd_00242c20d943row1_col3\" class=\"data row1 col3\" >48</td> \n",
       "        <td id=\"T_3ecc844c_e6f5_11e8_abdd_00242c20d943row1_col4\" class=\"data row1 col4\" >2</td> \n",
       "        <td id=\"T_3ecc844c_e6f5_11e8_abdd_00242c20d943row1_col5\" class=\"data row1 col5\" >0</td> \n",
       "        <td id=\"T_3ecc844c_e6f5_11e8_abdd_00242c20d943row1_col6\" class=\"data row1 col6\" >15</td> \n",
       "        <td id=\"T_3ecc844c_e6f5_11e8_abdd_00242c20d943row1_col7\" class=\"data row1 col7\" >5</td> \n",
       "        <td id=\"T_3ecc844c_e6f5_11e8_abdd_00242c20d943row1_col8\" class=\"data row1 col8\" >7</td> \n",
       "        <td id=\"T_3ecc844c_e6f5_11e8_abdd_00242c20d943row1_col9\" class=\"data row1 col9\" >4</td> \n",
       "        <td id=\"T_3ecc844c_e6f5_11e8_abdd_00242c20d943row1_col10\" class=\"data row1 col10\" >1</td> \n",
       "        <td id=\"T_3ecc844c_e6f5_11e8_abdd_00242c20d943row1_col11\" class=\"data row1 col11\" >233</td> \n",
       "    </tr>    <tr> \n",
       "        <th id=\"T_3ecc844c_e6f5_11e8_abdd_00242c20d943level0_row2\" class=\"row_heading level0 row2\" rowspan=2>male</th> \n",
       "        <th id=\"T_3ecc844c_e6f5_11e8_abdd_00242c20d943level1_row2\" class=\"row_heading level1 row2\" >0</th> \n",
       "        <td id=\"T_3ecc844c_e6f5_11e8_abdd_00242c20d943row2_col0\" class=\"data row2 col0\" >42</td> \n",
       "        <td id=\"T_3ecc844c_e6f5_11e8_abdd_00242c20d943row2_col1\" class=\"data row2 col1\" >86</td> \n",
       "        <td id=\"T_3ecc844c_e6f5_11e8_abdd_00242c20d943row2_col2\" class=\"data row2 col2\" >294</td> \n",
       "        <td id=\"T_3ecc844c_e6f5_11e8_abdd_00242c20d943row2_col3\" class=\"data row2 col3\" >23</td> \n",
       "        <td id=\"T_3ecc844c_e6f5_11e8_abdd_00242c20d943row2_col4\" class=\"data row2 col4\" >5</td> \n",
       "        <td id=\"T_3ecc844c_e6f5_11e8_abdd_00242c20d943row2_col5\" class=\"data row2 col5\" >6</td> \n",
       "        <td id=\"T_3ecc844c_e6f5_11e8_abdd_00242c20d943row2_col6\" class=\"data row2 col6\" >5</td> \n",
       "        <td id=\"T_3ecc844c_e6f5_11e8_abdd_00242c20d943row2_col7\" class=\"data row2 col7\" >1</td> \n",
       "        <td id=\"T_3ecc844c_e6f5_11e8_abdd_00242c20d943row2_col8\" class=\"data row2 col8\" >4</td> \n",
       "        <td id=\"T_3ecc844c_e6f5_11e8_abdd_00242c20d943row2_col9\" class=\"data row2 col9\" >2</td> \n",
       "        <td id=\"T_3ecc844c_e6f5_11e8_abdd_00242c20d943row2_col10\" class=\"data row2 col10\" >0</td> \n",
       "        <td id=\"T_3ecc844c_e6f5_11e8_abdd_00242c20d943row2_col11\" class=\"data row2 col11\" >468</td> \n",
       "    </tr>    <tr> \n",
       "        <th id=\"T_3ecc844c_e6f5_11e8_abdd_00242c20d943level1_row3\" class=\"row_heading level1 row3\" >1</th> \n",
       "        <td id=\"T_3ecc844c_e6f5_11e8_abdd_00242c20d943row3_col0\" class=\"data row3 col0\" >23</td> \n",
       "        <td id=\"T_3ecc844c_e6f5_11e8_abdd_00242c20d943row3_col1\" class=\"data row3 col1\" >17</td> \n",
       "        <td id=\"T_3ecc844c_e6f5_11e8_abdd_00242c20d943row3_col2\" class=\"data row3 col2\" >42</td> \n",
       "        <td id=\"T_3ecc844c_e6f5_11e8_abdd_00242c20d943row3_col3\" class=\"data row3 col3\" >15</td> \n",
       "        <td id=\"T_3ecc844c_e6f5_11e8_abdd_00242c20d943row3_col4\" class=\"data row3 col4\" >0</td> \n",
       "        <td id=\"T_3ecc844c_e6f5_11e8_abdd_00242c20d943row3_col5\" class=\"data row3 col5\" >5</td> \n",
       "        <td id=\"T_3ecc844c_e6f5_11e8_abdd_00242c20d943row3_col6\" class=\"data row3 col6\" >4</td> \n",
       "        <td id=\"T_3ecc844c_e6f5_11e8_abdd_00242c20d943row3_col7\" class=\"data row3 col7\" >1</td> \n",
       "        <td id=\"T_3ecc844c_e6f5_11e8_abdd_00242c20d943row3_col8\" class=\"data row3 col8\" >0</td> \n",
       "        <td id=\"T_3ecc844c_e6f5_11e8_abdd_00242c20d943row3_col9\" class=\"data row3 col9\" >0</td> \n",
       "        <td id=\"T_3ecc844c_e6f5_11e8_abdd_00242c20d943row3_col10\" class=\"data row3 col10\" >2</td> \n",
       "        <td id=\"T_3ecc844c_e6f5_11e8_abdd_00242c20d943row3_col11\" class=\"data row3 col11\" >109</td> \n",
       "    </tr>    <tr> \n",
       "        <th id=\"T_3ecc844c_e6f5_11e8_abdd_00242c20d943level0_row4\" class=\"row_heading level0 row4\" >All</th> \n",
       "        <th id=\"T_3ecc844c_e6f5_11e8_abdd_00242c20d943level1_row4\" class=\"row_heading level1 row4\" ></th> \n",
       "        <td id=\"T_3ecc844c_e6f5_11e8_abdd_00242c20d943row4_col0\" class=\"data row4 col0\" >77</td> \n",
       "        <td id=\"T_3ecc844c_e6f5_11e8_abdd_00242c20d943row4_col1\" class=\"data row4 col1\" >177</td> \n",
       "        <td id=\"T_3ecc844c_e6f5_11e8_abdd_00242c20d943row4_col2\" class=\"data row4 col2\" >477</td> \n",
       "        <td id=\"T_3ecc844c_e6f5_11e8_abdd_00242c20d943row4_col3\" class=\"data row4 col3\" >86</td> \n",
       "        <td id=\"T_3ecc844c_e6f5_11e8_abdd_00242c20d943row4_col4\" class=\"data row4 col4\" >7</td> \n",
       "        <td id=\"T_3ecc844c_e6f5_11e8_abdd_00242c20d943row4_col5\" class=\"data row4 col5\" >14</td> \n",
       "        <td id=\"T_3ecc844c_e6f5_11e8_abdd_00242c20d943row4_col6\" class=\"data row4 col6\" >24</td> \n",
       "        <td id=\"T_3ecc844c_e6f5_11e8_abdd_00242c20d943row4_col7\" class=\"data row4 col7\" >9</td> \n",
       "        <td id=\"T_3ecc844c_e6f5_11e8_abdd_00242c20d943row4_col8\" class=\"data row4 col8\" >11</td> \n",
       "        <td id=\"T_3ecc844c_e6f5_11e8_abdd_00242c20d943row4_col9\" class=\"data row4 col9\" >6</td> \n",
       "        <td id=\"T_3ecc844c_e6f5_11e8_abdd_00242c20d943row4_col10\" class=\"data row4 col10\" >3</td> \n",
       "        <td id=\"T_3ecc844c_e6f5_11e8_abdd_00242c20d943row4_col11\" class=\"data row4 col11\" >891</td> \n",
       "    </tr></tbody> \n",
       "</table> "
      ],
      "text/plain": [
       "<pandas.io.formats.style.Styler at 0x1f283e2c518>"
      ]
     },
     "execution_count": 44,
     "metadata": {},
     "output_type": "execute_result"
    }
   ],
   "source": [
    "pd.crosstab([df_train.Sex,df_train.Survived],[df_train.Fare_bin,df_train.Pclass], margins=True).style.background_gradient(cmap='autumn_r')"
   ]
  },
  {
   "cell_type": "code",
   "execution_count": 45,
   "metadata": {},
   "outputs": [],
   "source": [
    "# males in Fare_bin = 11 survived\n",
    "df_test.loc[(df_test.Sex=='male')&(df_test.Fare_bin)==11, 'Survived']=1"
   ]
  },
  {
   "cell_type": "markdown",
   "metadata": {},
   "source": [
    "### Part 2: Data wrangling\n",
    "1. building two new dataframes df_train_ml and df_test_ml\n",
    "2. these will have only ordinal features and no missing values so they can used for ML algorithms\n",
    "3. converting categorical to numerical by pd.get_dummies\n",
    "4. dropping all features that seem to be not useful for prediction\n",
    "5. Then use the Standard scaler and apply train/test split\n",
    "\n",
    "\n"
   ]
  },
  {
   "cell_type": "code",
   "execution_count": 46,
   "metadata": {},
   "outputs": [],
   "source": [
    "df_train_ml = df_train.copy()\n",
    "df_test_ml = df_test.copy()\n",
    "df_test_ml = df_test_ml.drop('Survived',axis=1)"
   ]
  },
  {
   "cell_type": "code",
   "execution_count": 47,
   "metadata": {},
   "outputs": [],
   "source": [
    "df_train_ml = pd.get_dummies(df_train_ml, columns=['Sex', 'Embarked', 'Pclass'], drop_first=True)\n",
    "df_train_ml.drop(['PassengerId','Name','Ticket', 'Cabin', 'Age_bin', 'Fare_bin'],axis=1,inplace=True)\n",
    "df_train_ml.dropna(inplace=True)"
   ]
  },
  {
   "cell_type": "code",
   "execution_count": 48,
   "metadata": {},
   "outputs": [],
   "source": [
    "passenger_id = df_test_ml['PassengerId']\n",
    "df_test_ml = pd.get_dummies(df_test_ml,columns=['Sex','Embarked','Pclass'],drop_first=True)\n",
    "df_test_ml.drop(['PassengerId','Name','Ticket', 'Cabin', 'Age_bin', 'Fare_bin'],axis=1,inplace=True)"
   ]
  },
  {
   "cell_type": "code",
   "execution_count": 49,
   "metadata": {},
   "outputs": [
    {
     "data": {
      "text/html": [
       "<div>\n",
       "<style scoped>\n",
       "    .dataframe tbody tr th:only-of-type {\n",
       "        vertical-align: middle;\n",
       "    }\n",
       "\n",
       "    .dataframe tbody tr th {\n",
       "        vertical-align: top;\n",
       "    }\n",
       "\n",
       "    .dataframe thead th {\n",
       "        text-align: right;\n",
       "    }\n",
       "</style>\n",
       "<table border=\"1\" class=\"dataframe\">\n",
       "  <thead>\n",
       "    <tr style=\"text-align: right;\">\n",
       "      <th></th>\n",
       "      <th>Survived</th>\n",
       "      <th>Age</th>\n",
       "      <th>SibSp</th>\n",
       "      <th>Parch</th>\n",
       "      <th>Fare</th>\n",
       "      <th>Sex_male</th>\n",
       "      <th>Embarked_Q</th>\n",
       "      <th>Embarked_S</th>\n",
       "      <th>Pclass_2</th>\n",
       "      <th>Pclass_3</th>\n",
       "    </tr>\n",
       "  </thead>\n",
       "  <tbody>\n",
       "    <tr>\n",
       "      <th>0</th>\n",
       "      <td>0</td>\n",
       "      <td>22.0</td>\n",
       "      <td>1</td>\n",
       "      <td>0</td>\n",
       "      <td>7.2500</td>\n",
       "      <td>1</td>\n",
       "      <td>0</td>\n",
       "      <td>1</td>\n",
       "      <td>0</td>\n",
       "      <td>1</td>\n",
       "    </tr>\n",
       "    <tr>\n",
       "      <th>1</th>\n",
       "      <td>1</td>\n",
       "      <td>38.0</td>\n",
       "      <td>1</td>\n",
       "      <td>0</td>\n",
       "      <td>71.2833</td>\n",
       "      <td>0</td>\n",
       "      <td>0</td>\n",
       "      <td>0</td>\n",
       "      <td>0</td>\n",
       "      <td>0</td>\n",
       "    </tr>\n",
       "    <tr>\n",
       "      <th>2</th>\n",
       "      <td>1</td>\n",
       "      <td>26.0</td>\n",
       "      <td>0</td>\n",
       "      <td>0</td>\n",
       "      <td>7.9250</td>\n",
       "      <td>0</td>\n",
       "      <td>0</td>\n",
       "      <td>1</td>\n",
       "      <td>0</td>\n",
       "      <td>1</td>\n",
       "    </tr>\n",
       "    <tr>\n",
       "      <th>3</th>\n",
       "      <td>1</td>\n",
       "      <td>35.0</td>\n",
       "      <td>1</td>\n",
       "      <td>0</td>\n",
       "      <td>53.1000</td>\n",
       "      <td>0</td>\n",
       "      <td>0</td>\n",
       "      <td>1</td>\n",
       "      <td>0</td>\n",
       "      <td>0</td>\n",
       "    </tr>\n",
       "    <tr>\n",
       "      <th>4</th>\n",
       "      <td>0</td>\n",
       "      <td>35.0</td>\n",
       "      <td>0</td>\n",
       "      <td>0</td>\n",
       "      <td>8.0500</td>\n",
       "      <td>1</td>\n",
       "      <td>0</td>\n",
       "      <td>1</td>\n",
       "      <td>0</td>\n",
       "      <td>1</td>\n",
       "    </tr>\n",
       "    <tr>\n",
       "      <th>6</th>\n",
       "      <td>0</td>\n",
       "      <td>54.0</td>\n",
       "      <td>0</td>\n",
       "      <td>0</td>\n",
       "      <td>51.8625</td>\n",
       "      <td>1</td>\n",
       "      <td>0</td>\n",
       "      <td>1</td>\n",
       "      <td>0</td>\n",
       "      <td>0</td>\n",
       "    </tr>\n",
       "    <tr>\n",
       "      <th>7</th>\n",
       "      <td>0</td>\n",
       "      <td>2.0</td>\n",
       "      <td>3</td>\n",
       "      <td>1</td>\n",
       "      <td>21.0750</td>\n",
       "      <td>1</td>\n",
       "      <td>0</td>\n",
       "      <td>1</td>\n",
       "      <td>0</td>\n",
       "      <td>1</td>\n",
       "    </tr>\n",
       "    <tr>\n",
       "      <th>8</th>\n",
       "      <td>1</td>\n",
       "      <td>27.0</td>\n",
       "      <td>0</td>\n",
       "      <td>2</td>\n",
       "      <td>11.1333</td>\n",
       "      <td>0</td>\n",
       "      <td>0</td>\n",
       "      <td>1</td>\n",
       "      <td>0</td>\n",
       "      <td>1</td>\n",
       "    </tr>\n",
       "    <tr>\n",
       "      <th>9</th>\n",
       "      <td>1</td>\n",
       "      <td>14.0</td>\n",
       "      <td>1</td>\n",
       "      <td>0</td>\n",
       "      <td>30.0708</td>\n",
       "      <td>0</td>\n",
       "      <td>0</td>\n",
       "      <td>0</td>\n",
       "      <td>1</td>\n",
       "      <td>0</td>\n",
       "    </tr>\n",
       "    <tr>\n",
       "      <th>10</th>\n",
       "      <td>1</td>\n",
       "      <td>4.0</td>\n",
       "      <td>1</td>\n",
       "      <td>1</td>\n",
       "      <td>16.7000</td>\n",
       "      <td>0</td>\n",
       "      <td>0</td>\n",
       "      <td>1</td>\n",
       "      <td>0</td>\n",
       "      <td>1</td>\n",
       "    </tr>\n",
       "  </tbody>\n",
       "</table>\n",
       "</div>"
      ],
      "text/plain": [
       "    Survived   Age  SibSp  Parch     Fare  Sex_male  Embarked_Q  Embarked_S  \\\n",
       "0          0  22.0      1      0   7.2500         1           0           1   \n",
       "1          1  38.0      1      0  71.2833         0           0           0   \n",
       "2          1  26.0      0      0   7.9250         0           0           1   \n",
       "3          1  35.0      1      0  53.1000         0           0           1   \n",
       "4          0  35.0      0      0   8.0500         1           0           1   \n",
       "6          0  54.0      0      0  51.8625         1           0           1   \n",
       "7          0   2.0      3      1  21.0750         1           0           1   \n",
       "8          1  27.0      0      2  11.1333         0           0           1   \n",
       "9          1  14.0      1      0  30.0708         0           0           0   \n",
       "10         1   4.0      1      1  16.7000         0           0           1   \n",
       "\n",
       "    Pclass_2  Pclass_3  \n",
       "0          0         1  \n",
       "1          0         0  \n",
       "2          0         1  \n",
       "3          0         0  \n",
       "4          0         1  \n",
       "6          0         0  \n",
       "7          0         1  \n",
       "8          0         1  \n",
       "9          1         0  \n",
       "10         0         1  "
      ]
     },
     "execution_count": 49,
     "metadata": {},
     "output_type": "execute_result"
    }
   ],
   "source": [
    "df_train_ml.head(10)"
   ]
  },
  {
   "cell_type": "code",
   "execution_count": 50,
   "metadata": {},
   "outputs": [
    {
     "name": "stdout",
     "output_type": "stream",
     "text": [
      "<class 'pandas.core.frame.DataFrame'>\n",
      "Int64Index: 714 entries, 0 to 890\n",
      "Data columns (total 10 columns):\n",
      "Survived      714 non-null int64\n",
      "Age           714 non-null float64\n",
      "SibSp         714 non-null int64\n",
      "Parch         714 non-null int64\n",
      "Fare          714 non-null float64\n",
      "Sex_male      714 non-null uint8\n",
      "Embarked_Q    714 non-null uint8\n",
      "Embarked_S    714 non-null uint8\n",
      "Pclass_2      714 non-null uint8\n",
      "Pclass_3      714 non-null uint8\n",
      "dtypes: float64(2), int64(3), uint8(5)\n",
      "memory usage: 37.0 KB\n"
     ]
    }
   ],
   "source": [
    "df_train_ml.info()"
   ]
  },
  {
   "cell_type": "code",
   "execution_count": 51,
   "metadata": {},
   "outputs": [
    {
     "data": {
      "text/html": [
       "<div>\n",
       "<style scoped>\n",
       "    .dataframe tbody tr th:only-of-type {\n",
       "        vertical-align: middle;\n",
       "    }\n",
       "\n",
       "    .dataframe tbody tr th {\n",
       "        vertical-align: top;\n",
       "    }\n",
       "\n",
       "    .dataframe thead th {\n",
       "        text-align: right;\n",
       "    }\n",
       "</style>\n",
       "<table border=\"1\" class=\"dataframe\">\n",
       "  <thead>\n",
       "    <tr style=\"text-align: right;\">\n",
       "      <th></th>\n",
       "      <th>Age</th>\n",
       "      <th>SibSp</th>\n",
       "      <th>Parch</th>\n",
       "      <th>Fare</th>\n",
       "      <th>Sex_male</th>\n",
       "      <th>Embarked_Q</th>\n",
       "      <th>Embarked_S</th>\n",
       "      <th>Pclass_2</th>\n",
       "      <th>Pclass_3</th>\n",
       "    </tr>\n",
       "  </thead>\n",
       "  <tbody>\n",
       "    <tr>\n",
       "      <th>0</th>\n",
       "      <td>34.5</td>\n",
       "      <td>0</td>\n",
       "      <td>0</td>\n",
       "      <td>7.8292</td>\n",
       "      <td>1</td>\n",
       "      <td>1</td>\n",
       "      <td>0</td>\n",
       "      <td>0</td>\n",
       "      <td>1</td>\n",
       "    </tr>\n",
       "    <tr>\n",
       "      <th>1</th>\n",
       "      <td>47.0</td>\n",
       "      <td>1</td>\n",
       "      <td>0</td>\n",
       "      <td>7.0000</td>\n",
       "      <td>0</td>\n",
       "      <td>0</td>\n",
       "      <td>1</td>\n",
       "      <td>0</td>\n",
       "      <td>1</td>\n",
       "    </tr>\n",
       "    <tr>\n",
       "      <th>2</th>\n",
       "      <td>62.0</td>\n",
       "      <td>0</td>\n",
       "      <td>0</td>\n",
       "      <td>9.6875</td>\n",
       "      <td>1</td>\n",
       "      <td>1</td>\n",
       "      <td>0</td>\n",
       "      <td>1</td>\n",
       "      <td>0</td>\n",
       "    </tr>\n",
       "    <tr>\n",
       "      <th>3</th>\n",
       "      <td>27.0</td>\n",
       "      <td>0</td>\n",
       "      <td>0</td>\n",
       "      <td>8.6625</td>\n",
       "      <td>1</td>\n",
       "      <td>0</td>\n",
       "      <td>1</td>\n",
       "      <td>0</td>\n",
       "      <td>1</td>\n",
       "    </tr>\n",
       "    <tr>\n",
       "      <th>4</th>\n",
       "      <td>22.0</td>\n",
       "      <td>1</td>\n",
       "      <td>1</td>\n",
       "      <td>12.2875</td>\n",
       "      <td>0</td>\n",
       "      <td>0</td>\n",
       "      <td>1</td>\n",
       "      <td>0</td>\n",
       "      <td>1</td>\n",
       "    </tr>\n",
       "  </tbody>\n",
       "</table>\n",
       "</div>"
      ],
      "text/plain": [
       "    Age  SibSp  Parch     Fare  Sex_male  Embarked_Q  Embarked_S  Pclass_2  \\\n",
       "0  34.5      0      0   7.8292         1           1           0         0   \n",
       "1  47.0      1      0   7.0000         0           0           1         0   \n",
       "2  62.0      0      0   9.6875         1           1           0         1   \n",
       "3  27.0      0      0   8.6625         1           0           1         0   \n",
       "4  22.0      1      1  12.2875         0           0           1         0   \n",
       "\n",
       "   Pclass_3  \n",
       "0         1  \n",
       "1         1  \n",
       "2         0  \n",
       "3         1  \n",
       "4         1  "
      ]
     },
     "execution_count": 51,
     "metadata": {},
     "output_type": "execute_result"
    }
   ],
   "source": [
    "df_test_ml.head()"
   ]
  },
  {
   "cell_type": "code",
   "execution_count": 52,
   "metadata": {},
   "outputs": [
    {
     "name": "stdout",
     "output_type": "stream",
     "text": [
      "<class 'pandas.core.frame.DataFrame'>\n",
      "RangeIndex: 418 entries, 0 to 417\n",
      "Data columns (total 9 columns):\n",
      "Age           332 non-null float64\n",
      "SibSp         418 non-null int64\n",
      "Parch         418 non-null int64\n",
      "Fare          417 non-null float64\n",
      "Sex_male      418 non-null uint8\n",
      "Embarked_Q    418 non-null uint8\n",
      "Embarked_S    418 non-null uint8\n",
      "Pclass_2      418 non-null uint8\n",
      "Pclass_3      418 non-null uint8\n",
      "dtypes: float64(2), int64(2), uint8(5)\n",
      "memory usage: 15.2 KB\n"
     ]
    }
   ],
   "source": [
    "df_test_ml.info()"
   ]
  },
  {
   "cell_type": "markdown",
   "metadata": {},
   "source": [
    "###### Correlation Matrix"
   ]
  },
  {
   "cell_type": "code",
   "execution_count": 53,
   "metadata": {},
   "outputs": [
    {
     "data": {
      "image/png": "[encoded data removed]",
      "text/plain": [
       "<matplotlib.figure.Figure at 0x1f2842c2c88>"
      ]
     },
     "metadata": {},
     "output_type": "display_data"
    }
   ],
   "source": [
    "corr = df_train_ml.corr()\n",
    "f,ax = plt.subplots(figsize=(9,6))\n",
    "sns.heatmap(corr, annot= True, linewidths=1.5, fmt = ' .2f',ax=ax)\n",
    "plt.show()"
   ]
  },
  {
   "cell_type": "markdown",
   "metadata": {},
   "source": [
    "Survived and Fare positive correlated, Survived and Sex_male negatively correlated.\n"
   ]
  },
  {
   "cell_type": "markdown",
   "metadata": {},
   "source": [
    "Also, Survived and Pclass_3 negatively correlated. SibSp and Parch correlated"
   ]
  },
  {
   "cell_type": "markdown",
   "metadata": {},
   "source": [
    "### Standard Scaler"
   ]
  },
  {
   "cell_type": "code",
   "execution_count": 62,
   "metadata": {},
   "outputs": [
    {
     "name": "stderr",
     "output_type": "stream",
     "text": [
      "C:\\Users\\Admin\\Anaconda3\\lib\\site-packages\\sklearn\\preprocessing\\data.py:617: DataConversionWarning: Data with input dtype uint8, int64, float64 were all converted to float64 by StandardScaler.\n",
      "  return self.partial_fit(X, y)\n",
      "C:\\Users\\Admin\\Anaconda3\\lib\\site-packages\\ipykernel_launcher.py:6: DataConversionWarning: Data with input dtype uint8, int64, float64 were all converted to float64 by StandardScaler.\n",
      "  \n",
      "C:\\Users\\Admin\\Anaconda3\\lib\\site-packages\\ipykernel_launcher.py:12: DataConversionWarning: Data with input dtype uint8, int64, float64 were all converted to float64 by StandardScaler.\n",
      "  if sys.path[0] == '':\n"
     ]
    }
   ],
   "source": [
    "from sklearn.preprocessing import StandardScaler\n",
    "scaler = StandardScaler()\n",
    "\n",
    "# for df_train_ml\n",
    "scaler.fit(df_train_ml.drop('Survived',axis=1))\n",
    "scaled_features = scaler.transform(df_train_ml.drop('Survived',axis=1))\n",
    "df_train_ml_sc = pd.DataFrame(scaled_features, columns=df_train_ml.columns[:-1])\n",
    "\n",
    "# for df_test_ml\n",
    "df_test_ml.fillna(df_test_ml.mean(), inplace=True)\n",
    "# scaler.fit(df_test_ml)\n",
    "scaled_features = scaler.transform(df_test_ml)\n",
    "df_test_ml_sc = pd.DataFrame(scaled_features, columns=df_test_ml.columns)"
   ]
  },
  {
   "cell_type": "code",
   "execution_count": 63,
   "metadata": {},
   "outputs": [],
   "source": [
    "from sklearn.model_selection import train_test_split\n",
    "X_train, X_test, y_train, y_test = train_test_split(df_train_ml.drop('Survived',axis=1), df_train_ml['Survived'], test_size=0.30, random_state=101)\n",
    "X_train_sc, X_test_sc, y_train_sc, y_test_sc = train_test_split(df_train_ml_sc, df_train_ml['Survived'], test_size=0.30, random_state=101)"
   ]
  },
  {
   "cell_type": "code",
   "execution_count": 64,
   "metadata": {},
   "outputs": [],
   "source": [
    "# unscaled\n",
    "X_train_all = df_train_ml.drop('Survived',axis=1)\n",
    "y_train_all = df_train_ml['Survived']\n",
    "X_test_all = df_test_ml\n",
    "\n",
    "#scaled\n",
    "X_train_all_sc = df_train_ml_sc\n",
    "y_train_all_sc = df_train_ml['Survived']\n",
    "X_test_all_sc = df_test_ml_sc"
   ]
  },
  {
   "cell_type": "markdown",
   "metadata": {},
   "source": [
    "#### fillna: fill nan with mean values for that column"
   ]
  },
  {
   "cell_type": "code",
   "execution_count": 65,
   "metadata": {},
   "outputs": [
    {
     "name": "stdout",
     "output_type": "stream",
     "text": [
      "*\n"
     ]
    }
   ],
   "source": [
    "X_test_all.fillna(X_test_all.mean(), inplace=True)\n",
    "print('*')"
   ]
  },
  {
   "cell_type": "markdown",
   "metadata": {},
   "source": [
    "##### Part 3: Scikit-learn basic ML algorithms an dcomparison of model results\n"
   ]
  },
  {
   "cell_type": "markdown",
   "metadata": {},
   "source": [
    "Test simple sklearn models and compared by metrics"
   ]
  },
  {
   "cell_type": "markdown",
   "metadata": {},
   "source": [
    "We test the following classifiers from scikit-learn"
   ]
  },
  {
   "cell_type": "markdown",
   "metadata": {},
   "source": [
    "Logistic regression\n",
    "\n",
    "Gaussian Naive Bayers \n",
    "\n",
    "Knearest neighbors KNN\n",
    "\n",
    "Decision tree classifier\n",
    "\n",
    "Random forest classifier\n",
    "\n",
    "SVM classifier"
   ]
  },
  {
   "cell_type": "markdown",
   "metadata": {},
   "source": [
    "##### For comparision of the results we use these metrics:\n",
    "\n",
    "acccuracy_score, classification_report, confusion_matrix\n",
    "\n",
    "##### First we apply the data from test/train split to get a first overview of the model performance. Later we use the k fold cross validation which gives a better estimate for out of sample data"
   ]
  },
  {
   "cell_type": "code",
   "execution_count": 66,
   "metadata": {},
   "outputs": [],
   "source": [
    "from sklearn.metrics import accuracy_score, classification_report, confusion_matrix"
   ]
  },
  {
   "cell_type": "markdown",
   "metadata": {},
   "source": [
    "Logistic Regerssion"
   ]
  },
  {
   "cell_type": "code",
   "execution_count": 68,
   "metadata": {},
   "outputs": [
    {
     "name": "stdout",
     "output_type": "stream",
     "text": [
      "[[107  16]\n",
      " [ 32  60]]\n",
      "              precision    recall  f1-score   support\n",
      "\n",
      "           0       0.77      0.87      0.82       123\n",
      "           1       0.79      0.65      0.71        92\n",
      "\n",
      "   micro avg       0.78      0.78      0.78       215\n",
      "   macro avg       0.78      0.76      0.77       215\n",
      "weighted avg       0.78      0.78      0.77       215\n",
      "\n",
      "0.7767441860465116\n"
     ]
    },
    {
     "name": "stderr",
     "output_type": "stream",
     "text": [
      "C:\\Users\\Admin\\Anaconda3\\lib\\site-packages\\sklearn\\linear_model\\logistic.py:432: FutureWarning: Default solver will be changed to 'lbfgs' in 0.22. Specify a solver to silence this warning.\n",
      "  FutureWarning)\n"
     ]
    }
   ],
   "source": [
    "from sklearn.linear_model import LogisticRegression\n",
    "logreg = LogisticRegression()\n",
    "logreg.fit(X_train,y_train)\n",
    "pred_logreg = logreg.predict(X_test)\n",
    "\n",
    "print(confusion_matrix(y_test, pred_logreg))\n",
    "print(classification_report(y_test,pred_logreg))\n",
    "print(accuracy_score(y_test, pred_logreg))\n"
   ]
  },
  {
   "cell_type": "code",
   "execution_count": 70,
   "metadata": {},
   "outputs": [
    {
     "name": "stderr",
     "output_type": "stream",
     "text": [
      "C:\\Users\\Admin\\Anaconda3\\lib\\site-packages\\sklearn\\linear_model\\logistic.py:432: FutureWarning: Default solver will be changed to 'lbfgs' in 0.22. Specify a solver to silence this warning.\n",
      "  FutureWarning)\n"
     ]
    }
   ],
   "source": [
    "logreg.fit(X_train_all,y_train_all)\n",
    "pred_all_logreg = logreg.predict(X_test_all)"
   ]
  },
  {
   "cell_type": "code",
   "execution_count": 71,
   "metadata": {},
   "outputs": [],
   "source": [
    "sub_logreg = pd.DataFrame()"
   ]
  },
  {
   "cell_type": "code",
   "execution_count": 72,
   "metadata": {},
   "outputs": [],
   "source": [
    "sub_logreg['PassengerId'] = df_test['PassengerId']\n",
    "sub_logreg['Survived'] = pred_all_logreg\n",
    "# sub_logmodel.to_csv('logmodel.csv, index=False)"
   ]
  },
  {
   "cell_type": "markdown",
   "metadata": {},
   "source": [
    "Gaussian Naive Bayes\n"
   ]
  },
  {
   "cell_type": "code",
   "execution_count": 73,
   "metadata": {},
   "outputs": [
    {
     "name": "stdout",
     "output_type": "stream",
     "text": [
      "[[107  16]\n",
      " [ 36  56]]\n",
      "              precision    recall  f1-score   support\n",
      "\n",
      "           0       0.75      0.87      0.80       123\n",
      "           1       0.78      0.61      0.68        92\n",
      "\n",
      "   micro avg       0.76      0.76      0.76       215\n",
      "   macro avg       0.76      0.74      0.74       215\n",
      "weighted avg       0.76      0.76      0.75       215\n",
      "\n",
      "0.7581395348837209\n"
     ]
    }
   ],
   "source": [
    "from sklearn.naive_bayes import GaussianNB\n",
    "gnb = GaussianNB()\n",
    "gnb.fit(X_train,y_train)\n",
    "pred_gnb = gnb.predict(X_test)\n",
    "\n",
    "print(confusion_matrix(y_test, pred_gnb))\n",
    "print(classification_report(y_test,pred_gnb))\n",
    "print(accuracy_score(y_test,pred_gnb))"
   ]
  },
  {
   "cell_type": "markdown",
   "metadata": {},
   "source": [
    "#### KNN-KNeighborsClassifier"
   ]
  },
  {
   "cell_type": "code",
   "execution_count": 74,
   "metadata": {},
   "outputs": [
    {
     "data": {
      "text/plain": [
       "KNeighborsClassifier(algorithm='auto', leaf_size=30, metric='minkowski',\n",
       "           metric_params=None, n_jobs=None, n_neighbors=20, p=2,\n",
       "           weights='uniform')"
      ]
     },
     "execution_count": 74,
     "metadata": {},
     "output_type": "execute_result"
    }
   ],
   "source": [
    "from sklearn.neighbors import KNeighborsClassifier\n",
    "knn = KNeighborsClassifier(n_neighbors=20)\n",
    "knn.fit(X_train_sc,y_train_sc)"
   ]
  },
  {
   "cell_type": "code",
   "execution_count": 75,
   "metadata": {},
   "outputs": [
    {
     "name": "stdout",
     "output_type": "stream",
     "text": [
      "[[71 52]\n",
      " [26 66]]\n",
      "              precision    recall  f1-score   support\n",
      "\n",
      "           0       0.73      0.58      0.65       123\n",
      "           1       0.56      0.72      0.63        92\n",
      "\n",
      "   micro avg       0.64      0.64      0.64       215\n",
      "   macro avg       0.65      0.65      0.64       215\n",
      "weighted avg       0.66      0.64      0.64       215\n",
      "\n",
      "0.6372093023255814\n"
     ]
    }
   ],
   "source": [
    "pred_knn = knn.predict(X_test)\n",
    "print(confusion_matrix(y_test,pred_knn))\n",
    "print(classification_report(y_test,pred_knn))\n",
    "print(accuracy_score(y_test,pred_knn))"
   ]
  },
  {
   "cell_type": "code",
   "execution_count": 76,
   "metadata": {},
   "outputs": [
    {
     "name": "stdout",
     "output_type": "stream",
     "text": [
      "[[102  21]\n",
      " [ 50  42]]\n",
      "              precision    recall  f1-score   support\n",
      "\n",
      "           0       0.67      0.83      0.74       123\n",
      "           1       0.67      0.46      0.54        92\n",
      "\n",
      "   micro avg       0.67      0.67      0.67       215\n",
      "   macro avg       0.67      0.64      0.64       215\n",
      "weighted avg       0.67      0.67      0.66       215\n",
      "\n",
      "0.6697674418604651\n"
     ]
    }
   ],
   "source": [
    "knn.fit(X_train_all,y_train_all)\n",
    "pred_all_knn = knn.predict(X_test)\n",
    "print(confusion_matrix(y_test,pred_all_knn))\n",
    "print(classification_report(y_test,pred_all_knn))\n",
    "print(accuracy_score(y_test,pred_all_knn))"
   ]
  },
  {
   "cell_type": "markdown",
   "metadata": {},
   "source": [
    "##### Decision Tree Classifer\n",
    "\n"
   ]
  },
  {
   "cell_type": "code",
   "execution_count": 77,
   "metadata": {},
   "outputs": [
    {
     "data": {
      "text/plain": [
       "DecisionTreeClassifier(class_weight=None, criterion='gini', max_depth=None,\n",
       "            max_features=None, max_leaf_nodes=None,\n",
       "            min_impurity_decrease=0.0, min_impurity_split=None,\n",
       "            min_samples_leaf=1, min_samples_split=2,\n",
       "            min_weight_fraction_leaf=0.0, presort=False, random_state=None,\n",
       "            splitter='best')"
      ]
     },
     "execution_count": 77,
     "metadata": {},
     "output_type": "execute_result"
    }
   ],
   "source": [
    "from sklearn.tree import DecisionTreeClassifier\n",
    "dtree = DecisionTreeClassifier()\n",
    "dtree.fit(X_train,y_train)"
   ]
  },
  {
   "cell_type": "code",
   "execution_count": 78,
   "metadata": {},
   "outputs": [
    {
     "name": "stdout",
     "output_type": "stream",
     "text": [
      "              precision    recall  f1-score   support\n",
      "\n",
      "           0       0.75      0.82      0.78       123\n",
      "           1       0.72      0.63      0.67        92\n",
      "\n",
      "   micro avg       0.74      0.74      0.74       215\n",
      "   macro avg       0.74      0.73      0.73       215\n",
      "weighted avg       0.74      0.74      0.74       215\n",
      "\n",
      "0.6697674418604651\n"
     ]
    }
   ],
   "source": [
    "pred_dtree = dtree.predict(X_test)\n",
    "print(classification_report(y_test,pred_dtree))\n",
    "print(accuracy_score(y_test,pred_all_knn))"
   ]
  },
  {
   "cell_type": "code",
   "execution_count": 81,
   "metadata": {},
   "outputs": [
    {
     "name": "stdout",
     "output_type": "stream",
     "text": [
      "              precision    recall  f1-score   support\n",
      "\n",
      "           0       0.74      0.89      0.81       123\n",
      "           1       0.81      0.59      0.68        92\n",
      "\n",
      "   micro avg       0.76      0.76      0.76       215\n",
      "   macro avg       0.77      0.74      0.75       215\n",
      "weighted avg       0.77      0.76      0.76       215\n",
      "\n",
      "0.7627906976744186\n"
     ]
    }
   ],
   "source": [
    "dtree_2 = DecisionTreeClassifier(max_features=7, max_depth=6, min_samples_split=8)\n",
    "dtree_2.fit(X_train, y_train)\n",
    "pred_dtree_2 = dtree_2.predict(X_test)\n",
    "print(classification_report(y_test,pred_dtree_2))\n",
    "print(accuracy_score(y_test,pred_dtree_2))"
   ]
  },
  {
   "cell_type": "code",
   "execution_count": 83,
   "metadata": {},
   "outputs": [],
   "source": [
    "dtree_2.fit(X_train_all, y_train_all)\n",
    "pred_all_dtree2 = dtree_2.predict(X_test)"
   ]
  },
  {
   "cell_type": "code",
   "execution_count": 84,
   "metadata": {},
   "outputs": [
    {
     "name": "stdout",
     "output_type": "stream",
     "text": [
      "0.8232558139534883\n"
     ]
    }
   ],
   "source": [
    "print(accuracy_score(y_test,pred_all_dtree2))"
   ]
  },
  {
   "cell_type": "markdown",
   "metadata": {},
   "source": [
    "###### Random Forest Classifier\n"
   ]
  },
  {
   "cell_type": "code",
   "execution_count": 85,
   "metadata": {},
   "outputs": [
    {
     "name": "stderr",
     "output_type": "stream",
     "text": [
      "C:\\Users\\Admin\\Anaconda3\\lib\\site-packages\\sklearn\\ensemble\\forest.py:248: FutureWarning: The default value of n_estimators will change from 10 in version 0.20 to 100 in 0.22.\n",
      "  \"10 in version 0.20 to 100 in 0.22.\", FutureWarning)\n"
     ]
    },
    {
     "data": {
      "text/plain": [
       "RandomForestClassifier(bootstrap=True, class_weight=None, criterion='gini',\n",
       "            max_depth=6, max_features=7, max_leaf_nodes=None,\n",
       "            min_impurity_decrease=0.0, min_impurity_split=None,\n",
       "            min_samples_leaf=1, min_samples_split=2,\n",
       "            min_weight_fraction_leaf=0.0, n_estimators=10, n_jobs=None,\n",
       "            oob_score=False, random_state=None, verbose=0,\n",
       "            warm_start=False)"
      ]
     },
     "execution_count": 85,
     "metadata": {},
     "output_type": "execute_result"
    }
   ],
   "source": [
    "from sklearn.ensemble import RandomForestClassifier\n",
    "rfc = RandomForestClassifier(max_depth=6,max_features=7)\n",
    "rfc.fit(X_train,y_train)"
   ]
  },
  {
   "cell_type": "code",
   "execution_count": 88,
   "metadata": {},
   "outputs": [
    {
     "name": "stdout",
     "output_type": "stream",
     "text": [
      "[[114   9]\n",
      " [ 36  56]]\n",
      "              precision    recall  f1-score   support\n",
      "\n",
      "           0       0.76      0.93      0.84       123\n",
      "           1       0.86      0.61      0.71        92\n",
      "\n",
      "   micro avg       0.79      0.79      0.79       215\n",
      "   macro avg       0.81      0.77      0.77       215\n",
      "weighted avg       0.80      0.79      0.78       215\n",
      "\n",
      "0.7906976744186046\n"
     ]
    }
   ],
   "source": [
    "pred_rfc = rfc.predict(X_test)\n",
    "print(confusion_matrix(y_test,pred_rfc))\n",
    "print(classification_report(y_test,pred_rfc))\n",
    "print(accuracy_score(y_test,pred_rfc))"
   ]
  },
  {
   "cell_type": "code",
   "execution_count": 89,
   "metadata": {},
   "outputs": [],
   "source": [
    "rfc.fit(X_train_all,y_train_all)\n",
    "pred_all_rfc = rfc.predict(X_test)"
   ]
  },
  {
   "cell_type": "code",
   "execution_count": 90,
   "metadata": {},
   "outputs": [
    {
     "name": "stdout",
     "output_type": "stream",
     "text": [
      "[[120   3]\n",
      " [ 20  72]]\n",
      "              precision    recall  f1-score   support\n",
      "\n",
      "           0       0.86      0.98      0.91       123\n",
      "           1       0.96      0.78      0.86        92\n",
      "\n",
      "   micro avg       0.89      0.89      0.89       215\n",
      "   macro avg       0.91      0.88      0.89       215\n",
      "weighted avg       0.90      0.89      0.89       215\n",
      "\n",
      "0.8930232558139535\n"
     ]
    }
   ],
   "source": [
    "print(confusion_matrix(y_test,pred_all_rfc))\n",
    "print(classification_report(y_test,pred_all_rfc))\n",
    "print(accuracy_score(y_test,pred_all_rfc))"
   ]
  },
  {
   "cell_type": "markdown",
   "metadata": {},
   "source": [
    "### SVM"
   ]
  },
  {
   "cell_type": "code",
   "execution_count": 91,
   "metadata": {},
   "outputs": [
    {
     "data": {
      "text/plain": [
       "SVC(C=100, cache_size=200, class_weight=None, coef0=0.0,\n",
       "  decision_function_shape='ovr', degree=3, gamma=0.01, kernel='rbf',\n",
       "  max_iter=-1, probability=False, random_state=None, shrinking=True,\n",
       "  tol=0.001, verbose=False)"
      ]
     },
     "execution_count": 91,
     "metadata": {},
     "output_type": "execute_result"
    }
   ],
   "source": [
    "from sklearn.svm import SVC\n",
    "svc = SVC(gamma=0.01,C=100)# probability= True\n",
    "svc.fit(X_train_sc,y_train_sc)"
   ]
  },
  {
   "cell_type": "code",
   "execution_count": 94,
   "metadata": {},
   "outputs": [
    {
     "name": "stdout",
     "output_type": "stream",
     "text": [
      "[[116   7]\n",
      " [ 34  58]]\n",
      "              precision    recall  f1-score   support\n",
      "\n",
      "           0       0.77      0.94      0.85       123\n",
      "           1       0.89      0.63      0.74        92\n",
      "\n",
      "   micro avg       0.81      0.81      0.81       215\n",
      "   macro avg       0.83      0.79      0.79       215\n",
      "weighted avg       0.82      0.81      0.80       215\n",
      "\n",
      "0.8093023255813954\n"
     ]
    }
   ],
   "source": [
    "pred_svc = svc.predict(X_test_sc)\n",
    "print(confusion_matrix(y_test,pred_svc))\n",
    "print(classification_report(y_test,pred_svc))\n",
    "print(accuracy_score(y_test,pred_svc))"
   ]
  },
  {
   "cell_type": "code",
   "execution_count": 96,
   "metadata": {},
   "outputs": [],
   "source": [
    "svc.fit(X_train_all_sc, y_train_all_sc)\n",
    "pred_all_svc = svc.predict(X_test_all_sc)"
   ]
  },
  {
   "cell_type": "markdown",
   "metadata": {},
   "source": [
    "#### k forld cross_validation\n",
    "This algorithm splits the data into k sets and then makes k fits using every set k-1 times as training and one time as test data\n",
    " \n",
    "It leads to a better estimate for out of sample data than simple train test split"
   ]
  },
  {
   "cell_type": "markdown",
   "metadata": {},
   "source": [
    "for SVM classifier"
   ]
  },
  {
   "cell_type": "code",
   "execution_count": 113,
   "metadata": {},
   "outputs": [],
   "source": [
    "from sklearn.model_selection import cross_val_score\n",
    "\n"
   ]
  },
  {
   "cell_type": "code",
   "execution_count": 115,
   "metadata": {},
   "outputs": [
    {
     "name": "stdout",
     "output_type": "stream",
     "text": [
      "[0.81944444 0.80555556 0.76388889 0.875      0.81690141 0.8028169\n",
      " 0.8028169  0.73239437 0.88732394 0.84507042]\n",
      "0.8151212832550861\n"
     ]
    }
   ],
   "source": [
    "scores_svc = cross_val_score(svc, X_train_all_sc, y_train_all_sc,\n",
    "                           cv=10,scoring='accuracy')\n",
    "print(scores_svc)\n",
    "print(scores_svc.mean())"
   ]
  },
  {
   "cell_type": "code",
   "execution_count": 116,
   "metadata": {},
   "outputs": [
    {
     "name": "stdout",
     "output_type": "stream",
     "text": [
      "[0.75       0.76388889 0.75       0.88888889 0.81690141 0.81690141\n",
      " 0.85915493 0.76056338 0.85915493 0.85915493]\n",
      "0.8124608763693271\n"
     ]
    }
   ],
   "source": [
    "scores_rfc = cross_val_score(rfc, X_train_all_sc, y_train_all_sc,\n",
    "                           cv=10,scoring='accuracy')\n",
    "print(scores_rfc)\n",
    "print(scores_rfc.mean())"
   ]
  },
  {
   "cell_type": "code",
   "execution_count": 117,
   "metadata": {},
   "outputs": [
    {
     "name": "stdout",
     "output_type": "stream",
     "text": [
      "[0.75       0.79166667 0.76388889 0.80555556 0.8028169  0.81690141\n",
      " 0.81690141 0.8028169  0.8028169  0.83098592]\n",
      "0.798435054773083\n"
     ]
    }
   ],
   "source": [
    "scores_dtree_2 = cross_val_score(dtree_2, X_train_all_sc, y_train_all_sc, cv=10, scoring='accuracy')\n",
    "print(scores_dtree_2)\n",
    "print(scores_dtree_2.mean())"
   ]
  },
  {
   "cell_type": "code",
   "execution_count": 118,
   "metadata": {},
   "outputs": [
    {
     "name": "stdout",
     "output_type": "stream",
     "text": [
      "dtree_2 :  0.798435054773083\n",
      "rfc     :  0.8124608763693271\n",
      "svc     :  0.8151212832550861\n"
     ]
    }
   ],
   "source": [
    "print(\"dtree_2 : \" , scores_dtree_2.mean())\n",
    "print(\"rfc     : \" , scores_rfc.mean())\n",
    "print(\"svc     : \" , scores_svc.mean())"
   ]
  },
  {
   "cell_type": "code",
   "execution_count": null,
   "metadata": {},
   "outputs": [],
   "source": []
  }
 ],
 "metadata": {
  "kernelspec": {
   "display_name": "Python 3",
   "language": "python",
   "name": "python3"
  },
  "language_info": {
   "codemirror_mode": {
    "name": "ipython",
    "version": 3
   },
   "file_extension": ".py",
   "mimetype": "text/x-python",
   "name": "python",
   "nbconvert_exporter": "python",
   "pygments_lexer": "ipython3",
   "version": "3.6.4"
  }
 },
 "nbformat": 4,
 "nbformat_minor": 2
}
